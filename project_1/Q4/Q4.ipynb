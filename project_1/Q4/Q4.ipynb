{
 "cells": [
  {
   "cell_type": "markdown",
   "id": "bce8c117462d5f5a",
   "metadata": {},
   "source": [
    "## Import parqet files"
   ]
  },
  {
   "cell_type": "code",
   "execution_count": 1,
   "id": "initial_id",
   "metadata": {
    "ExecuteTime": {
     "end_time": "2025-03-30T23:54:04.029473Z",
     "start_time": "2025-03-30T23:54:03.829229Z"
    }
   },
   "outputs": [
    {
     "name": "stdout",
     "output_type": "stream",
     "text": [
      "All data loaded from CSV.\n",
      "Index(['Time', 'RecordID', 'Age', 'BUN', 'Creatinine', 'GCS', 'Gender',\n",
      "       'Glucose', 'HCO3', 'HCT', 'HR', 'Height', 'ICUType', 'K', 'Mg',\n",
      "       'NIDiasABP', 'NIMAP', 'NISysABP', 'Na', 'Platelets', 'RespRate', 'Temp',\n",
      "       'Urine', 'WBC', 'Weight', 'DiasABP', 'FiO2', 'MAP', 'MechVent', 'PaCO2',\n",
      "       'PaO2', 'SaO2', 'SysABP', 'pH', 'ALP', 'ALT', 'AST', 'Albumin',\n",
      "       'Bilirubin', 'Lactate', 'Cholesterol', 'TroponinI', 'TroponinT'],\n",
      "      dtype='object')\n"
     ]
    }
   ],
   "source": [
    "from numpy.random import RandomState\n",
    "from pandas.core.common import random_state\n",
    "# Load data from parquet file\n",
    "import pandas as pd\n",
    "import numpy as np\n",
    "\n",
    "PROCESSED_DATA_DIR = \"\"\n",
    "\n",
    "# Load time series data\n",
    "df_a = pd.read_csv(\"df_a.csv\")\n",
    "df_b = pd.read_csv(\"df_b.csv\")\n",
    "df_c = pd.read_csv(\"df_c.csv\")\n",
    "\n",
    "# Load outcome data\n",
    "death_a = pd.read_csv(\"death_a.csv\")\n",
    "death_b = pd.read_csv(\"death_b.csv\")\n",
    "death_c = pd.read_csv(\"death_c.csv\")\n",
    "\n",
    "print(\"All data loaded from CSV.\")\n",
    "print(df_a.columns)\n"
   ]
  },
  {
   "cell_type": "markdown",
   "id": "c3a99f07d711c2c9",
   "metadata": {},
   "source": [
    "### Setting environment variables"
   ]
  },
  {
   "cell_type": "code",
   "execution_count": 1,
   "id": "549cccb63d993749",
   "metadata": {
    "ExecuteTime": {
     "end_time": "2025-03-30T23:54:04.050093Z",
     "start_time": "2025-03-30T23:54:04.044885Z"
    }
   },
   "outputs": [],
   "source": [
    "run_efficient = True\n",
    "#llm_model = 'deepseek-r1:7b'\n",
    "#llm_model = 'llama3.2:3b'\n",
    "llm_model = 'gemma2:9b'\n",
    "device_map = \"cpu\" # or \"cuda\""
   ]
  },
  {
   "cell_type": "markdown",
   "id": "37ca8187f17e31ad",
   "metadata": {},
   "source": [
    "### Checkout environment and assure that everything runs smoothly"
   ]
  },
  {
   "cell_type": "code",
   "execution_count": 6,
   "id": "7c48eaac4ee86400",
   "metadata": {
    "ExecuteTime": {
     "end_time": "2025-03-30T23:54:19.750140Z",
     "start_time": "2025-03-30T23:54:04.229504Z"
    }
   },
   "outputs": [
    {
     "name": "stdout",
     "output_type": "stream",
     "text": [
      "Blue light scatters more than other colors in the atmosphere, making the sky appear blue.  \n",
      "\n"
     ]
    },
    {
     "data": {
      "text/plain": [
       "array([[ 0.00499931, -0.01322783, -0.0154234 , ...,  0.01464237,\n",
       "         0.01139997, -0.0161528 ]])"
      ]
     },
     "execution_count": 6,
     "metadata": {},
     "output_type": "execute_result"
    }
   ],
   "source": [
    "# Ollama test\n",
    "import numpy as np\n",
    "from ollama import chat\n",
    "from ollama import ChatResponse\n",
    "\n",
    "response: ChatResponse = chat(model=llm_model, messages=[\n",
    "    {\n",
    "    'role': 'system',\n",
    "    'content': 'You are a helpful assistant who explains things clearly and concisely. Your answes are always very short, maximum 100 letters.',\n",
    "  },\n",
    "  {\n",
    "    'role': 'user',\n",
    "    'content': 'Why is the sky blue?',\n",
    "  },\n",
    "])\n",
    "print(response['message']['content'])\n",
    "\n",
    "\n",
    "# Embedding test\n",
    "from ollama import embed\n",
    "\n",
    "response = embed(model=llm_model, input= 'You are a helpful assistant who explains things clearly and concisely. Your answes are always very short, maximum 100 letters.')\n",
    "np.array(response.get(\"embeddings\", []), dtype=float)"
   ]
  },
  {
   "cell_type": "code",
   "execution_count": null,
   "id": "6144ce890397a41d",
   "metadata": {
    "ExecuteTime": {
     "end_time": "2025-03-30T23:54:31.093611Z",
     "start_time": "2025-03-30T23:54:20.112488Z"
    }
   },
   "outputs": [],
   "source": [
    "# If not installed yet:\n",
    "!pip install git+https://github.com/amazon-science/chronos-forecasting.git\n",
    "\n",
    "import pandas as pd\n",
    "import torch\n",
    "from chronos import ChronosPipeline\n",
    "\n",
    "pipeline = ChronosPipeline.from_pretrained(\n",
    "    \"amazon/chronos-t5-small\",\n",
    "    device_map=device_map,\n",
    "    torch_dtype=torch.bfloat16,\n",
    ")\n",
    "\n",
    "df = pd.read_csv(\"https://raw.githubusercontent.com/AileenNielsen/TimeSeriesAnalysisWithPython/master/data/AirPassengers.csv\")\n",
    "\n",
    "# context must be either a 1D tensor, a list of 1D tensors,\n",
    "# or a left-padded 2D tensor with batch as the first dimension\n",
    "context = torch.tensor(df[\"#Passengers\"])\n",
    "embeddings, tokenizer_state = pipeline.embed(context)"
   ]
  },
  {
   "cell_type": "markdown",
   "id": "f42c91efec2071cb",
   "metadata": {},
   "source": [
    "# Q4.1 Prompting an LLM to solve a time-series problem"
   ]
  },
  {
   "cell_type": "markdown",
   "id": "4dfeb97539d07fb1",
   "metadata": {},
   "source": [
    "## Patient Summary short\n",
    "only includes the most important data, without much noise"
   ]
  },
  {
   "cell_type": "code",
   "execution_count": 2,
   "id": "407db89e4ad17a6c",
   "metadata": {
    "ExecuteTime": {
     "end_time": "2025-03-30T23:54:31.501563Z",
     "start_time": "2025-03-30T23:54:31.489187Z"
    }
   },
   "outputs": [],
   "source": [
    "def generate_summary_statistical(patient_df):\n",
    "    features = {}\n",
    "    # Assuming df is already filtered for a single patient\n",
    "    features['age'] = patient_df['Age'].iloc[0]\n",
    "    features['gender'] = \"male\" if patient_df['Gender'].iloc[0] == 1 else \"female\"\n",
    "\n",
    "    summary = [\n",
    "        f\"Patient is a {int(features['age'])}-year-old {features['gender']}. Over the first 48 hours:\"\n",
    "    ]\n",
    "    \n",
    "    vital_vars = ['HCO3', 'HCT', 'HR', 'Mg', 'Na', 'Temp', 'BUN', 'FiO2', 'GCS', 'K']\n",
    "    for var in vital_vars:\n",
    "        if var not in patient_df.columns: continue\n",
    "        values = patient_df[var].dropna()\n",
    "        if len(values) == 0: continue\n",
    "        min_val, max_val = values.min(), values.max()\n",
    "        mean_val, last_val = values.iloc[-1], values.iloc[-1]\n",
    "        summary.append(f\"- {var} ranged from {min_val:.2f} to {max_val:.2f}, avg: {mean_val:.2f}, last: {last_val:.2f}\")\n",
    "        \n",
    "    return \"\\n\".join(summary)\n"
   ]
  },
  {
   "cell_type": "markdown",
   "id": "4c59195e8cf99789",
   "metadata": {},
   "source": [
    "## Patient Summary trends\n",
    "Summarize variable behavior over three time segments (0–16h, 16–32h, 32–48h) using trends: increasing, decreasing, stable, or fluctuating. Adds a temporal element that can help the LLM infer progression."
   ]
  },
  {
   "cell_type": "code",
   "execution_count": 3,
   "id": "acc24390a7a6c87a",
   "metadata": {
    "ExecuteTime": {
     "end_time": "2025-03-30T23:54:31.536799Z",
     "start_time": "2025-03-30T23:54:31.520192Z"
    }
   },
   "outputs": [],
   "source": [
    "def get_trend_label(seq):\n",
    "    if len(seq) < 2: return \"unknown\"\n",
    "    d1, d2, d3 = np.mean(seq[:len(seq)//3]), np.mean(seq[len(seq)//3:2*len(seq)//3]), np.mean(seq[2*len(seq)//3:])\n",
    "    if d1 < d2 < d3: return \"↑\"\n",
    "    elif d1 > d2 > d3: return \"↓\"\n",
    "    elif abs(d1 - d2) < 0.1 and abs(d2 - d3) < 0.1: return \"→\"\n",
    "    else: return \"~\"\n",
    "\n",
    "def generate_summary_trend(patient_df):\n",
    "    features = {}\n",
    "    features['age'] = patient_df['Age'].iloc[0]\n",
    "    features['gender'] = \"male\" if patient_df['Gender'].iloc[0] == 1 else \"female\"\n",
    "    features['weight'] = patient_df['Weight'].iloc[0]\n",
    "\n",
    "    summary = [\n",
    "        f\"Patient is a {int(features['age'])}-year-old {features['gender']}, weights {features['weight']} kg. Over the first 48 hours:\"\n",
    "    ]\n",
    "\n",
    "    vital_vars = ['HCO3', 'HCT', 'HR', 'Mg', 'Na', 'Temp', 'BUN', 'FiO2', 'GCS', 'K']\n",
    "    \n",
    "    for var in vital_vars:\n",
    "        if var not in patient_df.columns: continue\n",
    "        values = patient_df[var].dropna()\n",
    "        if len(values) == 0: continue\n",
    "        min_val, max_val = values.min(), values.max()\n",
    "        mean_val, last_val = values.iloc[-1], values.iloc[-1]\n",
    "        #summary.append(f\"- {var} ranged from {min_val:.2f} to {max_val:.2f}, avg: {mean_val:.2f}, last: {last_val:.2f}\")\n",
    "        series = patient_df[var].dropna().values\n",
    "        if len(series) < 3: continue\n",
    "        trend = get_trend_label(series)\n",
    "        summary.append(f\"- {var} ranged from {min_val:.2f} to {max_val:.2f}, shows a trend of {trend}. avg: {mean_val:.2f}, last: {last_val:.2f}\")\n",
    "\n",
    "    return \"\\n\".join(summary)\n"
   ]
  },
  {
   "cell_type": "code",
   "execution_count": 4,
   "id": "4d9c0387622af26d",
   "metadata": {
    "ExecuteTime": {
     "end_time": "2025-03-30T23:56:58.366985Z",
     "start_time": "2025-03-30T23:54:31.554260Z"
    }
   },
   "outputs": [
    {
     "data": {
      "text/html": [
       "<div>\n",
       "<style scoped>\n",
       "    .dataframe tbody tr th:only-of-type {\n",
       "        vertical-align: middle;\n",
       "    }\n",
       "\n",
       "    .dataframe tbody tr th {\n",
       "        vertical-align: top;\n",
       "    }\n",
       "\n",
       "    .dataframe thead th {\n",
       "        text-align: right;\n",
       "    }\n",
       "</style>\n",
       "<table border=\"1\" class=\"dataframe\">\n",
       "  <thead>\n",
       "    <tr style=\"text-align: right;\">\n",
       "      <th></th>\n",
       "      <th>RecordID</th>\n",
       "      <th>summary_statistical</th>\n",
       "      <th>summary_trend</th>\n",
       "      <th>In-hospital_death</th>\n",
       "    </tr>\n",
       "  </thead>\n",
       "  <tbody>\n",
       "    <tr>\n",
       "      <th>0</th>\n",
       "      <td>132539.0</td>\n",
       "      <td>Patient is a 54-year-old female. Over the firs...</td>\n",
       "      <td>Patient is a 54-year-old female, weights 87.79...</td>\n",
       "      <td>0</td>\n",
       "    </tr>\n",
       "    <tr>\n",
       "      <th>1</th>\n",
       "      <td>132540.0</td>\n",
       "      <td>Patient is a 76-year-old male. Over the first ...</td>\n",
       "      <td>Patient is a 76-year-old male, weights 76.0 kg...</td>\n",
       "      <td>0</td>\n",
       "    </tr>\n",
       "  </tbody>\n",
       "</table>\n",
       "</div>"
      ],
      "text/plain": [
       "   RecordID                                summary_statistical  \\\n",
       "0  132539.0  Patient is a 54-year-old female. Over the firs...   \n",
       "1  132540.0  Patient is a 76-year-old male. Over the first ...   \n",
       "\n",
       "                                       summary_trend  In-hospital_death  \n",
       "0  Patient is a 54-year-old female, weights 87.79...                  0  \n",
       "1  Patient is a 76-year-old male, weights 76.0 kg...                  0  "
      ]
     },
     "execution_count": 4,
     "metadata": {},
     "output_type": "execute_result"
    }
   ],
   "source": [
    "def generate_patient_summaries(df):\n",
    "    result_rows = []\n",
    "\n",
    "    for rid, group in df.groupby(\"RecordID\"):\n",
    "        summary_stat = generate_summary_statistical(group)\n",
    "        summary_trend = generate_summary_trend(group)\n",
    "\n",
    "        result_rows.append({\n",
    "            \"RecordID\": rid,\n",
    "            \"summary_statistical\": summary_stat,\n",
    "            \"summary_trend\": summary_trend\n",
    "        })\n",
    "\n",
    "    return pd.DataFrame(result_rows)\n",
    "\n",
    "# ---------- Usage ---------- #\n",
    "\n",
    "# Assuming df_a is your full DataFrame\n",
    "summaries_a = generate_patient_summaries(df_a)\n",
    "summaries_a = summaries_a.merge(death_a, on=\"RecordID\", how=\"left\")\n",
    "\n",
    "summaries_b = generate_patient_summaries(df_b)\n",
    "summaries_b = summaries_b.merge(death_b, on=\"RecordID\", how=\"left\")\n",
    "\n",
    "summaries_c = generate_patient_summaries(df_c)\n",
    "summaries_c = summaries_c.merge(death_c, on=\"RecordID\", how=\"left\")\n",
    "\n",
    "# Show a few example summaries\n",
    "summaries_a.head(2)"
   ]
  },
  {
   "cell_type": "code",
   "execution_count": 8,
   "id": "392b8542951a6c94",
   "metadata": {
    "ExecuteTime": {
     "end_time": "2025-03-30T23:56:58.452365Z",
     "start_time": "2025-03-30T23:56:58.443803Z"
    }
   },
   "outputs": [
    {
     "name": "stdout",
     "output_type": "stream",
     "text": [
      "Patient is a 54-year-old female. Over the first 48 hours:\n",
      "- HCO3 ranged from 9.00 to 30.00, avg: 28.00, last: 28.00\n",
      "- HCT ranged from 25.65 to 43.30, avg: 30.30, last: 30.30\n",
      "- HR ranged from 58.00 to 101.00, avg: 86.00, last: 86.00\n",
      "- Mg ranged from 1.20 to 2.20, avg: 1.90, last: 1.90\n",
      "- Na ranged from 131.00 to 141.00, avg: 136.00, last: 136.00\n",
      "- Temp ranged from 35.30 to 38.20, avg: 37.80, last: 37.80\n",
      "- BUN ranged from 8.00 to 65.00, avg: 8.00, last: 8.00\n",
      "- FiO2 ranged from 0.40 to 1.00, avg: 0.60, last: 0.60\n",
      "- GCS ranged from 14.00 to 15.00, avg: 15.00, last: 15.00\n",
      "- K ranged from 2.40 to 4.60, avg: 4.00, last: 4.00\n",
      "\n",
      "Patient is a 54-year-old female, weights 87.79 kg. Over the first 48 hours:\n",
      "- HCO3 ranged from 9.00 to 30.00, shows a trend of ↑. avg: 28.00, last: 28.00\n",
      "- HCT ranged from 25.65 to 43.30, shows a trend of ↓. avg: 30.30, last: 30.30\n",
      "- HR ranged from 58.00 to 101.00, shows a trend of ↑. avg: 86.00, last: 86.00\n",
      "- Mg ranged from 1.20 to 2.20, shows a trend of ~. avg: 1.90, last: 1.90\n",
      "- Na ranged from 131.00 to 141.00, shows a trend of ↓. avg: 136.00, last: 136.00\n",
      "- Temp ranged from 35.30 to 38.20, shows a trend of ↑. avg: 37.80, last: 37.80\n",
      "- BUN ranged from 8.00 to 65.00, shows a trend of ↓. avg: 8.00, last: 8.00\n",
      "- FiO2 ranged from 0.40 to 1.00, shows a trend of →. avg: 0.60, last: 0.60\n",
      "- GCS ranged from 14.00 to 15.00, shows a trend of ↓. avg: 15.00, last: 15.00\n",
      "- K ranged from 2.40 to 4.60, shows a trend of ~. avg: 4.00, last: 4.00\n"
     ]
    }
   ],
   "source": [
    "print(summaries_a.loc[0, \"summary_statistical\"])\n",
    "print()\n",
    "print(summaries_a.loc[0, \"summary_trend\"])\n",
    "\n",
    "# Save the summaries to CSV files\n",
    "summaries_a.to_csv(\"summaries_a.csv\", index=False)\n",
    "summaries_b.to_csv(\"summaries_b.csv\", index=False)\n",
    "summaries_c.to_csv(\"summaries_c.csv\", index=False)"
   ]
  },
  {
   "cell_type": "markdown",
   "id": "76628fa5b1bccee2",
   "metadata": {},
   "source": [
    "### Result Calculation"
   ]
  },
  {
   "cell_type": "code",
   "execution_count": 2,
   "id": "86e2d9b8-4388-4e65-a922-3356dc27fc91",
   "metadata": {},
   "outputs": [],
   "source": [
    "import pandas as pd\n",
    "summaries_a = pd.read_csv(\"summaries_a.csv\")\n",
    "summaries_b = pd.read_csv(\"summaries_b.csv\")\n",
    "summaries_c = pd.read_csv(\"summaries_c.csv\")"
   ]
  },
  {
   "cell_type": "code",
   "execution_count": 3,
   "id": "e41f927baffdb06d",
   "metadata": {
    "ExecuteTime": {
     "end_time": "2025-03-30T23:56:58.656861Z",
     "start_time": "2025-03-30T23:56:58.640854Z"
    }
   },
   "outputs": [],
   "source": [
    "system_prompt_binary = \"\"\"You are a clinical risk prediction assistant designed to assess the likelihood of in-hospital mortality based on structured patient summaries derived from ICU time-series data. \n",
    "\n",
    "You will be provided with a concise, pre-processed text description of a patient's vital signs and lab measurements recorded during the first 48 hours of their ICU stay. Your task is to classify whether the patient is at risk of dying during their hospital stay.\n",
    "\n",
    "Respond ONLY with a single number:\n",
    "- `1` if the patient is at high risk of death.\n",
    "- `0` if the patient is likely to survive.\n",
    "\n",
    "Do not provide any explanations, reasoning, or text. Only return the number `0` or `1`.\n",
    "\"\"\""
   ]
  },
  {
   "cell_type": "code",
   "execution_count": 4,
   "id": "76ee002cdda9d728",
   "metadata": {
    "ExecuteTime": {
     "end_time": "2025-03-30T23:56:58.812732Z",
     "start_time": "2025-03-30T23:56:58.802100Z"
    }
   },
   "outputs": [],
   "source": [
    "system_prompt_score = \"\"\"You are a clinical risk prediction assistant designed to assess the likelihood of in-hospital mortality based on structured patient summaries derived from ICU time-series data. \n",
    "\n",
    "You will be provided with a concise, pre-processed text description of a patient's vital signs and lab measurements recorded during the first 48 hours of their ICU stay. Your task is to determine the patient risk of dying during their hospital stay.\n",
    "\n",
    "Your goal is to assess the patient's risk of in-hospital mortality on a scale from 1 to 10:\n",
    "- `1` means extremely low risk (highly likely to survive).\n",
    "- `10` means extremely high risk (very likely to die in hospital).\n",
    "\n",
    "Respond with a single integer between 1 and 10. Do not include explanations, context, or additional output. Return only the number.\n",
    "\"\"\""
   ]
  },
  {
   "cell_type": "code",
   "execution_count": 5,
   "id": "acb7a611c9105d49",
   "metadata": {
    "ExecuteTime": {
     "end_time": "2025-03-30T23:56:58.990682Z",
     "start_time": "2025-03-30T23:56:58.962539Z"
    }
   },
   "outputs": [],
   "source": [
    "from ollama import chat\n",
    "from sklearn.metrics import roc_auc_score, average_precision_score\n",
    "import numpy as np\n",
    "import pandas as pd\n",
    "import re\n",
    "\n",
    "# ---- Utility: Extract score or binary ---- #\n",
    "import re\n",
    "\n",
    "def clean_llm_output(text):\n",
    "    \"\"\"\n",
    "    Cleans LLM output by removing <think> blocks and 'Answer:' prefix.\n",
    "    \"\"\"\n",
    "    # Remove <think>...</think> block\n",
    "    text = re.sub(r'<think>.*?</think>', '', text, flags=re.DOTALL | re.IGNORECASE)\n",
    "\n",
    "    # Remove 'Answer:' prefix (case-insensitive, any surrounding whitespace)\n",
    "    text = re.sub(r'(?i)\\banswer\\s*:\\s*', '', text)\n",
    "\n",
    "    # Strip leading/trailing whitespace\n",
    "    return text.strip()\n",
    "\n",
    "\n",
    "\n",
    "def extract_score_from_response(text, mode=\"score\"): \n",
    "    \"\"\"\n",
    "    Extracts a number from model output or interprets binary label.\n",
    "    \"\"\"\n",
    "    text = text.lower()\n",
    "    text = clean_llm_output(text)\n",
    "    \n",
    "    if mode == \"score\":\n",
    "        match = re.search(r'(\\d+(\\.\\d+)?)', text)\n",
    "        if match:\n",
    "            val = float(match.group(1))\n",
    "            return min(max(val, 1.0), 10.0) / 10.0  # normalize 1-10 to 0-1\n",
    "    \n",
    "    else:  # binary mode\n",
    "        # Try extracting a number first\n",
    "        match = re.search(r'(\\d+(\\.\\d+)?)', text)\n",
    "        if match:\n",
    "            val = float(match.group(1))\n",
    "            # Normalize 0–100 or 1–10 range to 0–1 if needed\n",
    "            if val == 1.0 or val == 0.0:\n",
    "                return val\n",
    "            else: \n",
    "                print(f\"Binary response didn't work: {text}\")\n",
    "\n",
    "        # Fallback to keyword heuristics\n",
    "        if any(word in text for word in [\"yes\", \"high\", \"die\", \"likely\"]):\n",
    "            return 1.0\n",
    "        elif any(word in text for word in [\"no\", \"low\", \"survive\", \"unlikely\"]):\n",
    "            return 0.0\n",
    "\n",
    "    return 0.5  # fallback neutral\n",
    "\n",
    "# ---- Few-shot formatter ---- #\n",
    "\n",
    "def generate_few_shot_examples(df_train, text_col = \"summary_statistical\" , label_col = \"In-hospital_death\", max_examples=3, mode=\"score\"):\n",
    "    \"\"\"\n",
    "    Creates few-shot context examples from labeled training set.\n",
    "    \"\"\"\n",
    "    examples = df_train.sample(n=max_examples, random_state=42)\n",
    "    formatted = \"### Examples\\n\"\n",
    "    for _, row in examples.iterrows():\n",
    "        label = row[label_col]\n",
    "        label_text = f\"{int(label * 9 + 1)}/10\" if mode == \"score\" else f\"{label}\"\n",
    "        formatted += f\"Input:\\n{row[text_col]}\\nAnswer: {label_text}\\n\\n\"\n",
    "    return formatted.strip()\n",
    "\n",
    "# ---- Core inference function ---- #\n",
    "\n",
    "def query_llm(summary_text, mode = \"score\", few_shot_context=None):\n",
    "    \"\"\"\n",
    "    Calls llm_model model via ollama.chat using user prompt.\n",
    "    \"\"\"\n",
    "    user_prompt = f\"{few_shot_context}\\n\\n### Task \\nInput:\\n{summary_text}\\nAnswer:\" if few_shot_context else f\"Input:\\n{summary_text}\\nAnswer:\"\n",
    "    \n",
    "    response = chat(model=llm_model, messages=[{\n",
    "        'role': 'system',\n",
    "        'content': system_prompt_score if mode == \"score\" else system_prompt_binary,\n",
    "    },\n",
    "        {\n",
    "        'role': 'user',\n",
    "        'content': user_prompt\n",
    "    }])\n",
    "    \n",
    "    return response['message']['content']\n",
    "\n",
    "# ---- Full evaluation runner ---- #\n",
    "\n",
    "from concurrent.futures import ThreadPoolExecutor, as_completed\n",
    "\n",
    "def evaluate_llm_predictions(summary_df, text_col='summary_statistical', label_col=\"In-hospital_death\",\n",
    "                             mode=\"score\", few_shot=False, df_train_for_examples=None, max_workers=4):\n",
    "    \"\"\"\n",
    "    Runs inference across all rows in summary_df using parallel threads.\n",
    "    \"\"\"\n",
    "    labels = summary_df[label_col].values\n",
    "    summaries = summary_df[text_col].values\n",
    "\n",
    "    # Build few-shot context once\n",
    "    context = None\n",
    "    if few_shot and df_train_for_examples is not None:\n",
    "        context = generate_few_shot_examples(df_train_for_examples, text_col, mode=mode)\n",
    "\n",
    "    def process_summary(summary):\n",
    "        llm_output = query_llm(summary, mode, few_shot_context=context)\n",
    "        return extract_score_from_response(llm_output, mode=mode)\n",
    "\n",
    "    # Run in parallel\n",
    "    with ThreadPoolExecutor(max_workers=max_workers) as executor:\n",
    "        futures = [executor.submit(process_summary, s) for s in summaries]\n",
    "        predictions = [f.result() for f in as_completed(futures)]\n",
    "\n",
    "    # Sort predictions to maintain order (as_completed gives unordered results)\n",
    "    predictions_sorted = [None] * len(futures)\n",
    "    for i, f in enumerate(futures):\n",
    "        predictions_sorted[i] = f.result()\n",
    "\n",
    "    predictions = np.array(predictions_sorted)\n",
    "\n",
    "    try:\n",
    "        auroc = roc_auc_score(labels, predictions)\n",
    "        auprc = average_precision_score(labels, predictions)\n",
    "    except Exception as e:\n",
    "        print(\"[!] Metric calculation error:\", e)\n",
    "        auroc = None\n",
    "        auprc = None\n",
    "\n",
    "    return {\n",
    "        \"predictions\": predictions,\n",
    "        \"true_labels\": labels,\n",
    "        \"auroc\": auroc,\n",
    "        \"auprc\": auprc\n",
    "    }\n"
   ]
  },
  {
   "cell_type": "markdown",
   "id": "9f0c32fe0ee93fe9",
   "metadata": {},
   "source": [
    "### Results"
   ]
  },
  {
   "cell_type": "code",
   "execution_count": 6,
   "id": "2eea7cb46cd92d08",
   "metadata": {
    "ExecuteTime": {
     "end_time": "2025-03-30T23:56:59.245639Z",
     "start_time": "2025-03-30T23:56:59.203372Z"
    }
   },
   "outputs": [
    {
     "data": {
      "text/html": [
       "<div>\n",
       "<style scoped>\n",
       "    .dataframe tbody tr th:only-of-type {\n",
       "        vertical-align: middle;\n",
       "    }\n",
       "\n",
       "    .dataframe tbody tr th {\n",
       "        vertical-align: top;\n",
       "    }\n",
       "\n",
       "    .dataframe thead th {\n",
       "        text-align: right;\n",
       "    }\n",
       "</style>\n",
       "<table border=\"1\" class=\"dataframe\">\n",
       "  <thead>\n",
       "    <tr style=\"text-align: right;\">\n",
       "      <th></th>\n",
       "      <th>RecordID</th>\n",
       "      <th>summary_statistical</th>\n",
       "      <th>summary_trend</th>\n",
       "      <th>In-hospital_death</th>\n",
       "    </tr>\n",
       "  </thead>\n",
       "  <tbody>\n",
       "    <tr>\n",
       "      <th>200</th>\n",
       "      <td>153361.0</td>\n",
       "      <td>Patient is a 57-year-old male. Over the first ...</td>\n",
       "      <td>Patient is a 57-year-old male, weights 55.7 kg...</td>\n",
       "      <td>0</td>\n",
       "    </tr>\n",
       "    <tr>\n",
       "      <th>1078</th>\n",
       "      <td>155517.0</td>\n",
       "      <td>Patient is a 86-year-old female. Over the firs...</td>\n",
       "      <td>Patient is a 86-year-old female, weights 80.0 ...</td>\n",
       "      <td>0</td>\n",
       "    </tr>\n",
       "    <tr>\n",
       "      <th>610</th>\n",
       "      <td>154373.0</td>\n",
       "      <td>Patient is a 33-year-old female. Over the firs...</td>\n",
       "      <td>Patient is a 33-year-old female, weights 74.0 ...</td>\n",
       "      <td>0</td>\n",
       "    </tr>\n",
       "    <tr>\n",
       "      <th>2159</th>\n",
       "      <td>158238.0</td>\n",
       "      <td>Patient is a 66-year-old male. Over the first ...</td>\n",
       "      <td>Patient is a 66-year-old male, weights 90.0 kg...</td>\n",
       "      <td>0</td>\n",
       "    </tr>\n",
       "    <tr>\n",
       "      <th>1169</th>\n",
       "      <td>155745.0</td>\n",
       "      <td>Patient is a 58-year-old female. Over the firs...</td>\n",
       "      <td>Patient is a 58-year-old female, weights 48.4 ...</td>\n",
       "      <td>1</td>\n",
       "    </tr>\n",
       "    <tr>\n",
       "      <th>...</th>\n",
       "      <td>...</td>\n",
       "      <td>...</td>\n",
       "      <td>...</td>\n",
       "      <td>...</td>\n",
       "    </tr>\n",
       "    <tr>\n",
       "      <th>975</th>\n",
       "      <td>155251.0</td>\n",
       "      <td>Patient is a 26-year-old male. Over the first ...</td>\n",
       "      <td>Patient is a 26-year-old male, weights 80.0 kg...</td>\n",
       "      <td>0</td>\n",
       "    </tr>\n",
       "    <tr>\n",
       "      <th>990</th>\n",
       "      <td>155285.0</td>\n",
       "      <td>Patient is a 46-year-old male. Over the first ...</td>\n",
       "      <td>Patient is a 46-year-old male, weights 119.0 k...</td>\n",
       "      <td>0</td>\n",
       "    </tr>\n",
       "    <tr>\n",
       "      <th>2691</th>\n",
       "      <td>159650.0</td>\n",
       "      <td>Patient is a 83-year-old male. Over the first ...</td>\n",
       "      <td>Patient is a 83-year-old male, weights 89.9 kg...</td>\n",
       "      <td>0</td>\n",
       "    </tr>\n",
       "    <tr>\n",
       "      <th>44</th>\n",
       "      <td>152984.0</td>\n",
       "      <td>Patient is a 76-year-old male. Over the first ...</td>\n",
       "      <td>Patient is a 76-year-old male, weights 87.6 kg...</td>\n",
       "      <td>0</td>\n",
       "    </tr>\n",
       "    <tr>\n",
       "      <th>2500</th>\n",
       "      <td>159145.0</td>\n",
       "      <td>Patient is a 89-year-old female. Over the firs...</td>\n",
       "      <td>Patient is a 89-year-old female, weights 55.0 ...</td>\n",
       "      <td>0</td>\n",
       "    </tr>\n",
       "  </tbody>\n",
       "</table>\n",
       "<p>1000 rows × 4 columns</p>\n",
       "</div>"
      ],
      "text/plain": [
       "      RecordID                                summary_statistical  \\\n",
       "200   153361.0  Patient is a 57-year-old male. Over the first ...   \n",
       "1078  155517.0  Patient is a 86-year-old female. Over the firs...   \n",
       "610   154373.0  Patient is a 33-year-old female. Over the firs...   \n",
       "2159  158238.0  Patient is a 66-year-old male. Over the first ...   \n",
       "1169  155745.0  Patient is a 58-year-old female. Over the firs...   \n",
       "...        ...                                                ...   \n",
       "975   155251.0  Patient is a 26-year-old male. Over the first ...   \n",
       "990   155285.0  Patient is a 46-year-old male. Over the first ...   \n",
       "2691  159650.0  Patient is a 83-year-old male. Over the first ...   \n",
       "44    152984.0  Patient is a 76-year-old male. Over the first ...   \n",
       "2500  159145.0  Patient is a 89-year-old female. Over the firs...   \n",
       "\n",
       "                                          summary_trend  In-hospital_death  \n",
       "200   Patient is a 57-year-old male, weights 55.7 kg...                  0  \n",
       "1078  Patient is a 86-year-old female, weights 80.0 ...                  0  \n",
       "610   Patient is a 33-year-old female, weights 74.0 ...                  0  \n",
       "2159  Patient is a 66-year-old male, weights 90.0 kg...                  0  \n",
       "1169  Patient is a 58-year-old female, weights 48.4 ...                  1  \n",
       "...                                                 ...                ...  \n",
       "975   Patient is a 26-year-old male, weights 80.0 kg...                  0  \n",
       "990   Patient is a 46-year-old male, weights 119.0 k...                  0  \n",
       "2691  Patient is a 83-year-old male, weights 89.9 kg...                  0  \n",
       "44    Patient is a 76-year-old male, weights 87.6 kg...                  0  \n",
       "2500  Patient is a 89-year-old female, weights 55.0 ...                  0  \n",
       "\n",
       "[1000 rows x 4 columns]"
      ]
     },
     "execution_count": 6,
     "metadata": {},
     "output_type": "execute_result"
    }
   ],
   "source": [
    "summaries_c_small = summaries_c.sample(1000, random_state = 1)\n",
    "summaries_c_small"
   ]
  },
  {
   "cell_type": "code",
   "execution_count": 7,
   "id": "cd342642b6f7c3a0",
   "metadata": {
    "ExecuteTime": {
     "start_time": "2025-03-30T23:56:59.589740Z"
    },
    "jupyter": {
     "is_executing": true
    }
   },
   "outputs": [
    {
     "name": "stdout",
     "output_type": "stream",
     "text": [
      "Few-Shot | summary_statistical | score mode → AUROC: 0.653, AUPRC: 0.246\n",
      "Zero-Shot | summary_statistical | score mode → AUROC: 0.683, AUPRC: 0.270\n"
     ]
    },
    {
     "ename": "RemoteProtocolError",
     "evalue": "Server disconnected without sending a response.",
     "output_type": "error",
     "traceback": [
      "\u001b[31m---------------------------------------------------------------------------\u001b[39m",
      "\u001b[31mRemoteProtocolError\u001b[39m                       Traceback (most recent call last)",
      "\u001b[36mFile \u001b[39m\u001b[32m/cluster/courses/ml4h/jupyter/lib/python3.12/site-packages/httpx/_transports/default.py:101\u001b[39m, in \u001b[36mmap_httpcore_exceptions\u001b[39m\u001b[34m()\u001b[39m\n\u001b[32m    100\u001b[39m \u001b[38;5;28;01mtry\u001b[39;00m:\n\u001b[32m--> \u001b[39m\u001b[32m101\u001b[39m     \u001b[38;5;28;01myield\u001b[39;00m\n\u001b[32m    102\u001b[39m \u001b[38;5;28;01mexcept\u001b[39;00m \u001b[38;5;167;01mException\u001b[39;00m \u001b[38;5;28;01mas\u001b[39;00m exc:\n",
      "\u001b[36mFile \u001b[39m\u001b[32m/cluster/courses/ml4h/jupyter/lib/python3.12/site-packages/httpx/_transports/default.py:250\u001b[39m, in \u001b[36mHTTPTransport.handle_request\u001b[39m\u001b[34m(self, request)\u001b[39m\n\u001b[32m    249\u001b[39m \u001b[38;5;28;01mwith\u001b[39;00m map_httpcore_exceptions():\n\u001b[32m--> \u001b[39m\u001b[32m250\u001b[39m     resp = \u001b[38;5;28;43mself\u001b[39;49m\u001b[43m.\u001b[49m\u001b[43m_pool\u001b[49m\u001b[43m.\u001b[49m\u001b[43mhandle_request\u001b[49m\u001b[43m(\u001b[49m\u001b[43mreq\u001b[49m\u001b[43m)\u001b[49m\n\u001b[32m    252\u001b[39m \u001b[38;5;28;01massert\u001b[39;00m \u001b[38;5;28misinstance\u001b[39m(resp.stream, typing.Iterable)\n",
      "\u001b[36mFile \u001b[39m\u001b[32m/cluster/courses/ml4h/jupyter/lib/python3.12/site-packages/httpcore/_sync/connection_pool.py:256\u001b[39m, in \u001b[36mConnectionPool.handle_request\u001b[39m\u001b[34m(self, request)\u001b[39m\n\u001b[32m    255\u001b[39m     \u001b[38;5;28mself\u001b[39m._close_connections(closing)\n\u001b[32m--> \u001b[39m\u001b[32m256\u001b[39m     \u001b[38;5;28;01mraise\u001b[39;00m exc \u001b[38;5;28;01mfrom\u001b[39;00m\u001b[38;5;250m \u001b[39m\u001b[38;5;28;01mNone\u001b[39;00m\n\u001b[32m    258\u001b[39m \u001b[38;5;66;03m# Return the response. Note that in this case we still have to manage\u001b[39;00m\n\u001b[32m    259\u001b[39m \u001b[38;5;66;03m# the point at which the response is closed.\u001b[39;00m\n",
      "\u001b[36mFile \u001b[39m\u001b[32m/cluster/courses/ml4h/jupyter/lib/python3.12/site-packages/httpcore/_sync/connection_pool.py:236\u001b[39m, in \u001b[36mConnectionPool.handle_request\u001b[39m\u001b[34m(self, request)\u001b[39m\n\u001b[32m    234\u001b[39m \u001b[38;5;28;01mtry\u001b[39;00m:\n\u001b[32m    235\u001b[39m     \u001b[38;5;66;03m# Send the request on the assigned connection.\u001b[39;00m\n\u001b[32m--> \u001b[39m\u001b[32m236\u001b[39m     response = \u001b[43mconnection\u001b[49m\u001b[43m.\u001b[49m\u001b[43mhandle_request\u001b[49m\u001b[43m(\u001b[49m\n\u001b[32m    237\u001b[39m \u001b[43m        \u001b[49m\u001b[43mpool_request\u001b[49m\u001b[43m.\u001b[49m\u001b[43mrequest\u001b[49m\n\u001b[32m    238\u001b[39m \u001b[43m    \u001b[49m\u001b[43m)\u001b[49m\n\u001b[32m    239\u001b[39m \u001b[38;5;28;01mexcept\u001b[39;00m ConnectionNotAvailable:\n\u001b[32m    240\u001b[39m     \u001b[38;5;66;03m# In some cases a connection may initially be available to\u001b[39;00m\n\u001b[32m    241\u001b[39m     \u001b[38;5;66;03m# handle a request, but then become unavailable.\u001b[39;00m\n\u001b[32m    242\u001b[39m     \u001b[38;5;66;03m#\u001b[39;00m\n\u001b[32m    243\u001b[39m     \u001b[38;5;66;03m# In this case we clear the connection and try again.\u001b[39;00m\n",
      "\u001b[36mFile \u001b[39m\u001b[32m/cluster/courses/ml4h/jupyter/lib/python3.12/site-packages/httpcore/_sync/connection.py:103\u001b[39m, in \u001b[36mHTTPConnection.handle_request\u001b[39m\u001b[34m(self, request)\u001b[39m\n\u001b[32m    101\u001b[39m     \u001b[38;5;28;01mraise\u001b[39;00m exc\n\u001b[32m--> \u001b[39m\u001b[32m103\u001b[39m \u001b[38;5;28;01mreturn\u001b[39;00m \u001b[38;5;28;43mself\u001b[39;49m\u001b[43m.\u001b[49m\u001b[43m_connection\u001b[49m\u001b[43m.\u001b[49m\u001b[43mhandle_request\u001b[49m\u001b[43m(\u001b[49m\u001b[43mrequest\u001b[49m\u001b[43m)\u001b[49m\n",
      "\u001b[36mFile \u001b[39m\u001b[32m/cluster/courses/ml4h/jupyter/lib/python3.12/site-packages/httpcore/_sync/http11.py:136\u001b[39m, in \u001b[36mHTTP11Connection.handle_request\u001b[39m\u001b[34m(self, request)\u001b[39m\n\u001b[32m    135\u001b[39m         \u001b[38;5;28mself\u001b[39m._response_closed()\n\u001b[32m--> \u001b[39m\u001b[32m136\u001b[39m \u001b[38;5;28;01mraise\u001b[39;00m exc\n",
      "\u001b[36mFile \u001b[39m\u001b[32m/cluster/courses/ml4h/jupyter/lib/python3.12/site-packages/httpcore/_sync/http11.py:106\u001b[39m, in \u001b[36mHTTP11Connection.handle_request\u001b[39m\u001b[34m(self, request)\u001b[39m\n\u001b[32m     97\u001b[39m \u001b[38;5;28;01mwith\u001b[39;00m Trace(\n\u001b[32m     98\u001b[39m     \u001b[33m\"\u001b[39m\u001b[33mreceive_response_headers\u001b[39m\u001b[33m\"\u001b[39m, logger, request, kwargs\n\u001b[32m     99\u001b[39m ) \u001b[38;5;28;01mas\u001b[39;00m trace:\n\u001b[32m    100\u001b[39m     (\n\u001b[32m    101\u001b[39m         http_version,\n\u001b[32m    102\u001b[39m         status,\n\u001b[32m    103\u001b[39m         reason_phrase,\n\u001b[32m    104\u001b[39m         headers,\n\u001b[32m    105\u001b[39m         trailing_data,\n\u001b[32m--> \u001b[39m\u001b[32m106\u001b[39m     ) = \u001b[38;5;28;43mself\u001b[39;49m\u001b[43m.\u001b[49m\u001b[43m_receive_response_headers\u001b[49m\u001b[43m(\u001b[49m\u001b[43m*\u001b[49m\u001b[43m*\u001b[49m\u001b[43mkwargs\u001b[49m\u001b[43m)\u001b[49m\n\u001b[32m    107\u001b[39m     trace.return_value = (\n\u001b[32m    108\u001b[39m         http_version,\n\u001b[32m    109\u001b[39m         status,\n\u001b[32m    110\u001b[39m         reason_phrase,\n\u001b[32m    111\u001b[39m         headers,\n\u001b[32m    112\u001b[39m     )\n",
      "\u001b[36mFile \u001b[39m\u001b[32m/cluster/courses/ml4h/jupyter/lib/python3.12/site-packages/httpcore/_sync/http11.py:177\u001b[39m, in \u001b[36mHTTP11Connection._receive_response_headers\u001b[39m\u001b[34m(self, request)\u001b[39m\n\u001b[32m    176\u001b[39m \u001b[38;5;28;01mwhile\u001b[39;00m \u001b[38;5;28;01mTrue\u001b[39;00m:\n\u001b[32m--> \u001b[39m\u001b[32m177\u001b[39m     event = \u001b[38;5;28;43mself\u001b[39;49m\u001b[43m.\u001b[49m\u001b[43m_receive_event\u001b[49m\u001b[43m(\u001b[49m\u001b[43mtimeout\u001b[49m\u001b[43m=\u001b[49m\u001b[43mtimeout\u001b[49m\u001b[43m)\u001b[49m\n\u001b[32m    178\u001b[39m     \u001b[38;5;28;01mif\u001b[39;00m \u001b[38;5;28misinstance\u001b[39m(event, h11.Response):\n",
      "\u001b[36mFile \u001b[39m\u001b[32m/cluster/courses/ml4h/jupyter/lib/python3.12/site-packages/httpcore/_sync/http11.py:231\u001b[39m, in \u001b[36mHTTP11Connection._receive_event\u001b[39m\u001b[34m(self, timeout)\u001b[39m\n\u001b[32m    230\u001b[39m     msg = \u001b[33m\"\u001b[39m\u001b[33mServer disconnected without sending a response.\u001b[39m\u001b[33m\"\u001b[39m\n\u001b[32m--> \u001b[39m\u001b[32m231\u001b[39m     \u001b[38;5;28;01mraise\u001b[39;00m RemoteProtocolError(msg)\n\u001b[32m    233\u001b[39m \u001b[38;5;28mself\u001b[39m._h11_state.receive_data(data)\n",
      "\u001b[31mRemoteProtocolError\u001b[39m: Server disconnected without sending a response.",
      "\nThe above exception was the direct cause of the following exception:\n",
      "\u001b[31mRemoteProtocolError\u001b[39m                       Traceback (most recent call last)",
      "\u001b[36mCell\u001b[39m\u001b[36m \u001b[39m\u001b[32mIn[7]\u001b[39m\u001b[32m, line 22\u001b[39m\n\u001b[32m     19\u001b[39m     kwargs[\u001b[33m'\u001b[39m\u001b[33mfew_shot\u001b[39m\u001b[33m'\u001b[39m] = \u001b[38;5;28;01mTrue\u001b[39;00m\n\u001b[32m     20\u001b[39m     kwargs[\u001b[33m'\u001b[39m\u001b[33mdf_train_for_examples\u001b[39m\u001b[33m'\u001b[39m] = summaries_a\n\u001b[32m---> \u001b[39m\u001b[32m22\u001b[39m results = \u001b[43mevaluate_llm_predictions\u001b[49m\u001b[43m(\u001b[49m\u001b[43m*\u001b[49m\u001b[43m*\u001b[49m\u001b[43mkwargs\u001b[49m\u001b[43m)\u001b[49m\n\u001b[32m     23\u001b[39m \u001b[38;5;28mprint\u001b[39m(\u001b[33mf\u001b[39m\u001b[33m\"\u001b[39m\u001b[38;5;132;01m{\u001b[39;00mlabel\u001b[38;5;132;01m}\u001b[39;00m\u001b[33m → AUROC: \u001b[39m\u001b[38;5;132;01m{\u001b[39;00mresults[\u001b[33m'\u001b[39m\u001b[33mauroc\u001b[39m\u001b[33m'\u001b[39m]\u001b[38;5;132;01m:\u001b[39;00m\u001b[33m.3f\u001b[39m\u001b[38;5;132;01m}\u001b[39;00m\u001b[33m, AUPRC: \u001b[39m\u001b[38;5;132;01m{\u001b[39;00mresults[\u001b[33m'\u001b[39m\u001b[33mauprc\u001b[39m\u001b[33m'\u001b[39m]\u001b[38;5;132;01m:\u001b[39;00m\u001b[33m.3f\u001b[39m\u001b[38;5;132;01m}\u001b[39;00m\u001b[33m\"\u001b[39m)\n",
      "\u001b[36mCell\u001b[39m\u001b[36m \u001b[39m\u001b[32mIn[5]\u001b[39m\u001b[32m, line 114\u001b[39m, in \u001b[36mevaluate_llm_predictions\u001b[39m\u001b[34m(summary_df, text_col, label_col, mode, few_shot, df_train_for_examples, max_workers)\u001b[39m\n\u001b[32m    112\u001b[39m \u001b[38;5;28;01mwith\u001b[39;00m ThreadPoolExecutor(max_workers=max_workers) \u001b[38;5;28;01mas\u001b[39;00m executor:\n\u001b[32m    113\u001b[39m     futures = [executor.submit(process_summary, s) \u001b[38;5;28;01mfor\u001b[39;00m s \u001b[38;5;129;01min\u001b[39;00m summaries]\n\u001b[32m--> \u001b[39m\u001b[32m114\u001b[39m     predictions = [\u001b[43mf\u001b[49m\u001b[43m.\u001b[49m\u001b[43mresult\u001b[49m\u001b[43m(\u001b[49m\u001b[43m)\u001b[49m \u001b[38;5;28;01mfor\u001b[39;00m f \u001b[38;5;129;01min\u001b[39;00m as_completed(futures)]\n\u001b[32m    116\u001b[39m \u001b[38;5;66;03m# Sort predictions to maintain order (as_completed gives unordered results)\u001b[39;00m\n\u001b[32m    117\u001b[39m predictions_sorted = [\u001b[38;5;28;01mNone\u001b[39;00m] * \u001b[38;5;28mlen\u001b[39m(futures)\n",
      "\u001b[36mFile \u001b[39m\u001b[32m/usr/lib/python3.12/concurrent/futures/_base.py:449\u001b[39m, in \u001b[36mFuture.result\u001b[39m\u001b[34m(self, timeout)\u001b[39m\n\u001b[32m    447\u001b[39m     \u001b[38;5;28;01mraise\u001b[39;00m CancelledError()\n\u001b[32m    448\u001b[39m \u001b[38;5;28;01melif\u001b[39;00m \u001b[38;5;28mself\u001b[39m._state == FINISHED:\n\u001b[32m--> \u001b[39m\u001b[32m449\u001b[39m     \u001b[38;5;28;01mreturn\u001b[39;00m \u001b[38;5;28;43mself\u001b[39;49m\u001b[43m.\u001b[49m\u001b[43m__get_result\u001b[49m\u001b[43m(\u001b[49m\u001b[43m)\u001b[49m\n\u001b[32m    451\u001b[39m \u001b[38;5;28mself\u001b[39m._condition.wait(timeout)\n\u001b[32m    453\u001b[39m \u001b[38;5;28;01mif\u001b[39;00m \u001b[38;5;28mself\u001b[39m._state \u001b[38;5;129;01min\u001b[39;00m [CANCELLED, CANCELLED_AND_NOTIFIED]:\n",
      "\u001b[36mFile \u001b[39m\u001b[32m/usr/lib/python3.12/concurrent/futures/_base.py:401\u001b[39m, in \u001b[36mFuture.__get_result\u001b[39m\u001b[34m(self)\u001b[39m\n\u001b[32m    399\u001b[39m \u001b[38;5;28;01mif\u001b[39;00m \u001b[38;5;28mself\u001b[39m._exception:\n\u001b[32m    400\u001b[39m     \u001b[38;5;28;01mtry\u001b[39;00m:\n\u001b[32m--> \u001b[39m\u001b[32m401\u001b[39m         \u001b[38;5;28;01mraise\u001b[39;00m \u001b[38;5;28mself\u001b[39m._exception\n\u001b[32m    402\u001b[39m     \u001b[38;5;28;01mfinally\u001b[39;00m:\n\u001b[32m    403\u001b[39m         \u001b[38;5;66;03m# Break a reference cycle with the exception in self._exception\u001b[39;00m\n\u001b[32m    404\u001b[39m         \u001b[38;5;28mself\u001b[39m = \u001b[38;5;28;01mNone\u001b[39;00m\n",
      "\u001b[36mFile \u001b[39m\u001b[32m/usr/lib/python3.12/concurrent/futures/thread.py:58\u001b[39m, in \u001b[36m_WorkItem.run\u001b[39m\u001b[34m(self)\u001b[39m\n\u001b[32m     55\u001b[39m     \u001b[38;5;28;01mreturn\u001b[39;00m\n\u001b[32m     57\u001b[39m \u001b[38;5;28;01mtry\u001b[39;00m:\n\u001b[32m---> \u001b[39m\u001b[32m58\u001b[39m     result = \u001b[38;5;28;43mself\u001b[39;49m\u001b[43m.\u001b[49m\u001b[43mfn\u001b[49m\u001b[43m(\u001b[49m\u001b[43m*\u001b[49m\u001b[38;5;28;43mself\u001b[39;49m\u001b[43m.\u001b[49m\u001b[43margs\u001b[49m\u001b[43m,\u001b[49m\u001b[43m \u001b[49m\u001b[43m*\u001b[49m\u001b[43m*\u001b[49m\u001b[38;5;28;43mself\u001b[39;49m\u001b[43m.\u001b[49m\u001b[43mkwargs\u001b[49m\u001b[43m)\u001b[49m\n\u001b[32m     59\u001b[39m \u001b[38;5;28;01mexcept\u001b[39;00m \u001b[38;5;167;01mBaseException\u001b[39;00m \u001b[38;5;28;01mas\u001b[39;00m exc:\n\u001b[32m     60\u001b[39m     \u001b[38;5;28mself\u001b[39m.future.set_exception(exc)\n",
      "\u001b[36mCell\u001b[39m\u001b[36m \u001b[39m\u001b[32mIn[5]\u001b[39m\u001b[32m, line 108\u001b[39m, in \u001b[36mevaluate_llm_predictions.<locals>.process_summary\u001b[39m\u001b[34m(summary)\u001b[39m\n\u001b[32m    107\u001b[39m \u001b[38;5;28;01mdef\u001b[39;00m\u001b[38;5;250m \u001b[39m\u001b[34mprocess_summary\u001b[39m(summary):\n\u001b[32m--> \u001b[39m\u001b[32m108\u001b[39m     llm_output = \u001b[43mquery_llm\u001b[49m\u001b[43m(\u001b[49m\u001b[43msummary\u001b[49m\u001b[43m,\u001b[49m\u001b[43m \u001b[49m\u001b[43mmode\u001b[49m\u001b[43m,\u001b[49m\u001b[43m \u001b[49m\u001b[43mfew_shot_context\u001b[49m\u001b[43m=\u001b[49m\u001b[43mcontext\u001b[49m\u001b[43m)\u001b[49m\n\u001b[32m    109\u001b[39m     \u001b[38;5;28;01mreturn\u001b[39;00m extract_score_from_response(llm_output, mode=mode)\n",
      "\u001b[36mCell\u001b[39m\u001b[36m \u001b[39m\u001b[32mIn[5]\u001b[39m\u001b[32m, line 79\u001b[39m, in \u001b[36mquery_llm\u001b[39m\u001b[34m(summary_text, mode, few_shot_context)\u001b[39m\n\u001b[32m     74\u001b[39m \u001b[38;5;250m\u001b[39m\u001b[33;03m\"\"\"\u001b[39;00m\n\u001b[32m     75\u001b[39m \u001b[33;03mCalls llm_model model via ollama.chat using user prompt.\u001b[39;00m\n\u001b[32m     76\u001b[39m \u001b[33;03m\"\"\"\u001b[39;00m\n\u001b[32m     77\u001b[39m user_prompt = \u001b[33mf\u001b[39m\u001b[33m\"\u001b[39m\u001b[38;5;132;01m{\u001b[39;00mfew_shot_context\u001b[38;5;132;01m}\u001b[39;00m\u001b[38;5;130;01m\\n\u001b[39;00m\u001b[38;5;130;01m\\n\u001b[39;00m\u001b[33m### Task \u001b[39m\u001b[38;5;130;01m\\n\u001b[39;00m\u001b[33mInput:\u001b[39m\u001b[38;5;130;01m\\n\u001b[39;00m\u001b[38;5;132;01m{\u001b[39;00msummary_text\u001b[38;5;132;01m}\u001b[39;00m\u001b[38;5;130;01m\\n\u001b[39;00m\u001b[33mAnswer:\u001b[39m\u001b[33m\"\u001b[39m \u001b[38;5;28;01mif\u001b[39;00m few_shot_context \u001b[38;5;28;01melse\u001b[39;00m \u001b[33mf\u001b[39m\u001b[33m\"\u001b[39m\u001b[33mInput:\u001b[39m\u001b[38;5;130;01m\\n\u001b[39;00m\u001b[38;5;132;01m{\u001b[39;00msummary_text\u001b[38;5;132;01m}\u001b[39;00m\u001b[38;5;130;01m\\n\u001b[39;00m\u001b[33mAnswer:\u001b[39m\u001b[33m\"\u001b[39m\n\u001b[32m---> \u001b[39m\u001b[32m79\u001b[39m response = \u001b[43mchat\u001b[49m\u001b[43m(\u001b[49m\u001b[43mmodel\u001b[49m\u001b[43m=\u001b[49m\u001b[43mllm_model\u001b[49m\u001b[43m,\u001b[49m\u001b[43m \u001b[49m\u001b[43mmessages\u001b[49m\u001b[43m=\u001b[49m\u001b[43m[\u001b[49m\u001b[43m{\u001b[49m\n\u001b[32m     80\u001b[39m \u001b[43m    \u001b[49m\u001b[33;43m'\u001b[39;49m\u001b[33;43mrole\u001b[39;49m\u001b[33;43m'\u001b[39;49m\u001b[43m:\u001b[49m\u001b[43m \u001b[49m\u001b[33;43m'\u001b[39;49m\u001b[33;43msystem\u001b[39;49m\u001b[33;43m'\u001b[39;49m\u001b[43m,\u001b[49m\n\u001b[32m     81\u001b[39m \u001b[43m    \u001b[49m\u001b[33;43m'\u001b[39;49m\u001b[33;43mcontent\u001b[39;49m\u001b[33;43m'\u001b[39;49m\u001b[43m:\u001b[49m\u001b[43m \u001b[49m\u001b[43msystem_prompt_score\u001b[49m\u001b[43m \u001b[49m\u001b[38;5;28;43;01mif\u001b[39;49;00m\u001b[43m \u001b[49m\u001b[43mmode\u001b[49m\u001b[43m \u001b[49m\u001b[43m==\u001b[49m\u001b[43m \u001b[49m\u001b[33;43m\"\u001b[39;49m\u001b[33;43mscore\u001b[39;49m\u001b[33;43m\"\u001b[39;49m\u001b[43m \u001b[49m\u001b[38;5;28;43;01melse\u001b[39;49;00m\u001b[43m \u001b[49m\u001b[43msystem_prompt_binary\u001b[49m\u001b[43m,\u001b[49m\n\u001b[32m     82\u001b[39m \u001b[43m\u001b[49m\u001b[43m}\u001b[49m\u001b[43m,\u001b[49m\n\u001b[32m     83\u001b[39m \u001b[43m    \u001b[49m\u001b[43m{\u001b[49m\n\u001b[32m     84\u001b[39m \u001b[43m    \u001b[49m\u001b[33;43m'\u001b[39;49m\u001b[33;43mrole\u001b[39;49m\u001b[33;43m'\u001b[39;49m\u001b[43m:\u001b[49m\u001b[43m \u001b[49m\u001b[33;43m'\u001b[39;49m\u001b[33;43muser\u001b[39;49m\u001b[33;43m'\u001b[39;49m\u001b[43m,\u001b[49m\n\u001b[32m     85\u001b[39m \u001b[43m    \u001b[49m\u001b[33;43m'\u001b[39;49m\u001b[33;43mcontent\u001b[39;49m\u001b[33;43m'\u001b[39;49m\u001b[43m:\u001b[49m\u001b[43m \u001b[49m\u001b[43muser_prompt\u001b[49m\n\u001b[32m     86\u001b[39m \u001b[43m\u001b[49m\u001b[43m}\u001b[49m\u001b[43m]\u001b[49m\u001b[43m)\u001b[49m\n\u001b[32m     88\u001b[39m \u001b[38;5;28;01mreturn\u001b[39;00m response[\u001b[33m'\u001b[39m\u001b[33mmessage\u001b[39m\u001b[33m'\u001b[39m][\u001b[33m'\u001b[39m\u001b[33mcontent\u001b[39m\u001b[33m'\u001b[39m]\n",
      "\u001b[36mFile \u001b[39m\u001b[32m/cluster/courses/ml4h/jupyter/lib/python3.12/site-packages/ollama/_client.py:333\u001b[39m, in \u001b[36mClient.chat\u001b[39m\u001b[34m(self, model, messages, tools, stream, format, options, keep_alive)\u001b[39m\n\u001b[32m    289\u001b[39m \u001b[38;5;28;01mdef\u001b[39;00m\u001b[38;5;250m \u001b[39m\u001b[34mchat\u001b[39m(\n\u001b[32m    290\u001b[39m   \u001b[38;5;28mself\u001b[39m,\n\u001b[32m    291\u001b[39m   model: \u001b[38;5;28mstr\u001b[39m = \u001b[33m'\u001b[39m\u001b[33m'\u001b[39m,\n\u001b[32m   (...)\u001b[39m\u001b[32m    298\u001b[39m   keep_alive: Optional[Union[\u001b[38;5;28mfloat\u001b[39m, \u001b[38;5;28mstr\u001b[39m]] = \u001b[38;5;28;01mNone\u001b[39;00m,\n\u001b[32m    299\u001b[39m ) -> Union[ChatResponse, Iterator[ChatResponse]]:\n\u001b[32m    300\u001b[39m \u001b[38;5;250m  \u001b[39m\u001b[33;03m\"\"\"\u001b[39;00m\n\u001b[32m    301\u001b[39m \u001b[33;03m  Create a chat response using the requested model.\u001b[39;00m\n\u001b[32m    302\u001b[39m \n\u001b[32m   (...)\u001b[39m\u001b[32m    331\u001b[39m \u001b[33;03m  Returns `ChatResponse` if `stream` is `False`, otherwise returns a `ChatResponse` generator.\u001b[39;00m\n\u001b[32m    332\u001b[39m \u001b[33;03m  \"\"\"\u001b[39;00m\n\u001b[32m--> \u001b[39m\u001b[32m333\u001b[39m   \u001b[38;5;28;01mreturn\u001b[39;00m \u001b[38;5;28;43mself\u001b[39;49m\u001b[43m.\u001b[49m\u001b[43m_request\u001b[49m\u001b[43m(\u001b[49m\n\u001b[32m    334\u001b[39m \u001b[43m    \u001b[49m\u001b[43mChatResponse\u001b[49m\u001b[43m,\u001b[49m\n\u001b[32m    335\u001b[39m \u001b[43m    \u001b[49m\u001b[33;43m'\u001b[39;49m\u001b[33;43mPOST\u001b[39;49m\u001b[33;43m'\u001b[39;49m\u001b[43m,\u001b[49m\n\u001b[32m    336\u001b[39m \u001b[43m    \u001b[49m\u001b[33;43m'\u001b[39;49m\u001b[33;43m/api/chat\u001b[39;49m\u001b[33;43m'\u001b[39;49m\u001b[43m,\u001b[49m\n\u001b[32m    337\u001b[39m \u001b[43m    \u001b[49m\u001b[43mjson\u001b[49m\u001b[43m=\u001b[49m\u001b[43mChatRequest\u001b[49m\u001b[43m(\u001b[49m\n\u001b[32m    338\u001b[39m \u001b[43m      \u001b[49m\u001b[43mmodel\u001b[49m\u001b[43m=\u001b[49m\u001b[43mmodel\u001b[49m\u001b[43m,\u001b[49m\n\u001b[32m    339\u001b[39m \u001b[43m      \u001b[49m\u001b[43mmessages\u001b[49m\u001b[43m=\u001b[49m\u001b[43m[\u001b[49m\u001b[43mmessage\u001b[49m\u001b[43m \u001b[49m\u001b[38;5;28;43;01mfor\u001b[39;49;00m\u001b[43m \u001b[49m\u001b[43mmessage\u001b[49m\u001b[43m \u001b[49m\u001b[38;5;129;43;01min\u001b[39;49;00m\u001b[43m \u001b[49m\u001b[43m_copy_messages\u001b[49m\u001b[43m(\u001b[49m\u001b[43mmessages\u001b[49m\u001b[43m)\u001b[49m\u001b[43m]\u001b[49m\u001b[43m,\u001b[49m\n\u001b[32m    340\u001b[39m \u001b[43m      \u001b[49m\u001b[43mtools\u001b[49m\u001b[43m=\u001b[49m\u001b[43m[\u001b[49m\u001b[43mtool\u001b[49m\u001b[43m \u001b[49m\u001b[38;5;28;43;01mfor\u001b[39;49;00m\u001b[43m \u001b[49m\u001b[43mtool\u001b[49m\u001b[43m \u001b[49m\u001b[38;5;129;43;01min\u001b[39;49;00m\u001b[43m \u001b[49m\u001b[43m_copy_tools\u001b[49m\u001b[43m(\u001b[49m\u001b[43mtools\u001b[49m\u001b[43m)\u001b[49m\u001b[43m]\u001b[49m\u001b[43m,\u001b[49m\n\u001b[32m    341\u001b[39m \u001b[43m      \u001b[49m\u001b[43mstream\u001b[49m\u001b[43m=\u001b[49m\u001b[43mstream\u001b[49m\u001b[43m,\u001b[49m\n\u001b[32m    342\u001b[39m \u001b[43m      \u001b[49m\u001b[38;5;28;43mformat\u001b[39;49m\u001b[43m=\u001b[49m\u001b[38;5;28;43mformat\u001b[39;49m\u001b[43m,\u001b[49m\n\u001b[32m    343\u001b[39m \u001b[43m      \u001b[49m\u001b[43moptions\u001b[49m\u001b[43m=\u001b[49m\u001b[43moptions\u001b[49m\u001b[43m,\u001b[49m\n\u001b[32m    344\u001b[39m \u001b[43m      \u001b[49m\u001b[43mkeep_alive\u001b[49m\u001b[43m=\u001b[49m\u001b[43mkeep_alive\u001b[49m\u001b[43m,\u001b[49m\n\u001b[32m    345\u001b[39m \u001b[43m    \u001b[49m\u001b[43m)\u001b[49m\u001b[43m.\u001b[49m\u001b[43mmodel_dump\u001b[49m\u001b[43m(\u001b[49m\u001b[43mexclude_none\u001b[49m\u001b[43m=\u001b[49m\u001b[38;5;28;43;01mTrue\u001b[39;49;00m\u001b[43m)\u001b[49m\u001b[43m,\u001b[49m\n\u001b[32m    346\u001b[39m \u001b[43m    \u001b[49m\u001b[43mstream\u001b[49m\u001b[43m=\u001b[49m\u001b[43mstream\u001b[49m\u001b[43m,\u001b[49m\n\u001b[32m    347\u001b[39m \u001b[43m  \u001b[49m\u001b[43m)\u001b[49m\n",
      "\u001b[36mFile \u001b[39m\u001b[32m/cluster/courses/ml4h/jupyter/lib/python3.12/site-packages/ollama/_client.py:178\u001b[39m, in \u001b[36mClient._request\u001b[39m\u001b[34m(self, cls, stream, *args, **kwargs)\u001b[39m\n\u001b[32m    174\u001b[39m         \u001b[38;5;28;01myield\u001b[39;00m \u001b[38;5;28mcls\u001b[39m(**part)\n\u001b[32m    176\u001b[39m   \u001b[38;5;28;01mreturn\u001b[39;00m inner()\n\u001b[32m--> \u001b[39m\u001b[32m178\u001b[39m \u001b[38;5;28;01mreturn\u001b[39;00m \u001b[38;5;28mcls\u001b[39m(**\u001b[38;5;28;43mself\u001b[39;49m\u001b[43m.\u001b[49m\u001b[43m_request_raw\u001b[49m\u001b[43m(\u001b[49m\u001b[43m*\u001b[49m\u001b[43margs\u001b[49m\u001b[43m,\u001b[49m\u001b[43m \u001b[49m\u001b[43m*\u001b[49m\u001b[43m*\u001b[49m\u001b[43mkwargs\u001b[49m\u001b[43m)\u001b[49m.json())\n",
      "\u001b[36mFile \u001b[39m\u001b[32m/cluster/courses/ml4h/jupyter/lib/python3.12/site-packages/ollama/_client.py:118\u001b[39m, in \u001b[36mClient._request_raw\u001b[39m\u001b[34m(self, *args, **kwargs)\u001b[39m\n\u001b[32m    116\u001b[39m \u001b[38;5;28;01mdef\u001b[39;00m\u001b[38;5;250m \u001b[39m\u001b[34m_request_raw\u001b[39m(\u001b[38;5;28mself\u001b[39m, *args, **kwargs):\n\u001b[32m    117\u001b[39m   \u001b[38;5;28;01mtry\u001b[39;00m:\n\u001b[32m--> \u001b[39m\u001b[32m118\u001b[39m     r = \u001b[38;5;28;43mself\u001b[39;49m\u001b[43m.\u001b[49m\u001b[43m_client\u001b[49m\u001b[43m.\u001b[49m\u001b[43mrequest\u001b[49m\u001b[43m(\u001b[49m\u001b[43m*\u001b[49m\u001b[43margs\u001b[49m\u001b[43m,\u001b[49m\u001b[43m \u001b[49m\u001b[43m*\u001b[49m\u001b[43m*\u001b[49m\u001b[43mkwargs\u001b[49m\u001b[43m)\u001b[49m\n\u001b[32m    119\u001b[39m     r.raise_for_status()\n\u001b[32m    120\u001b[39m     \u001b[38;5;28;01mreturn\u001b[39;00m r\n",
      "\u001b[36mFile \u001b[39m\u001b[32m/cluster/courses/ml4h/jupyter/lib/python3.12/site-packages/httpx/_client.py:825\u001b[39m, in \u001b[36mClient.request\u001b[39m\u001b[34m(self, method, url, content, data, files, json, params, headers, cookies, auth, follow_redirects, timeout, extensions)\u001b[39m\n\u001b[32m    810\u001b[39m     warnings.warn(message, \u001b[38;5;167;01mDeprecationWarning\u001b[39;00m, stacklevel=\u001b[32m2\u001b[39m)\n\u001b[32m    812\u001b[39m request = \u001b[38;5;28mself\u001b[39m.build_request(\n\u001b[32m    813\u001b[39m     method=method,\n\u001b[32m    814\u001b[39m     url=url,\n\u001b[32m   (...)\u001b[39m\u001b[32m    823\u001b[39m     extensions=extensions,\n\u001b[32m    824\u001b[39m )\n\u001b[32m--> \u001b[39m\u001b[32m825\u001b[39m \u001b[38;5;28;01mreturn\u001b[39;00m \u001b[38;5;28;43mself\u001b[39;49m\u001b[43m.\u001b[49m\u001b[43msend\u001b[49m\u001b[43m(\u001b[49m\u001b[43mrequest\u001b[49m\u001b[43m,\u001b[49m\u001b[43m \u001b[49m\u001b[43mauth\u001b[49m\u001b[43m=\u001b[49m\u001b[43mauth\u001b[49m\u001b[43m,\u001b[49m\u001b[43m \u001b[49m\u001b[43mfollow_redirects\u001b[49m\u001b[43m=\u001b[49m\u001b[43mfollow_redirects\u001b[49m\u001b[43m)\u001b[49m\n",
      "\u001b[36mFile \u001b[39m\u001b[32m/cluster/courses/ml4h/jupyter/lib/python3.12/site-packages/httpx/_client.py:914\u001b[39m, in \u001b[36mClient.send\u001b[39m\u001b[34m(self, request, stream, auth, follow_redirects)\u001b[39m\n\u001b[32m    910\u001b[39m \u001b[38;5;28mself\u001b[39m._set_timeout(request)\n\u001b[32m    912\u001b[39m auth = \u001b[38;5;28mself\u001b[39m._build_request_auth(request, auth)\n\u001b[32m--> \u001b[39m\u001b[32m914\u001b[39m response = \u001b[38;5;28;43mself\u001b[39;49m\u001b[43m.\u001b[49m\u001b[43m_send_handling_auth\u001b[49m\u001b[43m(\u001b[49m\n\u001b[32m    915\u001b[39m \u001b[43m    \u001b[49m\u001b[43mrequest\u001b[49m\u001b[43m,\u001b[49m\n\u001b[32m    916\u001b[39m \u001b[43m    \u001b[49m\u001b[43mauth\u001b[49m\u001b[43m=\u001b[49m\u001b[43mauth\u001b[49m\u001b[43m,\u001b[49m\n\u001b[32m    917\u001b[39m \u001b[43m    \u001b[49m\u001b[43mfollow_redirects\u001b[49m\u001b[43m=\u001b[49m\u001b[43mfollow_redirects\u001b[49m\u001b[43m,\u001b[49m\n\u001b[32m    918\u001b[39m \u001b[43m    \u001b[49m\u001b[43mhistory\u001b[49m\u001b[43m=\u001b[49m\u001b[43m[\u001b[49m\u001b[43m]\u001b[49m\u001b[43m,\u001b[49m\n\u001b[32m    919\u001b[39m \u001b[43m\u001b[49m\u001b[43m)\u001b[49m\n\u001b[32m    920\u001b[39m \u001b[38;5;28;01mtry\u001b[39;00m:\n\u001b[32m    921\u001b[39m     \u001b[38;5;28;01mif\u001b[39;00m \u001b[38;5;129;01mnot\u001b[39;00m stream:\n",
      "\u001b[36mFile \u001b[39m\u001b[32m/cluster/courses/ml4h/jupyter/lib/python3.12/site-packages/httpx/_client.py:942\u001b[39m, in \u001b[36mClient._send_handling_auth\u001b[39m\u001b[34m(self, request, auth, follow_redirects, history)\u001b[39m\n\u001b[32m    939\u001b[39m request = \u001b[38;5;28mnext\u001b[39m(auth_flow)\n\u001b[32m    941\u001b[39m \u001b[38;5;28;01mwhile\u001b[39;00m \u001b[38;5;28;01mTrue\u001b[39;00m:\n\u001b[32m--> \u001b[39m\u001b[32m942\u001b[39m     response = \u001b[38;5;28;43mself\u001b[39;49m\u001b[43m.\u001b[49m\u001b[43m_send_handling_redirects\u001b[49m\u001b[43m(\u001b[49m\n\u001b[32m    943\u001b[39m \u001b[43m        \u001b[49m\u001b[43mrequest\u001b[49m\u001b[43m,\u001b[49m\n\u001b[32m    944\u001b[39m \u001b[43m        \u001b[49m\u001b[43mfollow_redirects\u001b[49m\u001b[43m=\u001b[49m\u001b[43mfollow_redirects\u001b[49m\u001b[43m,\u001b[49m\n\u001b[32m    945\u001b[39m \u001b[43m        \u001b[49m\u001b[43mhistory\u001b[49m\u001b[43m=\u001b[49m\u001b[43mhistory\u001b[49m\u001b[43m,\u001b[49m\n\u001b[32m    946\u001b[39m \u001b[43m    \u001b[49m\u001b[43m)\u001b[49m\n\u001b[32m    947\u001b[39m     \u001b[38;5;28;01mtry\u001b[39;00m:\n\u001b[32m    948\u001b[39m         \u001b[38;5;28;01mtry\u001b[39;00m:\n",
      "\u001b[36mFile \u001b[39m\u001b[32m/cluster/courses/ml4h/jupyter/lib/python3.12/site-packages/httpx/_client.py:979\u001b[39m, in \u001b[36mClient._send_handling_redirects\u001b[39m\u001b[34m(self, request, follow_redirects, history)\u001b[39m\n\u001b[32m    976\u001b[39m \u001b[38;5;28;01mfor\u001b[39;00m hook \u001b[38;5;129;01min\u001b[39;00m \u001b[38;5;28mself\u001b[39m._event_hooks[\u001b[33m\"\u001b[39m\u001b[33mrequest\u001b[39m\u001b[33m\"\u001b[39m]:\n\u001b[32m    977\u001b[39m     hook(request)\n\u001b[32m--> \u001b[39m\u001b[32m979\u001b[39m response = \u001b[38;5;28;43mself\u001b[39;49m\u001b[43m.\u001b[49m\u001b[43m_send_single_request\u001b[49m\u001b[43m(\u001b[49m\u001b[43mrequest\u001b[49m\u001b[43m)\u001b[49m\n\u001b[32m    980\u001b[39m \u001b[38;5;28;01mtry\u001b[39;00m:\n\u001b[32m    981\u001b[39m     \u001b[38;5;28;01mfor\u001b[39;00m hook \u001b[38;5;129;01min\u001b[39;00m \u001b[38;5;28mself\u001b[39m._event_hooks[\u001b[33m\"\u001b[39m\u001b[33mresponse\u001b[39m\u001b[33m\"\u001b[39m]:\n",
      "\u001b[36mFile \u001b[39m\u001b[32m/cluster/courses/ml4h/jupyter/lib/python3.12/site-packages/httpx/_client.py:1014\u001b[39m, in \u001b[36mClient._send_single_request\u001b[39m\u001b[34m(self, request)\u001b[39m\n\u001b[32m   1009\u001b[39m     \u001b[38;5;28;01mraise\u001b[39;00m \u001b[38;5;167;01mRuntimeError\u001b[39;00m(\n\u001b[32m   1010\u001b[39m         \u001b[33m\"\u001b[39m\u001b[33mAttempted to send an async request with a sync Client instance.\u001b[39m\u001b[33m\"\u001b[39m\n\u001b[32m   1011\u001b[39m     )\n\u001b[32m   1013\u001b[39m \u001b[38;5;28;01mwith\u001b[39;00m request_context(request=request):\n\u001b[32m-> \u001b[39m\u001b[32m1014\u001b[39m     response = \u001b[43mtransport\u001b[49m\u001b[43m.\u001b[49m\u001b[43mhandle_request\u001b[49m\u001b[43m(\u001b[49m\u001b[43mrequest\u001b[49m\u001b[43m)\u001b[49m\n\u001b[32m   1016\u001b[39m \u001b[38;5;28;01massert\u001b[39;00m \u001b[38;5;28misinstance\u001b[39m(response.stream, SyncByteStream)\n\u001b[32m   1018\u001b[39m response.request = request\n",
      "\u001b[36mFile \u001b[39m\u001b[32m/cluster/courses/ml4h/jupyter/lib/python3.12/site-packages/httpx/_transports/default.py:249\u001b[39m, in \u001b[36mHTTPTransport.handle_request\u001b[39m\u001b[34m(self, request)\u001b[39m\n\u001b[32m    235\u001b[39m \u001b[38;5;28;01mimport\u001b[39;00m\u001b[38;5;250m \u001b[39m\u001b[34;01mhttpcore\u001b[39;00m\n\u001b[32m    237\u001b[39m req = httpcore.Request(\n\u001b[32m    238\u001b[39m     method=request.method,\n\u001b[32m    239\u001b[39m     url=httpcore.URL(\n\u001b[32m   (...)\u001b[39m\u001b[32m    247\u001b[39m     extensions=request.extensions,\n\u001b[32m    248\u001b[39m )\n\u001b[32m--> \u001b[39m\u001b[32m249\u001b[39m \u001b[43m\u001b[49m\u001b[38;5;28;43;01mwith\u001b[39;49;00m\u001b[43m \u001b[49m\u001b[43mmap_httpcore_exceptions\u001b[49m\u001b[43m(\u001b[49m\u001b[43m)\u001b[49m\u001b[43m:\u001b[49m\n\u001b[32m    250\u001b[39m \u001b[43m    \u001b[49m\u001b[43mresp\u001b[49m\u001b[43m \u001b[49m\u001b[43m=\u001b[49m\u001b[43m \u001b[49m\u001b[38;5;28;43mself\u001b[39;49m\u001b[43m.\u001b[49m\u001b[43m_pool\u001b[49m\u001b[43m.\u001b[49m\u001b[43mhandle_request\u001b[49m\u001b[43m(\u001b[49m\u001b[43mreq\u001b[49m\u001b[43m)\u001b[49m\n\u001b[32m    252\u001b[39m \u001b[38;5;28;01massert\u001b[39;00m \u001b[38;5;28misinstance\u001b[39m(resp.stream, typing.Iterable)\n",
      "\u001b[36mFile \u001b[39m\u001b[32m/usr/lib/python3.12/contextlib.py:158\u001b[39m, in \u001b[36m_GeneratorContextManager.__exit__\u001b[39m\u001b[34m(self, typ, value, traceback)\u001b[39m\n\u001b[32m    156\u001b[39m     value = typ()\n\u001b[32m    157\u001b[39m \u001b[38;5;28;01mtry\u001b[39;00m:\n\u001b[32m--> \u001b[39m\u001b[32m158\u001b[39m     \u001b[38;5;28;43mself\u001b[39;49m\u001b[43m.\u001b[49m\u001b[43mgen\u001b[49m\u001b[43m.\u001b[49m\u001b[43mthrow\u001b[49m\u001b[43m(\u001b[49m\u001b[43mvalue\u001b[49m\u001b[43m)\u001b[49m\n\u001b[32m    159\u001b[39m \u001b[38;5;28;01mexcept\u001b[39;00m \u001b[38;5;167;01mStopIteration\u001b[39;00m \u001b[38;5;28;01mas\u001b[39;00m exc:\n\u001b[32m    160\u001b[39m     \u001b[38;5;66;03m# Suppress StopIteration *unless* it's the same exception that\u001b[39;00m\n\u001b[32m    161\u001b[39m     \u001b[38;5;66;03m# was passed to throw().  This prevents a StopIteration\u001b[39;00m\n\u001b[32m    162\u001b[39m     \u001b[38;5;66;03m# raised inside the \"with\" statement from being suppressed.\u001b[39;00m\n\u001b[32m    163\u001b[39m     \u001b[38;5;28;01mreturn\u001b[39;00m exc \u001b[38;5;129;01mis\u001b[39;00m \u001b[38;5;129;01mnot\u001b[39;00m value\n",
      "\u001b[36mFile \u001b[39m\u001b[32m/cluster/courses/ml4h/jupyter/lib/python3.12/site-packages/httpx/_transports/default.py:118\u001b[39m, in \u001b[36mmap_httpcore_exceptions\u001b[39m\u001b[34m()\u001b[39m\n\u001b[32m    115\u001b[39m     \u001b[38;5;28;01mraise\u001b[39;00m\n\u001b[32m    117\u001b[39m message = \u001b[38;5;28mstr\u001b[39m(exc)\n\u001b[32m--> \u001b[39m\u001b[32m118\u001b[39m \u001b[38;5;28;01mraise\u001b[39;00m mapped_exc(message) \u001b[38;5;28;01mfrom\u001b[39;00m\u001b[38;5;250m \u001b[39m\u001b[34;01mexc\u001b[39;00m\n",
      "\u001b[31mRemoteProtocolError\u001b[39m: Server disconnected without sending a response."
     ]
    }
   ],
   "source": [
    "from itertools import product\n",
    "\n",
    "summary_cols = ['summary_statistical', 'summary_trend']\n",
    "prompt_modes = ['few-shot', 'zero-shot']\n",
    "score_modes = ['binary', 'score'] # score mode has prooved to be better\n",
    "\n",
    "# Loop through all combinations\n",
    "for summary_col, prompt_mode in product(summary_cols, prompt_modes):\n",
    "    kwargs = {\n",
    "        'summary_df': summaries_c_small if run_efficient else summaries_c,\n",
    "        'text_col': summary_col,\n",
    "        'mode': \"score\",\n",
    "    }\n",
    "    \n",
    "    label = f\"{prompt_mode.title()} | {summary_col} | score mode\"\n",
    "    \n",
    "    # Add few-shot parameters if needed\n",
    "    if prompt_mode == 'few-shot':\n",
    "        kwargs['few_shot'] = True\n",
    "        kwargs['df_train_for_examples'] = summaries_a\n",
    "    \n",
    "    results = evaluate_llm_predictions(**kwargs)\n",
    "    print(f\"{label} → AUROC: {results['auroc']:.3f}, AUPRC: {results['auprc']:.3f}\")"
   ]
  },
  {
   "cell_type": "markdown",
   "id": "4e8de72bc89e77f7",
   "metadata": {},
   "source": [
    "# Q4.2 Using LLs to retrieve embeddings"
   ]
  },
  {
   "cell_type": "code",
   "execution_count": 14,
   "id": "6139098cde238d2d",
   "metadata": {
    "ExecuteTime": {
     "end_time": "2025-03-30T23:50:41.786579Z",
     "start_time": "2025-03-30T14:03:23.198322Z"
    }
   },
   "outputs": [],
   "source": [
    "import numpy as np\n",
    "import pandas as pd\n",
    "from ollama import embed\n",
    "from sklearn.linear_model import LogisticRegression\n",
    "from sklearn.metrics import roc_auc_score, average_precision_score\n",
    "from sklearn.manifold import TSNE\n",
    "import matplotlib.pyplot as plt\n",
    "\n",
    "def get_embedding_ollama(text: str, model_name=llm_model):\n",
    "    \"\"\"\n",
    "    Calls the Ollama embedding API for a given string.\n",
    "    \"\"\"\n",
    "    response = embed(model=model_name, input=text)\n",
    "    return np.array(response.get(\"embeddings\", []), dtype=float)\n",
    "\n",
    "def build_embeddings(df, summary_col=\"summary_statistical\", model_name=llm_model):\n",
    "    \"\"\"\n",
    "    For each row in the DataFrame, get an embedding and corresponding label.\n",
    "    \"\"\"\n",
    "    embeddings = []\n",
    "    labels = []\n",
    "\n",
    "    for _, row in df.iterrows():\n",
    "        text = row[summary_col]\n",
    "        label = row[\"In-hospital_death\"]\n",
    "        emb = get_embedding_ollama(text, model_name=model_name)\n",
    "        embeddings.append(emb)\n",
    "        labels.append(label)\n",
    "\n",
    "    return np.vstack(embeddings), np.array(labels)\n",
    "\n",
    "def train_and_evaluate(train_X, train_y, test_X, test_y):\n",
    "    clf = LogisticRegression(max_iter=2000)\n",
    "    clf.fit(train_X, train_y)\n",
    "    probs = clf.predict_proba(test_X)[:, 1]\n",
    "\n",
    "    auroc = roc_auc_score(test_y, probs)\n",
    "    auprc = average_precision_score(test_y, probs)\n",
    "    return probs, auroc, auprc\n",
    "\n",
    "def visualize_tsne(embeddings, labels, title=\"t-SNE of Embeddings\"):\n",
    "    tsne = TSNE(n_components=2, perplexity=30, random_state=42)\n",
    "    emb_2d = tsne.fit_transform(embeddings)\n",
    "\n",
    "    plt.figure(figsize=(8,6))\n",
    "    scatter = plt.scatter(emb_2d[:,0], emb_2d[:,1], c=labels, cmap='coolwarm', alpha=0.7)\n",
    "    plt.colorbar(scatter, label=\"In-hospital Death (0/1)\")\n",
    "    plt.title(title)\n",
    "    plt.xlabel(\"TSNE-1\")\n",
    "    plt.ylabel(\"TSNE-2\")\n",
    "    plt.show()\n"
   ]
  },
  {
   "cell_type": "markdown",
   "id": "855bcc6d32a417ad",
   "metadata": {},
   "source": [
    "### LLMs embeddings with Statistical Summary"
   ]
  },
  {
   "cell_type": "code",
   "execution_count": 15,
   "id": "5ac85767a28d0584",
   "metadata": {
    "ExecuteTime": {
     "end_time": "2025-03-30T23:50:41.786579Z",
     "start_time": "2025-03-30T13:48:16.798194Z"
    }
   },
   "outputs": [],
   "source": [
    "summaries_a_small = summaries_a.sample(100, random_state = 1)"
   ]
  },
  {
   "cell_type": "markdown",
   "id": "60a671aebd5e1bb3",
   "metadata": {},
   "source": []
  },
  {
   "cell_type": "code",
   "execution_count": 16,
   "id": "92e51cedfeafddef",
   "metadata": {
    "ExecuteTime": {
     "end_time": "2025-03-30T23:50:41.786579Z",
     "start_time": "2025-03-30T14:03:27.651936Z"
    }
   },
   "outputs": [
    {
     "name": "stdout",
     "output_type": "stream",
     "text": [
      "Test AuROC: 0.0000, Test AuPRC: 0.2000\n"
     ]
    },
    {
     "data": {
      "image/png": "[encoded data removed]",
      "text/plain": [
       "<Figure size 800x600 with 2 Axes>"
      ]
     },
     "metadata": {},
     "output_type": "display_data"
    }
   ],
   "source": [
    "if run_efficient:\n",
    "    train_X, train_y = build_embeddings(summaries_a_small, summary_col=\"summary_statistical\", model_name=llm_model)\n",
    "    test_X, test_y = build_embeddings(summaries_c_small, summary_col=\"summary_statistical\", model_name=llm_model)\n",
    "else: \n",
    "    train_X, train_y = build_embeddings(summaries_a, summary_col=\"summary_statistical\", model_name=llm_model)\n",
    "    test_X, test_y = build_embeddings(summaries_c, summary_col=\"summary_statistical\", model_name=llm_model)\n",
    "\n",
    "probs, auroc, auprc = train_and_evaluate(train_X, train_y, test_X, test_y)\n",
    "print(f\"Test AuROC: {auroc:.4f}, Test AuPRC: {auprc:.4f}\")\n",
    "\n",
    "if run_efficient:\n",
    "    visualize_tsne(train_X, train_y, title=f\"t-SNE of {llm_model} Embeddings (Test Set)\")\n",
    "else: \n",
    "    visualize_tsne(test_X, test_y, title=f\"t-SNE of {llm_model} Embeddings (Test Set)\")"
   ]
  },
  {
   "cell_type": "markdown",
   "id": "9e2e9cb55e282acf",
   "metadata": {},
   "source": [
    "### LLMs embeddings with Trend Summary"
   ]
  },
  {
   "cell_type": "code",
   "execution_count": 17,
   "id": "6ae1a99d85d09168",
   "metadata": {
    "ExecuteTime": {
     "end_time": "2025-03-30T23:50:42.262415500Z",
     "start_time": "2025-03-30T14:11:33.060315Z"
    }
   },
   "outputs": [
    {
     "name": "stdout",
     "output_type": "stream",
     "text": [
      "Test AuROC: 0.0000, Test AuPRC: 0.2000\n"
     ]
    },
    {
     "data": {
      "image/png": "[encoded data removed]",
      "text/plain": [
       "<Figure size 800x600 with 2 Axes>"
      ]
     },
     "metadata": {},
     "output_type": "display_data"
    }
   ],
   "source": [
    "if run_efficient:\n",
    "    train_X, train_y = build_embeddings(summaries_a_small, summary_col=\"summary_trend\", model_name=llm_model)\n",
    "    test_X, test_y = build_embeddings(summaries_c_small, summary_col=\"summary_trend\", model_name=llm_model)\n",
    "else: \n",
    "    train_X, train_y = build_embeddings(summaries_a, summary_col=\"summary_trend\", model_name=llm_model)\n",
    "    test_X, test_y = build_embeddings(summaries_c, summary_col=\"summary_trend\", model_name=llm_model)\n",
    "\n",
    "probs, auroc, auprc = train_and_evaluate(train_X, train_y, test_X, test_y)\n",
    "print(f\"Test AuROC: {auroc:.4f}, Test AuPRC: {auprc:.4f}\")\n",
    "\n",
    "\n",
    "if run_efficient:\n",
    "    visualize_tsne(train_X, train_y, title=f\"t-SNE of {llm_model} Embeddings (Test Set)\")\n",
    "else: \n",
    "    visualize_tsne(test_X, test_y, title=f\"t-SNE of {llm_model} Embeddings (Test Set)\")\n"
   ]
  },
  {
   "cell_type": "markdown",
   "id": "664018ffea9814f3",
   "metadata": {},
   "source": [
    "# Q4.3 Using time-series foundation models"
   ]
  },
  {
   "cell_type": "markdown",
   "id": "3f857ac3d9e4b2c6",
   "metadata": {},
   "source": [
    "Generate small datasets for testing"
   ]
  },
  {
   "cell_type": "code",
   "execution_count": 18,
   "id": "de8bb9d719e64cad",
   "metadata": {
    "ExecuteTime": {
     "end_time": "2025-03-30T23:50:42.442425100Z",
     "start_time": "2025-03-30T14:44:46.137226Z"
    }
   },
   "outputs": [],
   "source": [
    "np.random.seed(1)\n",
    "\n",
    "a_ids_small = np.random.choice(df_a['RecordID'].unique(), size=100, replace=False)\n",
    "df_a_small = df_a[df_a['RecordID'].isin(a_ids_small)]\n",
    "\n",
    "c_ids_small = np.random.choice(df_c['RecordID'].unique(), size=10, replace=False)\n",
    "df_c_small = df_c[df_c['RecordID'].isin(b_ids_small)]"
   ]
  },
  {
   "cell_type": "code",
   "execution_count": 19,
   "id": "6fa268502a2e4cd7",
   "metadata": {
    "ExecuteTime": {
     "end_time": "2025-03-30T23:50:42.452131900Z",
     "start_time": "2025-03-30T20:40:09.194547Z"
    }
   },
   "outputs": [],
   "source": [
    "\n",
    "import torch\n",
    "import torch.nn as nn\n",
    "import numpy as np\n",
    "import pandas as pd\n",
    "from sklearn.linear_model import LogisticRegression\n",
    "from sklearn.metrics import roc_auc_score, average_precision_score\n",
    "\n",
    "import pandas as pd\n",
    "import torch\n",
    "from chronos import ChronosPipeline\n",
    "\n",
    "pipeline = ChronosPipeline.from_pretrained(\n",
    "    \"amazon/chronos-t5-small\",\n",
    "    device_map=device_map,\n",
    "    torch_dtype=torch.float32,\n",
    ")\n",
    "\n",
    "def get_univariate_embedding(pipeline, single_var_series):\n",
    "    \"\"\"\n",
    "    Given a single univariate time series (1D array), return its Chronos embedding.\n",
    "    \"\"\"\n",
    "    if not isinstance(single_var_series, torch.Tensor):\n",
    "        series_tensor = torch.tensor(single_var_series, dtype=torch.float32)\n",
    "    else:\n",
    "        series_tensor = single_var_series.float()\n",
    "    # Chronos supports single 1D tensors directly\n",
    "    with torch.no_grad():\n",
    "        embedding, _ = pipeline.embed(series_tensor)\n",
    "        \n",
    "    if embedding.ndim == 3: # bc of batch logic it returns embedding as torch.Size([1, 49, 512]) \n",
    "        embedding = embedding.squeeze(0)\n",
    "    return embedding.mean(dim=0) # Average pooling\n",
    "\n",
    "def compute_patient_embedding_naive(pipeline, multivar_data, variables):\n",
    "    \"\"\"\n",
    "    Given a dictionary of { variable_name: 1D time series } for a patient,\n",
    "    compute the average embedding across variables.\n",
    "    \"\"\"\n",
    "    embeddings = []\n",
    "\n",
    "    for var_name, series in multivar_data.items():\n",
    "        if var_name in variables:\n",
    "            if len(series) == 0:\n",
    "                continue\n",
    "            emb = get_univariate_embedding(pipeline, series)\n",
    "            embeddings.append(emb)\n",
    "\n",
    "    if not embeddings:\n",
    "        return torch.zeros(512)  # or whatever the embedding dim is\n",
    "\n",
    "    return torch.stack(embeddings, dim=0).mean(dim=0)  # shape: [embedding_dim]\n",
    "\n",
    "def build_patient_embeddings_naive(pipeline, df_timeseries, df_labels, variables):\n",
    "    \"\"\"\n",
    "    Builds Chronos embeddings per patient using naive variable-wise averaging.\n",
    "\n",
    "    Args:\n",
    "        pipeline: ChronosPipeline instance\n",
    "        df_timeseries: long-form time series DataFrame with columns:\n",
    "                       ['RecordID', 'Time', var1, var2, ...]\n",
    "        df_labels: DataFrame with columns ['RecordID', 'In-hospital_death']\n",
    "        variables: list of variable names to embed (e.g., ['HeartRate', 'WBC'])\n",
    "\n",
    "    Returns:\n",
    "        X: numpy array of shape [num_patients, embedding_dim]\n",
    "        y: numpy array of shape [num_patients]\n",
    "    \"\"\"\n",
    "    X_list = []\n",
    "    y_list = []\n",
    "\n",
    "    for rid, group in df_timeseries.groupby(\"RecordID\"):\n",
    "        patient_data = {}\n",
    "\n",
    "        for var in variables:\n",
    "            if var in group.columns:\n",
    "                series = group[var].dropna().values\n",
    "                if len(series) > 0:\n",
    "                    patient_data[var] = series\n",
    "\n",
    "        if not patient_data:\n",
    "            continue  # skip if no valid data\n",
    "\n",
    "        emb = compute_patient_embedding_naive(pipeline, patient_data, variables)\n",
    "        X_list.append(emb.cpu().numpy())\n",
    "\n",
    "        # Lookup label\n",
    "        label_row = df_labels[df_labels['RecordID'] == rid]\n",
    "        if not label_row.empty:\n",
    "            y_list.append(label_row['In-hospital_death'].values[0])\n",
    "        else:\n",
    "            continue  # skip if label missing\n",
    "\n",
    "    return np.vstack(X_list), np.array(y_list)\n",
    "\n",
    "\n",
    "# 1) Single Embedding + Linear Probe\n",
    "list_of_variables = ['Gender', 'Height', 'Weight', 'Age', 'Albumin',\n",
    "       'Cholesterol', 'DiasABP', 'HCO3', 'HCT', 'HR', 'Mg', 'MAP', 'Na',\n",
    "       'NIDiasABP', 'NIMAP', 'NISysABP', 'SysABP', 'PaCO2', 'PaO2',\n",
    "       'Platelets', 'RespRate', 'Temp', 'ALP', 'ALT', 'AST', 'BUN',\n",
    "       'Bilirubin', 'Creatinine', 'FiO2', 'GCS', 'Glucose', 'K', 'Lactate',\n",
    "       'MechVent', 'Urine', 'WBC', 'pH', 'SaO2', 'TroponinT', 'TroponinI']"
   ]
  },
  {
   "cell_type": "code",
   "execution_count": 20,
   "id": "d4d276089503a95a",
   "metadata": {
    "ExecuteTime": {
     "end_time": "2025-03-30T23:50:42.453676300Z",
     "start_time": "2025-03-30T20:06:55.297805Z"
    }
   },
   "outputs": [
    {
     "name": "stdout",
     "output_type": "stream",
     "text": [
      "[Naive Aggregation] AuROC=0.0000, AuPRC=0.1000\n"
     ]
    }
   ],
   "source": [
    "if run_efficient:\n",
    "    train_X, train_y = build_patient_embeddings_naive(pipeline, df_a_small, death_a,list_of_variables)\n",
    "    test_X, test_y = build_patient_embeddings_naive(pipeline, df_c_small, death_c, list_of_variables)\n",
    "else: \n",
    "    train_X, train_y = build_patient_embeddings_naive(pipeline, df_a, death_a,list_of_variables)\n",
    "    test_X, test_y = build_patient_embeddings_naive(pipeline, df_c, death_c, list_of_variables)\n",
    "\n",
    "clf = LogisticRegression(max_iter=2000)\n",
    "clf.fit(train_X, train_y)\n",
    "probs = clf.predict_proba(test_X)[:,1]\n",
    "auroc = roc_auc_score(test_y, probs)\n",
    "auprc = average_precision_score(test_y, probs)\n",
    "print(f\"[Naive Aggregation] AuROC={auroc:.4f}, AuPRC={auprc:.4f}\")"
   ]
  },
  {
   "cell_type": "markdown",
   "id": "4b8d6665bb8d3802",
   "metadata": {},
   "source": [
    "Test the embedding function"
   ]
  },
  {
   "cell_type": "code",
   "execution_count": 21,
   "id": "f744f3862b469963",
   "metadata": {
    "ExecuteTime": {
     "end_time": "2025-03-30T23:50:42.453676300Z",
     "start_time": "2025-03-30T20:10:24.565583Z"
    }
   },
   "outputs": [
    {
     "data": {
      "text/plain": [
       "tensor([-9.2245e-04, -1.0602e-02, -1.5629e-02, -5.4373e-05, -1.6087e-03,\n",
       "         9.2739e-03, -6.1134e-03, -1.5239e-04,  3.7206e-03,  3.7997e-02,\n",
       "         2.5337e-03,  3.8007e-03,  8.9798e-03,  2.0604e-02, -3.6300e-03,\n",
       "         2.1879e-02,  1.4480e-02, -1.1171e-03, -4.1100e-03, -4.4713e-03,\n",
       "        -7.6508e-03,  4.6493e-03,  1.0959e-02,  3.3737e-05,  7.1037e-03,\n",
       "        -3.4699e-03,  9.7699e-03, -6.5106e-03, -7.9294e-03,  5.2751e-03,\n",
       "         9.0876e-04,  1.2864e-02,  1.5575e-02, -4.5882e-04, -5.0590e-03,\n",
       "         1.6126e-03,  3.2364e-03, -7.3015e-03,  5.5949e-03, -3.4516e-03,\n",
       "         4.7638e-03, -2.5523e-03,  2.6031e-02, -1.3276e-02, -2.3209e-03,\n",
       "         5.5624e-04,  1.3505e-02,  6.3859e-03, -1.4276e-03, -2.9440e-03,\n",
       "         3.6204e-03, -1.1653e-02,  1.0123e-02, -4.9956e-04, -7.2400e-03,\n",
       "         5.1966e-03, -1.7357e-02, -1.7870e-02,  6.2844e-03, -2.7136e-04,\n",
       "         1.2787e-02, -5.1073e-03,  7.1918e-03,  1.9930e-02, -1.9038e-03,\n",
       "         7.7796e-03,  7.7797e-03,  3.6274e-03, -5.9276e-03,  5.9557e-03,\n",
       "         6.9737e-03, -1.2640e-02, -8.5621e-03,  3.2846e-03,  4.6273e-03,\n",
       "        -2.8020e-03, -1.7982e-03, -3.9251e-03, -2.6598e-03, -5.2105e-03,\n",
       "        -4.1613e-03,  7.5009e-04,  9.4790e-03,  1.8216e-02,  2.1718e-02,\n",
       "         1.5466e-02, -1.0411e-02, -1.5854e-02,  3.7660e-03, -4.8417e-03,\n",
       "        -2.6354e-03, -4.7538e-03,  1.2762e-02, -3.1861e-03, -1.6161e-02,\n",
       "        -9.5785e-04,  1.3662e-02,  8.0583e-03,  1.2333e-03, -2.6612e-02,\n",
       "        -1.0564e-03, -5.4549e-03, -2.3409e-02,  7.5239e-03, -3.9162e-03,\n",
       "         2.1940e-03, -7.7593e-03, -4.1327e-03, -4.4222e-03,  4.6663e-03,\n",
       "         1.1991e-04,  5.8669e-04, -4.3240e-03, -5.1577e-03, -2.5132e-03,\n",
       "         1.5228e-02,  1.3744e-02, -2.8287e-03,  2.4199e-03, -2.2923e-03,\n",
       "        -1.2862e-02,  3.5384e-03, -9.1937e-04,  3.5040e-02,  6.7840e-04,\n",
       "         3.1038e-02, -3.6859e-02,  2.7378e-03,  1.5039e-02, -4.1056e-03,\n",
       "         7.9870e-03,  7.1105e-03, -2.7622e-04, -1.6681e-03,  1.6737e-04,\n",
       "         1.4654e-03,  4.6663e-03, -1.0964e-02, -2.1557e-03, -8.9809e-04,\n",
       "         2.6163e-02,  3.7888e-03,  2.1638e-03, -1.9695e-02, -6.9927e-03,\n",
       "        -1.9967e-02,  9.8011e-03, -3.4618e-03,  5.5447e-03, -2.0692e-02,\n",
       "        -3.9964e-03, -3.7555e-03, -1.1430e-03, -9.9011e-03,  4.0892e-04,\n",
       "        -4.4450e-03,  5.5903e-03, -1.7137e-02,  6.3649e-03,  7.4389e-03,\n",
       "        -6.8863e-03, -4.1149e-03,  3.3652e-03,  2.8956e-03, -8.2782e-03,\n",
       "         6.1108e-03,  8.1769e-03, -2.5074e-03, -6.0541e-04,  2.5599e-03,\n",
       "         2.3739e-03,  2.3413e-03,  2.2862e-02,  7.0813e-03, -3.8871e-03,\n",
       "         4.3753e-03,  5.6840e-03, -1.1327e-02,  9.5768e-03, -4.3127e-04,\n",
       "         6.9719e-03, -4.9324e-03,  2.4463e-05, -3.3801e-03, -1.1127e-02,\n",
       "        -8.8771e-03, -6.9950e-03,  2.2162e-03, -4.7875e-03, -8.7401e-03,\n",
       "         8.6505e-03, -1.0977e-03, -1.8619e-03, -8.3575e-03,  1.4708e-02,\n",
       "        -1.7859e-02,  4.1204e-04,  1.4465e-02,  7.2103e-03, -9.6229e-03,\n",
       "         7.3340e-03,  1.2651e-02, -1.5874e-02,  8.9097e-03, -2.5929e-02,\n",
       "        -2.9629e-02,  2.3243e-03, -2.1653e-02, -2.8078e-03,  9.2506e-03,\n",
       "         3.0923e-03,  2.1836e-02, -2.9712e-03, -6.7776e-03,  2.2583e-02,\n",
       "        -6.6171e-03,  7.5991e-04,  2.2493e-03,  1.6190e-03, -1.2446e-03,\n",
       "         6.4551e-03,  2.0373e-02,  7.1379e-03, -2.1352e-03, -1.0645e-02,\n",
       "        -8.6048e-04, -1.2365e-02,  3.3237e-03, -1.1202e-02,  3.0897e-03,\n",
       "         1.2589e-04,  9.7206e-03, -3.3702e-03,  1.4483e-02, -3.0162e-03,\n",
       "        -6.5061e-03, -5.1685e-03, -5.9932e-03,  2.4974e-02,  2.0197e-03,\n",
       "        -1.0927e-02,  9.5919e-03, -1.2461e-02, -1.1460e-02,  9.5803e-04,\n",
       "         2.6436e-03,  2.2466e-03,  8.3711e-03, -2.9415e-03,  3.7962e-04,\n",
       "        -1.0416e-02,  4.1880e-04,  5.6191e-05,  2.8100e-03, -2.2127e-02,\n",
       "         4.2318e-02,  5.8732e-03,  1.6140e-03,  1.6451e-02, -1.4442e-02,\n",
       "         3.5181e-03,  4.4396e-03,  6.6151e-04, -2.5521e-03, -4.4635e-03,\n",
       "        -1.1185e-02,  7.3131e-04, -3.1555e-04, -6.8997e-03,  1.3941e-02,\n",
       "        -6.9905e-03,  1.8134e-02,  1.4196e-03,  2.5138e-04, -1.3135e-02,\n",
       "        -7.7837e-03,  1.1256e-02, -2.8002e-02,  7.0313e-03, -1.9586e-04,\n",
       "         2.0844e-03, -5.7971e-03, -1.1835e-02, -1.3812e-02, -7.3507e-03,\n",
       "        -2.0331e-04, -1.3098e-02,  1.9383e-06,  1.0866e-02,  4.0890e-03,\n",
       "         3.7145e-04, -2.9506e-03,  7.0522e-03, -9.7626e-03, -3.0731e-03,\n",
       "        -6.6567e-03, -9.7105e-03,  2.5517e-04, -1.5315e-03, -8.0094e-03,\n",
       "         1.0057e-02, -1.0529e-02,  6.1565e-03,  1.2957e-03,  4.6296e-03,\n",
       "        -2.3860e-02, -4.1432e-03,  2.5937e-02, -7.1660e-03,  1.4618e-02,\n",
       "         9.2547e-03,  1.0496e-02,  1.0737e-02,  2.3468e-03,  3.8048e-03,\n",
       "        -2.5229e-03, -8.7827e-03, -1.5771e-03, -1.2142e-02,  7.5304e-03,\n",
       "        -3.4965e-03, -4.5765e-03,  7.3095e-03, -1.0769e-02, -1.2006e-02,\n",
       "         2.8408e-02,  1.7172e-03,  2.5762e-02,  4.4048e-03, -9.9072e-04,\n",
       "        -5.2720e-03,  5.4983e-03,  1.6740e-02,  8.7119e-03,  5.5476e-04,\n",
       "         6.5193e-03,  1.5483e-02, -4.9417e-04, -5.4533e-03, -9.3743e-03,\n",
       "         8.5818e-03,  2.8899e-03,  2.5248e-05,  7.3813e-03,  2.0930e-03,\n",
       "        -5.9073e-03, -3.8964e-02,  3.0575e-03,  6.7782e-03, -1.1414e-02,\n",
       "         3.1561e-03,  1.0308e-02, -3.1374e-04, -9.1979e-03,  1.4936e-02,\n",
       "        -2.5045e-03, -1.9635e-03, -9.4069e-03, -1.3538e-02, -4.2293e-03,\n",
       "         1.0028e-02,  1.3290e-02,  2.0033e-03, -2.3850e-03,  2.1553e-03,\n",
       "         5.3853e-03,  4.4972e-03,  4.6740e-03,  1.8096e-02,  3.5801e-03,\n",
       "         6.4083e-03,  9.8226e-03, -2.6978e-03, -1.2435e-02, -2.4431e-03,\n",
       "        -2.2870e-03, -7.2517e-03,  1.8230e-03, -1.5993e-02,  4.9978e-03,\n",
       "        -2.6652e-02, -4.4423e-03, -5.5501e-03,  3.9292e-03,  2.8012e-02,\n",
       "         2.0545e-03, -6.9734e-03,  4.6551e-03,  1.1192e-02, -8.4101e-03,\n",
       "        -1.2533e-02, -6.6864e-03, -2.4213e-02,  1.7737e-03,  4.9595e-04,\n",
       "        -1.8912e-04,  1.0355e-02,  1.0484e-02,  3.7287e-03, -3.4473e-03,\n",
       "        -5.4896e-03,  7.0500e-03,  7.6715e-03, -1.1855e-02,  1.3113e-02,\n",
       "        -3.9705e-03, -6.1218e-03, -9.6283e-03, -4.3625e-03, -1.0739e-02,\n",
       "         1.7809e-02,  1.1494e-03,  1.3146e-02,  7.7543e-03, -6.0843e-03,\n",
       "         8.8994e-03, -3.0622e-03,  5.8904e-03,  1.3123e-02,  6.7420e-03,\n",
       "        -1.9838e-02, -7.7536e-03, -9.6797e-04,  7.2621e-03, -4.1149e-04,\n",
       "        -2.9771e-02, -1.2975e-02,  1.8683e-03, -6.9365e-03,  9.6590e-03,\n",
       "         3.7724e-02, -2.0659e-02, -6.4328e-03, -2.1309e-02, -4.3224e-03,\n",
       "         1.4199e-03, -7.0821e-03,  6.8403e-03, -4.5283e-02, -9.0077e-03,\n",
       "        -1.1655e-03, -1.2329e-02,  1.2102e-03, -2.2089e-04,  9.0076e-03,\n",
       "        -1.3243e-02,  1.1618e-02, -1.4235e-02, -1.6518e-02, -7.5753e-03,\n",
       "         3.7067e-04,  1.0039e-02,  1.4142e-02, -6.8957e-03,  1.5920e-03,\n",
       "        -1.6069e-03, -4.9247e-03, -6.9198e-03,  4.7726e-03,  1.8375e-02,\n",
       "         9.9549e-03,  1.7230e-02, -3.0350e-03,  1.8843e-02, -4.5232e-02,\n",
       "         3.2343e-03,  3.9082e-03,  8.8437e-03,  1.0547e-02, -1.6259e-02,\n",
       "        -1.6963e-02,  1.0823e-02, -2.1378e-03,  9.9938e-04,  9.5439e-03,\n",
       "         2.2508e-03, -1.4200e-02,  1.1262e-03,  2.3323e-04, -5.2066e-03,\n",
       "        -1.1843e-03,  1.5420e-02, -2.7049e-03, -8.2722e-03, -5.7086e-03,\n",
       "        -3.5989e-03, -3.5380e-03,  1.9278e-02,  9.5254e-03,  1.2316e-02,\n",
       "         2.4869e-02, -2.1062e-03,  9.1836e-03, -3.4819e-03,  4.3620e-03,\n",
       "         5.8286e-03, -4.6014e-03, -7.9412e-04,  1.6312e-02, -1.6728e-02,\n",
       "         1.2546e-02, -1.7551e-03,  4.7847e-03,  7.4996e-04,  6.0104e-03,\n",
       "         8.0426e-03, -2.0085e-02,  1.3432e-02, -1.1071e-03,  3.8036e-03,\n",
       "         1.7642e-03,  8.7607e-04])"
      ]
     },
     "execution_count": 21,
     "metadata": {},
     "output_type": "execute_result"
    }
   ],
   "source": [
    "first_id = df_a['RecordID'].unique()[0]\n",
    "patient_df = df_a[df_a['RecordID'] == first_id]\n",
    "multivar_data = {\n",
    "    var: patient_df[var].dropna().values\n",
    "    for var in list_of_variables\n",
    "    if var in patient_df.columns\n",
    "}\n",
    "\n",
    "embedding = compute_patient_embedding_naive(pipeline, multivar_data, list_of_variables)\n",
    "embedding"
   ]
  },
  {
   "cell_type": "markdown",
   "id": "ab490a84efe768c0",
   "metadata": {},
   "source": [
    "Making a smarter aggregation: \n",
    "Instead of simply averaging embeddings across variables, we can:\n",
    "\n",
    "Compute an embedding for each variable.\n",
    "\n",
    "Feed all variable embeddings into a small MLP that outputs a patient-level embedding.\n",
    "\n",
    "Then, either attach a logistic head for classification or just produce a final embedding for a standard logistic regression."
   ]
  },
  {
   "cell_type": "code",
   "execution_count": 22,
   "id": "1ac39c3348377844",
   "metadata": {
    "ExecuteTime": {
     "end_time": "2025-03-30T23:50:42.453676300Z",
     "start_time": "2025-03-30T20:40:20.371716Z"
    }
   },
   "outputs": [],
   "source": [
    "\n",
    "########################################\n",
    "# 2) Simple Neural Aggregator Approach #\n",
    "########################################\n",
    "\n",
    "class ChannelAggregator(nn.Module):\n",
    "    def __init__(self,num_vars, embed_dim=512, hidden_dim=64, out_dim=1):\n",
    "        super().__init__()\n",
    "        self.mlp = nn.Sequential(\n",
    "            nn.Flatten(),\n",
    "            nn.Linear(embed_dim * num_vars, hidden_dim),\n",
    "            nn.ReLU(),\n",
    "            nn.Linear(hidden_dim, out_dim)\n",
    "        )\n",
    "    \n",
    "    def forward(self, x):\n",
    "        return self.mlp(x)\n",
    "\n",
    "def build_multivar_embeddings(pipeline, patient_df, variables):\n",
    "    \"\"\"\n",
    "    Takes a single patient’s time series (dataframe) and computes a stacked tensor of embeddings.\n",
    "    Returns: torch.Tensor of shape [num_vars, embed_dim]\n",
    "    \"\"\"\n",
    "    embeddings = []\n",
    "    for var in variables:\n",
    "        if var in patient_df.columns:\n",
    "            series = patient_df[var].dropna().values\n",
    "            if len(series) == 0:\n",
    "                continue\n",
    "            with torch.no_grad():\n",
    "                emb, _ = pipeline.embed(torch.tensor(series, dtype=torch.float32))\n",
    "                if emb.ndim == 3:\n",
    "                    emb = emb.squeeze(0)\n",
    "                emb = emb.mean(dim=0)  # [D]\n",
    "                embeddings.append(emb.unsqueeze(0))  # [1, D]\n",
    "\n",
    "    if not embeddings:\n",
    "        return torch.zeros((1, 512))  # fallback for no valid data\n",
    "    return torch.cat(embeddings, dim=0)  # [num_vars, D]\n",
    "\n",
    "\n",
    "def train_aggregator_from_raw(pipeline, aggregator, df_timeseries, df_labels, variables, epochs=5, lr=1e-3, device='cpu'):\n",
    "    aggregator.to(device)\n",
    "    optimizer = torch.optim.Adam(aggregator.parameters(), lr=lr)\n",
    "    criterion = nn.BCEWithLogitsLoss()\n",
    "\n",
    "    X_list, y_list = [], []\n",
    "    for rid, group in df_timeseries.groupby(\"RecordID\"):\n",
    "        emb_stack = build_multivar_embeddings(pipeline, group, variables)\n",
    "        if emb_stack.shape[0] < 1:\n",
    "            continue  # skip patients with no valid data\n",
    "\n",
    "        label_row = df_labels[df_labels[\"RecordID\"] == rid]\n",
    "        if label_row.empty:\n",
    "            continue\n",
    "        label = label_row[\"In-hospital_death\"].values[0]\n",
    "\n",
    "        X_list.append(emb_stack.unsqueeze(0))  # [1, num_vars, D]\n",
    "        y_list.append(label)\n",
    "\n",
    "    X_tensor = torch.cat(X_list, dim=0).float().to(device)  # [batch, num_vars, D]\n",
    "    y_tensor = torch.tensor(y_list, dtype=torch.float32).unsqueeze(-1).to(device)  # [batch, 1]\n",
    "\n",
    "    for epoch in range(epochs):\n",
    "        aggregator.train()\n",
    "        optimizer.zero_grad()\n",
    "        logits = aggregator(X_tensor)\n",
    "        loss = criterion(logits, y_tensor)\n",
    "        loss.backward()\n",
    "        optimizer.step()\n",
    "        print(f\"Epoch {epoch+1}/{epochs}, Loss={loss.item():.4f}\")\n",
    "\n",
    "    return aggregator\n",
    "\n",
    "\n",
    "def evaluate_aggregator_from_raw(pipeline, aggregator, df_timeseries, df_labels, variables, device='cpu'):\n",
    "    aggregator.eval()\n",
    "    all_logits = []\n",
    "    all_labels = []\n",
    "\n",
    "    with torch.no_grad():\n",
    "        for rid, group in df_timeseries.groupby(\"RecordID\"):\n",
    "            emb_stack = build_multivar_embeddings(pipeline, group, variables)\n",
    "            if emb_stack.shape[0] < 1:\n",
    "                continue\n",
    "\n",
    "            label_row = df_labels[df_labels[\"RecordID\"] == rid]\n",
    "            if label_row.empty:\n",
    "                continue\n",
    "            label = label_row[\"In-hospital_death\"].values[0]\n",
    "\n",
    "            logit = aggregator(emb_stack.unsqueeze(0).to(device))  # [1, 1]\n",
    "            all_logits.append(logit.item())\n",
    "            all_labels.append(label)\n",
    "\n",
    "    all_logits = np.array(all_logits)\n",
    "    all_labels = np.array(all_labels)\n",
    "    probs = 1 / (1 + np.exp(-all_logits))\n",
    "\n",
    "    auroc = roc_auc_score(all_labels, probs)\n",
    "    auprc = average_precision_score(all_labels, probs)\n",
    "    return auroc, auprc"
   ]
  },
  {
   "cell_type": "code",
   "execution_count": 23,
   "id": "bafd9167f2146cdd",
   "metadata": {
    "ExecuteTime": {
     "end_time": "2025-03-30T23:50:42.453676300Z",
     "start_time": "2025-03-30T20:40:23.415155Z"
    }
   },
   "outputs": [
    {
     "name": "stdout",
     "output_type": "stream",
     "text": [
      "Epoch 1/5, Loss=0.6888\n",
      "Epoch 2/5, Loss=0.5883\n",
      "Epoch 3/5, Loss=0.5200\n",
      "Epoch 4/5, Loss=0.4803\n",
      "Epoch 5/5, Loss=0.4657\n",
      "[Neural Aggregator] AuROC=0.3333, AuPRC=0.1429\n"
     ]
    }
   ],
   "source": [
    "# Create model\n",
    "aggregator = ChannelAggregator(num_vars=len(list_of_variables) , embed_dim=512, hidden_dim=64, out_dim=1)\n",
    "\n",
    "# Train\n",
    "aggregator = train_aggregator_from_raw(\n",
    "    pipeline=pipeline,\n",
    "    aggregator=aggregator,\n",
    "    df_timeseries=df_a_small if run_efficient else df_a,\n",
    "    df_labels=death_a,\n",
    "    variables=list_of_variables,\n",
    "    epochs=5,\n",
    "    lr=1e-3,\n",
    "    device=device_map\n",
    ")\n",
    "\n",
    "# Evaluate\n",
    "auroc, auprc = evaluate_aggregator_from_raw(\n",
    "    pipeline=pipeline,\n",
    "    aggregator=aggregator,\n",
    "    df_timeseries=df_c_small if run_efficient else df_c,\n",
    "    df_labels=death_c,\n",
    "    variables=list_of_variables,\n",
    "    device=device_map\n",
    ")\n",
    "\n",
    "print(f\"[Neural Aggregator] AuROC={auroc:.4f}, AuPRC={auprc:.4f}\")\n"
   ]
  }
 ],
 "metadata": {
  "kernelspec": {
   "display_name": "Python 3 (ipykernel)",
   "language": "python",
   "name": "python3"
  },
  "language_info": {
   "codemirror_mode": {
    "name": "ipython",
    "version": 3
   },
   "file_extension": ".py",
   "mimetype": "text/x-python",
   "name": "python",
   "nbconvert_exporter": "python",
   "pygments_lexer": "ipython3",
   "version": "3.12.3"
  }
 },
 "nbformat": 4,
 "nbformat_minor": 5
}
