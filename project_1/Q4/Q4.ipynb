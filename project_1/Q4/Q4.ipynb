{
 "cells": [
  {
   "cell_type": "markdown",
   "id": "bce8c117462d5f5a",
   "metadata": {},
   "source": [
    "## Import parqet files"
   ]
  },
  {
   "cell_type": "code",
   "execution_count": 1,
   "id": "initial_id",
   "metadata": {
    "ExecuteTime": {
     "end_time": "2025-03-30T23:54:04.029473Z",
     "start_time": "2025-03-30T23:54:03.829229Z"
    },
    "collapsed": true
   },
   "outputs": [
    {
     "name": "stderr",
     "output_type": "stream",
     "text": [
      "\u001b[32m2025-03-31 11:11:40.071\u001b[0m | \u001b[1mINFO    \u001b[0m | \u001b[36mproject_1.config\u001b[0m:\u001b[36m<module>\u001b[0m:\u001b[36m11\u001b[0m - \u001b[1mPROJ_ROOT path is: /Users/francescobondi/Desktop/stuff/ETH/FS25/ML for Healthcare/project-1-ml4hc\u001b[0m\n"
     ]
    },
    {
     "name": "stdout",
     "output_type": "stream",
     "text": [
      "Shapes of the datasets:\n",
      "Set A: (183416, 43) Set B: (183495, 43) Set C: (183711, 43)\n",
      "Shapes of labels:\n",
      "Set A: (4000, 2) Set B: (4000, 2) Set C: (4000, 2)\n",
      "Index(['Time', 'RecordID', 'Age', 'BUN', 'Creatinine', 'GCS', 'Gender',\n",
      "       'Glucose', 'HCO3', 'HCT', 'HR', 'Height', 'ICUType', 'K', 'Mg',\n",
      "       'NIDiasABP', 'NIMAP', 'NISysABP', 'Na', 'Platelets', 'RespRate', 'Temp',\n",
      "       'TroponinT', 'Urine', 'WBC', 'Weight', 'ALP', 'ALT', 'AST', 'Albumin',\n",
      "       'Bilirubin', 'FiO2', 'MechVent', 'PaCO2', 'PaO2', 'pH', 'DiasABP',\n",
      "       'MAP', 'SaO2', 'SysABP', 'Lactate', 'Cholesterol', 'TroponinI'],\n",
      "      dtype='object')\n"
     ]
    }
   ],
   "source": [
    "from numpy.random import RandomState\n",
    "from pandas.core.common import random_state\n",
    "\n",
    "from project_1.loading import *\n",
    "# Load data from parquet file\n",
    "import pandas as pd\n",
    "import numpy as np\n",
    "from project_1.config import PROJ_ROOT, PROCESSED_DATA_DIR\n",
    "\n",
    "df_a, df_b, df_c = load_before_scaling()\n",
    "death_a, death_b, death_c = load_outcomes()\n",
    "\n",
    "print(df_a.columns)"
   ]
  },
  {
   "cell_type": "markdown",
   "id": "c3a99f07d711c2c9",
   "metadata": {},
   "source": [
    "### Setting environment variables"
   ]
  },
  {
   "cell_type": "code",
   "execution_count": 2,
   "id": "549cccb63d993749",
   "metadata": {
    "ExecuteTime": {
     "end_time": "2025-03-30T23:54:04.050093Z",
     "start_time": "2025-03-30T23:54:04.044885Z"
    }
   },
   "outputs": [],
   "source": [
    "run_efficient = False\n",
    "#llm_model = 'deepseek-r1:1.5b'\n",
    "llm_model = 'llama3.2:3b'\n",
    "device_map = \"cpu\" # or \"cuda\""
   ]
  },
  {
   "cell_type": "markdown",
   "id": "37ca8187f17e31ad",
   "metadata": {},
   "source": [
    "### Checkout environment and assure that everything runs smoothly"
   ]
  },
  {
   "cell_type": "code",
   "execution_count": 4,
   "id": "7c48eaac4ee86400",
   "metadata": {
    "ExecuteTime": {
     "end_time": "2025-03-30T23:54:19.750140Z",
     "start_time": "2025-03-30T23:54:04.229504Z"
    }
   },
   "outputs": [
    {
     "name": "stdout",
     "output_type": "stream",
     "text": [
      "The Earth's atmosphere scatters sunlight in all directions. Short (blue) wavelengths scatter more than long (red) wavelengths, giving the sky its blue color.\n"
     ]
    },
    {
     "data": {
      "text/plain": [
       "array([[ 0.01557815,  0.01416435, -0.01622   , ..., -0.01586473,\n",
       "         0.00051227, -0.00383137]])"
      ]
     },
     "execution_count": 4,
     "metadata": {},
     "output_type": "execute_result"
    }
   ],
   "source": [
    "# Ollama test\n",
    "\n",
    "from ollama import chat\n",
    "from ollama import ChatResponse\n",
    "\n",
    "response: ChatResponse = chat(model=llm_model, messages=[\n",
    "    {\n",
    "    'role': 'system',\n",
    "    'content': 'You are a helpful assistant who explains things clearly and concisely. Your answes are always very short, maximum 100 letters.',\n",
    "  },\n",
    "  {\n",
    "    'role': 'user',\n",
    "    'content': 'Why is the sky blue?',\n",
    "  },\n",
    "])\n",
    "print(response['message']['content'])\n",
    "\n",
    "\n",
    "# Embedding test\n",
    "from ollama import embed\n",
    "\n",
    "response = embed(model=llm_model, input= 'You are a helpful assistant who explains things clearly and concisely. Your answes are always very short, maximum 100 letters.')\n",
    "np.array(response.get(\"embeddings\", []), dtype=float)"
   ]
  },
  {
   "cell_type": "code",
   "execution_count": 5,
   "id": "6144ce890397a41d",
   "metadata": {
    "ExecuteTime": {
     "end_time": "2025-03-30T23:54:31.093611Z",
     "start_time": "2025-03-30T23:54:20.112488Z"
    }
   },
   "outputs": [
    {
     "name": "stdout",
     "output_type": "stream",
     "text": [
      "Collecting git+https://github.com/amazon-science/chronos-forecasting.git\n",
      "  Cloning https://github.com/amazon-science/chronos-forecasting.git to /private/var/folders/vm/dlvhdp0n0jg_tp24ng5z84080000gn/T/pip-req-build-nhyq8_fe\n",
      "  Running command git clone --filter=blob:none --quiet https://github.com/amazon-science/chronos-forecasting.git /private/var/folders/vm/dlvhdp0n0jg_tp24ng5z84080000gn/T/pip-req-build-nhyq8_fe\n",
      "  Resolved https://github.com/amazon-science/chronos-forecasting.git to commit 94e20ea7e510ac4d665492b8bed8836a5143f16e\n",
      "  Installing build dependencies ... \u001b[?25ldone\n",
      "\u001b[?25h  Getting requirements to build wheel ... \u001b[?25ldone\n",
      "\u001b[?25h  Preparing metadata (pyproject.toml) ... \u001b[?25ldone\n",
      "\u001b[?25hCollecting accelerate<1,>=0.32 (from chronos-forecasting==1.5.0)\n",
      "  Downloading accelerate-0.34.2-py3-none-any.whl.metadata (19 kB)\n",
      "Requirement already satisfied: torch<3,>=2.0 in /Users/francescobondi/anaconda3/envs/TUM/lib/python3.12/site-packages (from chronos-forecasting==1.5.0) (2.2.2)\n",
      "Requirement already satisfied: transformers<5,>=4.48 in /Users/francescobondi/anaconda3/envs/TUM/lib/python3.12/site-packages (from chronos-forecasting==1.5.0) (4.49.0)\n",
      "Requirement already satisfied: numpy<3.0.0,>=1.17 in /Users/francescobondi/anaconda3/envs/TUM/lib/python3.12/site-packages (from accelerate<1,>=0.32->chronos-forecasting==1.5.0) (1.26.4)\n",
      "Requirement already satisfied: packaging>=20.0 in /Users/francescobondi/anaconda3/envs/TUM/lib/python3.12/site-packages (from accelerate<1,>=0.32->chronos-forecasting==1.5.0) (24.1)\n",
      "Requirement already satisfied: psutil in /Users/francescobondi/anaconda3/envs/TUM/lib/python3.12/site-packages (from accelerate<1,>=0.32->chronos-forecasting==1.5.0) (5.9.0)\n",
      "Requirement already satisfied: pyyaml in /Users/francescobondi/anaconda3/envs/TUM/lib/python3.12/site-packages (from accelerate<1,>=0.32->chronos-forecasting==1.5.0) (6.0.2)\n",
      "Requirement already satisfied: huggingface-hub>=0.21.0 in /Users/francescobondi/anaconda3/envs/TUM/lib/python3.12/site-packages (from accelerate<1,>=0.32->chronos-forecasting==1.5.0) (0.29.2)\n",
      "Requirement already satisfied: safetensors>=0.4.3 in /Users/francescobondi/anaconda3/envs/TUM/lib/python3.12/site-packages (from accelerate<1,>=0.32->chronos-forecasting==1.5.0) (0.5.3)\n",
      "Requirement already satisfied: filelock in /Users/francescobondi/anaconda3/envs/TUM/lib/python3.12/site-packages (from torch<3,>=2.0->chronos-forecasting==1.5.0) (3.13.1)\n",
      "Requirement already satisfied: typing-extensions>=4.8.0 in /Users/francescobondi/anaconda3/envs/TUM/lib/python3.12/site-packages (from torch<3,>=2.0->chronos-forecasting==1.5.0) (4.13.0)\n",
      "Requirement already satisfied: sympy in /Users/francescobondi/anaconda3/envs/TUM/lib/python3.12/site-packages (from torch<3,>=2.0->chronos-forecasting==1.5.0) (1.13.2)\n",
      "Requirement already satisfied: networkx in /Users/francescobondi/anaconda3/envs/TUM/lib/python3.12/site-packages (from torch<3,>=2.0->chronos-forecasting==1.5.0) (3.2.1)\n",
      "Requirement already satisfied: jinja2 in /Users/francescobondi/anaconda3/envs/TUM/lib/python3.12/site-packages (from torch<3,>=2.0->chronos-forecasting==1.5.0) (3.1.4)\n",
      "Requirement already satisfied: fsspec in /Users/francescobondi/anaconda3/envs/TUM/lib/python3.12/site-packages (from torch<3,>=2.0->chronos-forecasting==1.5.0) (2024.10.0)\n",
      "Requirement already satisfied: regex!=2019.12.17 in /Users/francescobondi/anaconda3/envs/TUM/lib/python3.12/site-packages (from transformers<5,>=4.48->chronos-forecasting==1.5.0) (2024.11.6)\n",
      "Requirement already satisfied: requests in /Users/francescobondi/anaconda3/envs/TUM/lib/python3.12/site-packages (from transformers<5,>=4.48->chronos-forecasting==1.5.0) (2.32.3)\n",
      "Requirement already satisfied: tokenizers<0.22,>=0.21 in /Users/francescobondi/anaconda3/envs/TUM/lib/python3.12/site-packages (from transformers<5,>=4.48->chronos-forecasting==1.5.0) (0.21.0)\n",
      "Requirement already satisfied: tqdm>=4.27 in /Users/francescobondi/anaconda3/envs/TUM/lib/python3.12/site-packages (from transformers<5,>=4.48->chronos-forecasting==1.5.0) (4.67.0)\n",
      "Requirement already satisfied: MarkupSafe>=2.0 in /Users/francescobondi/anaconda3/envs/TUM/lib/python3.12/site-packages (from jinja2->torch<3,>=2.0->chronos-forecasting==1.5.0) (2.1.3)\n",
      "Requirement already satisfied: charset-normalizer<4,>=2 in /Users/francescobondi/anaconda3/envs/TUM/lib/python3.12/site-packages (from requests->transformers<5,>=4.48->chronos-forecasting==1.5.0) (2.0.4)\n",
      "Requirement already satisfied: idna<4,>=2.5 in /Users/francescobondi/anaconda3/envs/TUM/lib/python3.12/site-packages (from requests->transformers<5,>=4.48->chronos-forecasting==1.5.0) (3.7)\n",
      "Requirement already satisfied: urllib3<3,>=1.21.1 in /Users/francescobondi/anaconda3/envs/TUM/lib/python3.12/site-packages (from requests->transformers<5,>=4.48->chronos-forecasting==1.5.0) (2.2.2)\n",
      "Requirement already satisfied: certifi>=2017.4.17 in /Users/francescobondi/anaconda3/envs/TUM/lib/python3.12/site-packages (from requests->transformers<5,>=4.48->chronos-forecasting==1.5.0) (2025.1.31)\n",
      "Requirement already satisfied: mpmath<1.4,>=1.1.0 in /Users/francescobondi/anaconda3/envs/TUM/lib/python3.12/site-packages (from sympy->torch<3,>=2.0->chronos-forecasting==1.5.0) (1.3.0)\n",
      "Downloading accelerate-0.34.2-py3-none-any.whl (324 kB)\n",
      "Building wheels for collected packages: chronos-forecasting\n",
      "  Building wheel for chronos-forecasting (pyproject.toml) ... \u001b[?25ldone\n",
      "\u001b[?25h  Created wheel for chronos-forecasting: filename=chronos_forecasting-1.5.0-py3-none-any.whl size=29408 sha256=b17f84325bd5ed0f4757227997214e2c0d3b4452ab26432d87109511a2d61873\n",
      "  Stored in directory: /private/var/folders/vm/dlvhdp0n0jg_tp24ng5z84080000gn/T/pip-ephem-wheel-cache-25_1at3_/wheels/b9/a6/b5/75fca7306751a3bc92a63680f861f44a42a8776f6423cf0188\n",
      "Successfully built chronos-forecasting\n",
      "Installing collected packages: accelerate, chronos-forecasting\n",
      "Successfully installed accelerate-0.34.2 chronos-forecasting-1.5.0\n"
     ]
    },
    {
     "name": "stderr",
     "output_type": "stream",
     "text": [
      "/Users/francescobondi/anaconda3/envs/TUM/lib/python3.12/site-packages/tqdm/auto.py:21: TqdmWarning: IProgress not found. Please update jupyter and ipywidgets. See https://ipywidgets.readthedocs.io/en/stable/user_install.html\n",
      "  from .autonotebook import tqdm as notebook_tqdm\n"
     ]
    }
   ],
   "source": [
    "# If not installed yet:\n",
    "!pip install git+https://github.com/amazon-science/chronos-forecasting.git\n",
    "\n",
    "import pandas as pd\n",
    "import torch\n",
    "from chronos import ChronosPipeline\n",
    "\n",
    "pipeline = ChronosPipeline.from_pretrained(\n",
    "    \"amazon/chronos-t5-small\",\n",
    "    device_map=device_map,\n",
    "    torch_dtype=torch.bfloat16,\n",
    ")\n",
    "\n",
    "df = pd.read_csv(\"https://raw.githubusercontent.com/AileenNielsen/TimeSeriesAnalysisWithPython/master/data/AirPassengers.csv\")\n",
    "\n",
    "# context must be either a 1D tensor, a list of 1D tensors,\n",
    "# or a left-padded 2D tensor with batch as the first dimension\n",
    "context = torch.tensor(df[\"#Passengers\"])\n",
    "embeddings, tokenizer_state = pipeline.embed(context)"
   ]
  },
  {
   "cell_type": "markdown",
   "id": "f42c91efec2071cb",
   "metadata": {},
   "source": [
    "# Q4.1 Prompting an LLM to solve a time-series problem"
   ]
  },
  {
   "cell_type": "markdown",
   "id": "4dfeb97539d07fb1",
   "metadata": {},
   "source": [
    "## Patient Summary short\n",
    "only includes the most important data, without much noise"
   ]
  },
  {
   "cell_type": "code",
   "execution_count": 6,
   "id": "407db89e4ad17a6c",
   "metadata": {
    "ExecuteTime": {
     "end_time": "2025-03-30T23:54:31.501563Z",
     "start_time": "2025-03-30T23:54:31.489187Z"
    }
   },
   "outputs": [],
   "source": [
    "def generate_summary_statistical(patient_df):\n",
    "    features = {}\n",
    "    # Assuming df is already filtered for a single patient\n",
    "    features['age'] = patient_df['Age'].iloc[0]\n",
    "    features['gender'] = \"male\" if patient_df['Gender'].iloc[0] == 1 else \"female\"\n",
    "\n",
    "    summary = [\n",
    "        f\"Patient is a {int(features['age'])}-year-old {features['gender']}. Over the first 48 hours:\"\n",
    "    ]\n",
    "\n",
    "    vital_vars = ['HeartRate', 'SaO2', 'WBC', 'Urine', 'pH', 'Lactate']\n",
    "    for var in vital_vars:\n",
    "        if var not in patient_df.columns: continue\n",
    "        values = patient_df[var].dropna()\n",
    "        if len(values) == 0: continue\n",
    "        min_val, max_val = values.min(), values.max()\n",
    "        mean_val, last_val = values.iloc[-1], values.iloc[-1]\n",
    "        summary.append(f\"- {var} ranged from {min_val:.2f} to {max_val:.2f}, avg: {mean_val:.2f}, last: {last_val:.2f}\")\n",
    "        \n",
    "    return \"\\n\".join(summary)\n"
   ]
  },
  {
   "cell_type": "markdown",
   "id": "4c59195e8cf99789",
   "metadata": {},
   "source": [
    "## Patient Summary trends\n",
    "Summarize variable behavior over three time segments (0–16h, 16–32h, 32–48h) using trends: increasing, decreasing, stable, or fluctuating. Adds a temporal element that can help the LLM infer progression."
   ]
  },
  {
   "cell_type": "code",
   "execution_count": null,
   "id": "acc24390a7a6c87a",
   "metadata": {
    "ExecuteTime": {
     "end_time": "2025-03-30T23:54:31.536799Z",
     "start_time": "2025-03-30T23:54:31.520192Z"
    }
   },
   "outputs": [],
   "source": [
    "def get_trend_label(seq):\n",
    "    if len(seq) < 2: return \"unknown\"\n",
    "    d1, d2, d3 = np.mean(seq[:len(seq)//3]), np.mean(seq[len(seq)//3:2*len(seq)//3]), np.mean(seq[2*len(seq)//3:])\n",
    "    if d1 < d2 < d3: return \"↑\"\n",
    "    elif d1 > d2 > d3: return \"↓\"\n",
    "    elif abs(d1 - d2) < 0.1 and abs(d2 - d3) < 0.1: return \"→\"\n",
    "    else: return \"~\"\n",
    "\n",
    "def generate_summary_trend(patient_df):\n",
    "    features = {}\n",
    "    features['age'] = patient_df['Age'].iloc[0]\n",
    "    features['gender'] = \"male\" if patient_df['Gender'].iloc[0] == 1 else \"female\"\n",
    "    features['weight'] = patient_df['Weight'].iloc[0]\n",
    "\n",
    "    summary = [\n",
    "        f\"Patient is a {int(features['age'])}-year-old {features['gender']}, weights {features['weight']} kg. Over the first 48 hours:\"\n",
    "    ]\n",
    "\n",
    "    vital_vars = ['Albumin', 'Cholesterol', 'DiasABP', 'HCO3', 'HCT', 'HR', 'Mg', 'MAP', 'Na',\n",
    "       'NIDiasABP', 'NIMAP', 'NISysABP', 'SysABP', 'PaCO2', 'PaO2',\n",
    "       'Platelets', 'RespRate', 'Temp', 'ALP', 'ALT', 'AST', 'BUN',\n",
    "       'Bilirubin', 'Creatinine', 'FiO2', 'GCS', 'Glucose', 'K', 'Lactate',\n",
    "       'MechVent', 'Urine', 'WBC', 'pH', 'SaO2', 'TroponinT', 'TroponinI']\n",
    "    for var in vital_vars:\n",
    "        if var not in patient_df.columns: continue\n",
    "        values = patient_df[var].dropna()\n",
    "        if len(values) == 0: continue\n",
    "        min_val, max_val = values.min(), values.max()\n",
    "        mean_val, last_val = values.iloc[-1], values.iloc[-1]\n",
    "        #summary.append(f\"- {var} ranged from {min_val:.2f} to {max_val:.2f}, avg: {mean_val:.2f}, last: {last_val:.2f}\")\n",
    "        series = patient_df[var].dropna().values\n",
    "        if len(series) < 3: continue\n",
    "        trend = get_trend_label(series)\n",
    "        summary.append(f\"- {var} ranged from {min_val:.2f} to {max_val:.2f}, shows a trend of {trend}. avg: {mean_val:.2f}, last: {last_val:.2f}\")\n",
    "\n",
    "    return \"\\n\".join(summary)\n"
   ]
  },
  {
   "cell_type": "code",
   "execution_count": 8,
   "id": "4d9c0387622af26d",
   "metadata": {
    "ExecuteTime": {
     "end_time": "2025-03-30T23:56:58.366985Z",
     "start_time": "2025-03-30T23:54:31.554260Z"
    }
   },
   "outputs": [
    {
     "data": {
      "text/html": [
       "<div>\n",
       "<style scoped>\n",
       "    .dataframe tbody tr th:only-of-type {\n",
       "        vertical-align: middle;\n",
       "    }\n",
       "\n",
       "    .dataframe tbody tr th {\n",
       "        vertical-align: top;\n",
       "    }\n",
       "\n",
       "    .dataframe thead th {\n",
       "        text-align: right;\n",
       "    }\n",
       "</style>\n",
       "<table border=\"1\" class=\"dataframe\">\n",
       "  <thead>\n",
       "    <tr style=\"text-align: right;\">\n",
       "      <th></th>\n",
       "      <th>RecordID</th>\n",
       "      <th>summary_statistical</th>\n",
       "      <th>summary_trend</th>\n",
       "      <th>In-hospital_death</th>\n",
       "    </tr>\n",
       "  </thead>\n",
       "  <tbody>\n",
       "    <tr>\n",
       "      <th>0</th>\n",
       "      <td>132539.0</td>\n",
       "      <td>Patient is a 54-year-old female. Over the firs...</td>\n",
       "      <td>Patient is a 2220-year-old female, weights 76....</td>\n",
       "      <td>0</td>\n",
       "    </tr>\n",
       "    <tr>\n",
       "      <th>1</th>\n",
       "      <td>132540.0</td>\n",
       "      <td>Patient is a 76-year-old male. Over the first ...</td>\n",
       "      <td>Patient is a 3100-year-old male, weights 76.0 ...</td>\n",
       "      <td>0</td>\n",
       "    </tr>\n",
       "  </tbody>\n",
       "</table>\n",
       "</div>"
      ],
      "text/plain": [
       "   RecordID                                summary_statistical  \\\n",
       "0  132539.0  Patient is a 54-year-old female. Over the firs...   \n",
       "1  132540.0  Patient is a 76-year-old male. Over the first ...   \n",
       "\n",
       "                                       summary_trend  In-hospital_death  \n",
       "0  Patient is a 2220-year-old female, weights 76....                  0  \n",
       "1  Patient is a 3100-year-old male, weights 76.0 ...                  0  "
      ]
     },
     "execution_count": 8,
     "metadata": {},
     "output_type": "execute_result"
    }
   ],
   "source": [
    "def generate_patient_summaries(df):\n",
    "    result_rows = []\n",
    "\n",
    "    for rid, group in df.groupby(\"RecordID\"):\n",
    "        summary_stat = generate_summary_statistical(group)\n",
    "        summary_trend = generate_summary_trend(group)\n",
    "\n",
    "        result_rows.append({\n",
    "            \"RecordID\": rid,\n",
    "            \"summary_statistical\": summary_stat,\n",
    "            \"summary_trend\": summary_trend\n",
    "        })\n",
    "\n",
    "    return pd.DataFrame(result_rows)\n",
    "\n",
    "# ---------- Usage ---------- #\n",
    "\n",
    "# Assuming df_a is your full DataFrame\n",
    "summaries_a = generate_patient_summaries(df_a)\n",
    "summaries_a = summaries_a.merge(death_a, on=\"RecordID\", how=\"left\")\n",
    "\n",
    "summaries_b = generate_patient_summaries(df_b)\n",
    "summaries_b = summaries_b.merge(death_b, on=\"RecordID\", how=\"left\")\n",
    "\n",
    "summaries_c = generate_patient_summaries(df_c)\n",
    "summaries_c = summaries_c.merge(death_c, on=\"RecordID\", how=\"left\")\n",
    "\n",
    "# Show a few example summaries\n",
    "summaries_a.head(2)"
   ]
  },
  {
   "cell_type": "code",
   "execution_count": 9,
   "id": "392b8542951a6c94",
   "metadata": {
    "ExecuteTime": {
     "end_time": "2025-03-30T23:56:58.452365Z",
     "start_time": "2025-03-30T23:56:58.443803Z"
    }
   },
   "outputs": [
    {
     "name": "stdout",
     "output_type": "stream",
     "text": [
      "Patient is a 54-year-old female. Over the first 48 hours:\n",
      "- SaO2 ranged from 91.00 to 99.00, avg: 98.00, last: 98.00\n",
      "- WBC ranged from 3.70 to 16.80, avg: 9.40, last: 9.40\n",
      "- Urine ranged from 30.00 to 1700.00, avg: 280.00, last: 280.00\n",
      "- pH ranged from 7.27 to 7.50, avg: 7.31, last: 7.31\n",
      "- Lactate ranged from 0.70 to 6.60, avg: 1.80, last: 1.80\n",
      "\n",
      "Patient is a 2220-year-old female, weights 76.05999999999999 kg. Over the first 48 hours:\n",
      "- Albumin ranged from 1.80 to 4.40, shows a trend of ↓. avg: 2.20, last: 2.20\n",
      "- Cholesterol ranged from 75.00 to 289.00, shows a trend of ~. avg: 117.00, last: 117.00\n",
      "- DiasABP ranged from 38.00 to 81.00, shows a trend of ↓. avg: 58.00, last: 58.00\n",
      "- HCO3 ranged from 20.00 to 29.00, shows a trend of ↑. avg: 28.00, last: 28.00\n",
      "- HCT ranged from 26.75 to 36.40, shows a trend of ~. avg: 30.30, last: 30.30\n",
      "- HR ranged from 58.00 to 86.00, shows a trend of ↑. avg: 86.00, last: 86.00\n",
      "- Mg ranged from 1.40 to 2.70, shows a trend of ~. avg: 1.90, last: 1.90\n",
      "- MAP ranged from 52.00 to 96.50, shows a trend of ↓. avg: 85.00, last: 85.00\n",
      "- Na ranged from 133.00 to 143.00, shows a trend of ↓. avg: 136.00, last: 136.00\n",
      "- NIDiasABP ranged from 39.00 to 67.00, shows a trend of ~. avg: 55.00, last: 55.00\n",
      "- NIMAP ranged from 58.67 to 104.00, shows a trend of ~. avg: 79.33, last: 79.33\n",
      "- NISysABP ranged from 96.00 to 187.00, shows a trend of ~. avg: 128.00, last: 128.00\n",
      "- SysABP ranged from 0.00 to 161.00, shows a trend of ↑. avg: 128.00, last: 128.00\n",
      "- PaCO2 ranged from 21.00 to 68.00, shows a trend of ↑. avg: 40.00, last: 40.00\n",
      "- PaO2 ranged from 69.00 to 477.00, shows a trend of ~. avg: 122.00, last: 122.00\n",
      "- Platelets ranged from 90.00 to 338.00, shows a trend of ~. avg: 185.00, last: 185.00\n",
      "- RespRate ranged from 12.00 to 24.00, shows a trend of ↑. avg: 23.00, last: 23.00\n",
      "- Temp ranged from 35.35 to 38.20, shows a trend of ↑. avg: 37.80, last: 37.80\n",
      "- ALP ranged from 32.00 to 389.00, shows a trend of ~. avg: 42.00, last: 42.00\n",
      "- ALT ranged from 3.00 to 3584.00, shows a trend of ↑. avg: 9.00, last: 9.00\n",
      "- AST ranged from 13.00 to 4626.00, shows a trend of ~. avg: 99.00, last: 99.00\n",
      "- BUN ranged from 8.00 to 169.00, shows a trend of ↓. avg: 8.00, last: 8.00\n",
      "- Bilirubin ranged from 0.20 to 29.70, shows a trend of ~. avg: 0.50, last: 0.50\n",
      "- Creatinine ranged from 0.30 to 2.90, shows a trend of ↓. avg: 0.70, last: 0.70\n",
      "- FiO2 ranged from 0.35 to 1.00, shows a trend of ~. avg: 0.50, last: 0.50\n",
      "- GCS ranged from 14.00 to 15.00, shows a trend of ↓. avg: 15.00, last: 15.00\n",
      "- Glucose ranged from 52.00 to 222.00, shows a trend of ~. avg: 115.00, last: 115.00\n",
      "- K ranged from 3.40 to 5.60, shows a trend of ~. avg: 4.00, last: 4.00\n",
      "- Lactate ranged from 0.70 to 6.60, shows a trend of ~. avg: 1.80, last: 1.80\n",
      "- MechVent ranged from 1.00 to 1.00, shows a trend of →. avg: 1.00, last: 1.00\n",
      "- Urine ranged from 30.00 to 1700.00, shows a trend of ~. avg: 280.00, last: 280.00\n",
      "- WBC ranged from 3.70 to 16.80, shows a trend of ↓. avg: 9.40, last: 9.40\n",
      "- pH ranged from 7.27 to 7.50, shows a trend of →. avg: 7.31, last: 7.31\n",
      "- SaO2 ranged from 91.00 to 99.00, shows a trend of ~. avg: 98.00, last: 98.00\n",
      "- TroponinT ranged from 0.02 to 22.87, shows a trend of ↑. avg: 0.02, last: 0.02\n",
      "- TroponinI ranged from 0.30 to 40.10, shows a trend of ~. avg: 0.40, last: 0.40\n"
     ]
    }
   ],
   "source": [
    "print(summaries_a.loc[0, \"summary_statistical\"])\n",
    "print()\n",
    "print(summaries_a.loc[0, \"summary_trend\"])\n",
    "\n",
    "# Save the summaries to CSV files\n",
    "summaries_a.to_csv(PROCESSED_DATA_DIR / \"set_a\" / \"summaries_a.csv\", index=False)\n",
    "summaries_b.to_csv(PROCESSED_DATA_DIR / \"set_b\" / \"summaries_b.csv\", index=False)\n",
    "summaries_c.to_csv(PROCESSED_DATA_DIR / \"set_c\" / \"summaries_c.csv\", index=False)"
   ]
  },
  {
   "cell_type": "markdown",
   "id": "76628fa5b1bccee2",
   "metadata": {},
   "source": [
    "### Result Calculation"
   ]
  },
  {
   "cell_type": "code",
   "execution_count": 10,
   "id": "e41f927baffdb06d",
   "metadata": {
    "ExecuteTime": {
     "end_time": "2025-03-30T23:56:58.656861Z",
     "start_time": "2025-03-30T23:56:58.640854Z"
    }
   },
   "outputs": [],
   "source": [
    "system_prompt_binary = \"\"\"You are a clinical risk prediction assistant designed to assess the likelihood of in-hospital mortality based on structured patient summaries derived from ICU time-series data. \n",
    "\n",
    "You will be provided with a concise, pre-processed text description of a patient's vital signs and lab measurements recorded during the first 48 hours of their ICU stay. Your task is to classify whether the patient is at risk of dying during their hospital stay.\n",
    "\n",
    "Respond ONLY with a single number:\n",
    "- `1` if the patient is at high risk of death.\n",
    "- `0` if the patient is likely to survive.\n",
    "\n",
    "Do not provide any explanations, reasoning, or text. Only return the number `0` or `1`.\n",
    "\"\"\""
   ]
  },
  {
   "cell_type": "code",
   "execution_count": 11,
   "id": "76ee002cdda9d728",
   "metadata": {
    "ExecuteTime": {
     "end_time": "2025-03-30T23:56:58.812732Z",
     "start_time": "2025-03-30T23:56:58.802100Z"
    }
   },
   "outputs": [],
   "source": [
    "system_prompt_score = \"\"\"You are a clinical risk prediction assistant designed to assess the likelihood of in-hospital mortality based on structured patient summaries derived from ICU time-series data. \n",
    "\n",
    "You will be provided with a concise, pre-processed text description of a patient's vital signs and lab measurements recorded during the first 48 hours of their ICU stay. Your task is to determine the patient risk of dying during their hospital stay.\n",
    "\n",
    "Your goal is to assess the patient's risk of in-hospital mortality on a scale from 1 to 10:\n",
    "- `1` means extremely low risk (highly likely to survive).\n",
    "- `10` means extremely high risk (very likely to die in hospital).\n",
    "\n",
    "Respond with a single integer between 1 and 10. Do not include explanations, context, or additional output. Return only the number.\n",
    "\"\"\""
   ]
  },
  {
   "cell_type": "code",
   "execution_count": 12,
   "id": "acb7a611c9105d49",
   "metadata": {
    "ExecuteTime": {
     "end_time": "2025-03-30T23:56:58.990682Z",
     "start_time": "2025-03-30T23:56:58.962539Z"
    }
   },
   "outputs": [],
   "source": [
    "from ollama import chat\n",
    "from sklearn.metrics import roc_auc_score, average_precision_score\n",
    "import numpy as np\n",
    "import pandas as pd\n",
    "import re\n",
    "\n",
    "# ---- Utility: Extract score or binary ---- #\n",
    "\n",
    "def extract_score_from_response(text, mode=\"score\"): \n",
    "    \"\"\"\n",
    "    Extracts a number from model output or interprets binary label.\n",
    "    \"\"\"\n",
    "    text = text.lower()\n",
    "    \n",
    "    if mode == \"score\":\n",
    "        match = re.search(r'(\\d+(\\.\\d+)?)', text)\n",
    "        if match:\n",
    "            val = float(match.group(1))\n",
    "            return min(max(val, 1.0), 10.0) / 10.0  # normalize 1-10 to 0-1\n",
    "    \n",
    "    else:  # binary mode\n",
    "        # Try extracting a number first\n",
    "        match = re.search(r'(\\d+(\\.\\d+)?)', text)\n",
    "        if match:\n",
    "            val = float(match.group(1))\n",
    "            # Normalize 0–100 or 1–10 range to 0–1 if needed\n",
    "            if val == 1.0 or val == 0.0:\n",
    "                return val\n",
    "            else: \n",
    "                print(f\"Binary response didn't work: {text}\")\n",
    "\n",
    "        # Fallback to keyword heuristics\n",
    "        if any(word in text for word in [\"yes\", \"high\", \"die\", \"likely\"]):\n",
    "            return 1.0\n",
    "        elif any(word in text for word in [\"no\", \"low\", \"survive\", \"unlikely\"]):\n",
    "            return 0.0\n",
    "\n",
    "    return 0.5  # fallback neutral\n",
    "\n",
    "# ---- Few-shot formatter ---- #\n",
    "\n",
    "def generate_few_shot_examples(df_train, text_col = \"summary_statistical\" , label_col = \"In-hospital_death\", max_examples=3, mode=\"score\"):\n",
    "    \"\"\"\n",
    "    Creates few-shot context examples from labeled training set.\n",
    "    \"\"\"\n",
    "    examples = df_train.sample(n=max_examples, random_state=42)\n",
    "    formatted = \"### Examples\\n\"\n",
    "    for _, row in examples.iterrows():\n",
    "        label = row[label_col]\n",
    "        label_text = f\"{int(label * 9 + 1)}/10\" if mode == \"score\" else f\"{label}\"\n",
    "        formatted += f\"Input:\\n{row[text_col]}\\nAnswer: {label_text}\\n\\n\"\n",
    "    return formatted.strip()\n",
    "\n",
    "# ---- Core inference function ---- #\n",
    "\n",
    "def query_llm(summary_text, mode = \"score\", few_shot_context=None):\n",
    "    \"\"\"\n",
    "    Calls llm_model model via ollama.chat using user prompt.\n",
    "    \"\"\"\n",
    "    user_prompt = f\"{few_shot_context}\\n\\n### Task \\nInput:\\n{summary_text}\\nAnswer:\" if few_shot_context else f\"Input:\\n{summary_text}\\nAnswer:\"\n",
    "    \n",
    "    response = chat(model=llm_model, messages=[{\n",
    "        'role': 'system',\n",
    "        'content': system_prompt_score if mode == \"score\" else system_prompt_binary,\n",
    "    },\n",
    "        {\n",
    "        'role': 'user',\n",
    "        'content': user_prompt\n",
    "    }])\n",
    "    \n",
    "    return response['message']['content']\n",
    "\n",
    "# ---- Full evaluation runner ---- #\n",
    "\n",
    "def evaluate_llm_predictions(summary_df,  text_col='summary_statistical', label_col = \"In-hospital_death\" , mode=\"score\",\n",
    "                              few_shot=False, df_train_for_examples=None):\n",
    "    \"\"\"\n",
    "    Runs inference across all rows in summary_df and returns performance + predictions.\n",
    "    \"\"\"\n",
    "    predictions = []\n",
    "    labels = summary_df[label_col].values\n",
    "\n",
    "    # Build few-shot context once\n",
    "    context = None\n",
    "    if few_shot and df_train_for_examples is not None:\n",
    "        context = generate_few_shot_examples(df_train_for_examples, text_col, mode=mode)\n",
    "\n",
    "    for _, row in summary_df.iterrows():\n",
    "        summary = row[text_col]\n",
    "        llm_output = query_llm(summary, mode, few_shot_context=context)\n",
    "        score = extract_score_from_response(llm_output, mode=mode)\n",
    "        predictions.append(score)\n",
    "\n",
    "    predictions = np.array(predictions)\n",
    "\n",
    "    try:\n",
    "        auroc = roc_auc_score(labels, predictions)\n",
    "        auprc = average_precision_score(labels, predictions)\n",
    "    except:\n",
    "        auroc = None\n",
    "        auprc = None\n",
    "\n",
    "    return {\n",
    "        \"predictions\": predictions,\n",
    "        \"true_labels\": labels,\n",
    "        \"auroc\": auroc,\n",
    "        \"auprc\": auprc\n",
    "    }"
   ]
  },
  {
   "cell_type": "markdown",
   "id": "9f0c32fe0ee93fe9",
   "metadata": {},
   "source": [
    "### Results"
   ]
  },
  {
   "cell_type": "code",
   "execution_count": 13,
   "id": "2eea7cb46cd92d08",
   "metadata": {
    "ExecuteTime": {
     "end_time": "2025-03-30T23:56:59.245639Z",
     "start_time": "2025-03-30T23:56:59.203372Z"
    }
   },
   "outputs": [
    {
     "data": {
      "text/html": [
       "<div>\n",
       "<style scoped>\n",
       "    .dataframe tbody tr th:only-of-type {\n",
       "        vertical-align: middle;\n",
       "    }\n",
       "\n",
       "    .dataframe tbody tr th {\n",
       "        vertical-align: top;\n",
       "    }\n",
       "\n",
       "    .dataframe thead th {\n",
       "        text-align: right;\n",
       "    }\n",
       "</style>\n",
       "<table border=\"1\" class=\"dataframe\">\n",
       "  <thead>\n",
       "    <tr style=\"text-align: right;\">\n",
       "      <th></th>\n",
       "      <th>RecordID</th>\n",
       "      <th>summary_statistical</th>\n",
       "      <th>summary_trend</th>\n",
       "      <th>In-hospital_death</th>\n",
       "    </tr>\n",
       "  </thead>\n",
       "  <tbody>\n",
       "    <tr>\n",
       "      <th>200</th>\n",
       "      <td>143195.0</td>\n",
       "      <td>Patient is a 82-year-old female. Over the firs...</td>\n",
       "      <td>Patient is a 3340-year-old female, weights 77....</td>\n",
       "      <td>0</td>\n",
       "    </tr>\n",
       "    <tr>\n",
       "      <th>1078</th>\n",
       "      <td>145382.0</td>\n",
       "      <td>Patient is a 74-year-old male. Over the first ...</td>\n",
       "      <td>Patient is a 3020-year-old male, weights 68.0 ...</td>\n",
       "      <td>0</td>\n",
       "    </tr>\n",
       "    <tr>\n",
       "      <th>610</th>\n",
       "      <td>144174.0</td>\n",
       "      <td>Patient is a 73-year-old male. Over the first ...</td>\n",
       "      <td>Patient is a 2980-year-old male, weights 91.1 ...</td>\n",
       "      <td>0</td>\n",
       "    </tr>\n",
       "    <tr>\n",
       "      <th>2159</th>\n",
       "      <td>148176.0</td>\n",
       "      <td>Patient is a 50-year-old male. Over the first ...</td>\n",
       "      <td>Patient is a 2060-year-old male, weights 106.9...</td>\n",
       "      <td>0</td>\n",
       "    </tr>\n",
       "    <tr>\n",
       "      <th>1169</th>\n",
       "      <td>145642.0</td>\n",
       "      <td>Patient is a 65-year-old male. Over the first ...</td>\n",
       "      <td>Patient is a 2660-year-old male, weights 75.2 ...</td>\n",
       "      <td>1</td>\n",
       "    </tr>\n",
       "  </tbody>\n",
       "</table>\n",
       "</div>"
      ],
      "text/plain": [
       "      RecordID                                summary_statistical  \\\n",
       "200   143195.0  Patient is a 82-year-old female. Over the firs...   \n",
       "1078  145382.0  Patient is a 74-year-old male. Over the first ...   \n",
       "610   144174.0  Patient is a 73-year-old male. Over the first ...   \n",
       "2159  148176.0  Patient is a 50-year-old male. Over the first ...   \n",
       "1169  145642.0  Patient is a 65-year-old male. Over the first ...   \n",
       "\n",
       "                                          summary_trend  In-hospital_death  \n",
       "200   Patient is a 3340-year-old female, weights 77....                  0  \n",
       "1078  Patient is a 3020-year-old male, weights 68.0 ...                  0  \n",
       "610   Patient is a 2980-year-old male, weights 91.1 ...                  0  \n",
       "2159  Patient is a 2060-year-old male, weights 106.9...                  0  \n",
       "1169  Patient is a 2660-year-old male, weights 75.2 ...                  1  "
      ]
     },
     "execution_count": 13,
     "metadata": {},
     "output_type": "execute_result"
    }
   ],
   "source": [
    "summaries_b_small = summaries_b.sample(5, random_state = 1)\n",
    "summaries_b_small"
   ]
  },
  {
   "cell_type": "code",
   "execution_count": 14,
   "id": "cd342642b6f7c3a0",
   "metadata": {
    "ExecuteTime": {
     "start_time": "2025-03-30T23:56:59.589740Z"
    },
    "jupyter": {
     "is_executing": true
    }
   },
   "outputs": [
    {
     "ename": "KeyboardInterrupt",
     "evalue": "",
     "output_type": "error",
     "traceback": [
      "\u001b[0;31m---------------------------------------------------------------------------\u001b[0m",
      "\u001b[0;31mKeyboardInterrupt\u001b[0m                         Traceback (most recent call last)",
      "Cell \u001b[0;32mIn[14], line 22\u001b[0m\n\u001b[1;32m     19\u001b[0m     kwargs[\u001b[38;5;124m'\u001b[39m\u001b[38;5;124mfew_shot\u001b[39m\u001b[38;5;124m'\u001b[39m] \u001b[38;5;241m=\u001b[39m \u001b[38;5;28;01mTrue\u001b[39;00m\n\u001b[1;32m     20\u001b[0m     kwargs[\u001b[38;5;124m'\u001b[39m\u001b[38;5;124mdf_train_for_examples\u001b[39m\u001b[38;5;124m'\u001b[39m] \u001b[38;5;241m=\u001b[39m summaries_a\n\u001b[0;32m---> 22\u001b[0m results \u001b[38;5;241m=\u001b[39m \u001b[43mevaluate_llm_predictions\u001b[49m\u001b[43m(\u001b[49m\u001b[38;5;241;43m*\u001b[39;49m\u001b[38;5;241;43m*\u001b[39;49m\u001b[43mkwargs\u001b[49m\u001b[43m)\u001b[49m\n\u001b[1;32m     23\u001b[0m \u001b[38;5;28mprint\u001b[39m(\u001b[38;5;124mf\u001b[39m\u001b[38;5;124m\"\u001b[39m\u001b[38;5;132;01m{\u001b[39;00mlabel\u001b[38;5;132;01m}\u001b[39;00m\u001b[38;5;124m → AUROC: \u001b[39m\u001b[38;5;132;01m{\u001b[39;00mresults[\u001b[38;5;124m'\u001b[39m\u001b[38;5;124mauroc\u001b[39m\u001b[38;5;124m'\u001b[39m]\u001b[38;5;132;01m:\u001b[39;00m\u001b[38;5;124m.3f\u001b[39m\u001b[38;5;132;01m}\u001b[39;00m\u001b[38;5;124m, AUPRC: \u001b[39m\u001b[38;5;132;01m{\u001b[39;00mresults[\u001b[38;5;124m'\u001b[39m\u001b[38;5;124mauprc\u001b[39m\u001b[38;5;124m'\u001b[39m]\u001b[38;5;132;01m:\u001b[39;00m\u001b[38;5;124m.3f\u001b[39m\u001b[38;5;132;01m}\u001b[39;00m\u001b[38;5;124m\"\u001b[39m)\n",
      "Cell \u001b[0;32mIn[12], line 90\u001b[0m, in \u001b[0;36mevaluate_llm_predictions\u001b[0;34m(summary_df, text_col, label_col, mode, few_shot, df_train_for_examples)\u001b[0m\n\u001b[1;32m     88\u001b[0m \u001b[38;5;28;01mfor\u001b[39;00m _, row \u001b[38;5;129;01min\u001b[39;00m summary_df\u001b[38;5;241m.\u001b[39miterrows():\n\u001b[1;32m     89\u001b[0m     summary \u001b[38;5;241m=\u001b[39m row[text_col]\n\u001b[0;32m---> 90\u001b[0m     llm_output \u001b[38;5;241m=\u001b[39m \u001b[43mquery_llm\u001b[49m\u001b[43m(\u001b[49m\u001b[43msummary\u001b[49m\u001b[43m,\u001b[49m\u001b[43m \u001b[49m\u001b[43mmode\u001b[49m\u001b[43m,\u001b[49m\u001b[43m \u001b[49m\u001b[43mfew_shot_context\u001b[49m\u001b[38;5;241;43m=\u001b[39;49m\u001b[43mcontext\u001b[49m\u001b[43m)\u001b[49m\n\u001b[1;32m     91\u001b[0m     score \u001b[38;5;241m=\u001b[39m extract_score_from_response(llm_output, mode\u001b[38;5;241m=\u001b[39mmode)\n\u001b[1;32m     92\u001b[0m     predictions\u001b[38;5;241m.\u001b[39mappend(score)\n",
      "Cell \u001b[0;32mIn[12], line 62\u001b[0m, in \u001b[0;36mquery_llm\u001b[0;34m(summary_text, mode, few_shot_context)\u001b[0m\n\u001b[1;32m     57\u001b[0m \u001b[38;5;250m\u001b[39m\u001b[38;5;124;03m\"\"\"\u001b[39;00m\n\u001b[1;32m     58\u001b[0m \u001b[38;5;124;03mCalls llm_model model via ollama.chat using user prompt.\u001b[39;00m\n\u001b[1;32m     59\u001b[0m \u001b[38;5;124;03m\"\"\"\u001b[39;00m\n\u001b[1;32m     60\u001b[0m user_prompt \u001b[38;5;241m=\u001b[39m \u001b[38;5;124mf\u001b[39m\u001b[38;5;124m\"\u001b[39m\u001b[38;5;132;01m{\u001b[39;00mfew_shot_context\u001b[38;5;132;01m}\u001b[39;00m\u001b[38;5;130;01m\\n\u001b[39;00m\u001b[38;5;130;01m\\n\u001b[39;00m\u001b[38;5;124m### Task \u001b[39m\u001b[38;5;130;01m\\n\u001b[39;00m\u001b[38;5;124mInput:\u001b[39m\u001b[38;5;130;01m\\n\u001b[39;00m\u001b[38;5;132;01m{\u001b[39;00msummary_text\u001b[38;5;132;01m}\u001b[39;00m\u001b[38;5;130;01m\\n\u001b[39;00m\u001b[38;5;124mAnswer:\u001b[39m\u001b[38;5;124m\"\u001b[39m \u001b[38;5;28;01mif\u001b[39;00m few_shot_context \u001b[38;5;28;01melse\u001b[39;00m \u001b[38;5;124mf\u001b[39m\u001b[38;5;124m\"\u001b[39m\u001b[38;5;124mInput:\u001b[39m\u001b[38;5;130;01m\\n\u001b[39;00m\u001b[38;5;132;01m{\u001b[39;00msummary_text\u001b[38;5;132;01m}\u001b[39;00m\u001b[38;5;130;01m\\n\u001b[39;00m\u001b[38;5;124mAnswer:\u001b[39m\u001b[38;5;124m\"\u001b[39m\n\u001b[0;32m---> 62\u001b[0m response \u001b[38;5;241m=\u001b[39m \u001b[43mchat\u001b[49m\u001b[43m(\u001b[49m\u001b[43mmodel\u001b[49m\u001b[38;5;241;43m=\u001b[39;49m\u001b[43mllm_model\u001b[49m\u001b[43m,\u001b[49m\u001b[43m \u001b[49m\u001b[43mmessages\u001b[49m\u001b[38;5;241;43m=\u001b[39;49m\u001b[43m[\u001b[49m\u001b[43m{\u001b[49m\n\u001b[1;32m     63\u001b[0m \u001b[43m    \u001b[49m\u001b[38;5;124;43m'\u001b[39;49m\u001b[38;5;124;43mrole\u001b[39;49m\u001b[38;5;124;43m'\u001b[39;49m\u001b[43m:\u001b[49m\u001b[43m \u001b[49m\u001b[38;5;124;43m'\u001b[39;49m\u001b[38;5;124;43msystem\u001b[39;49m\u001b[38;5;124;43m'\u001b[39;49m\u001b[43m,\u001b[49m\n\u001b[1;32m     64\u001b[0m \u001b[43m    \u001b[49m\u001b[38;5;124;43m'\u001b[39;49m\u001b[38;5;124;43mcontent\u001b[39;49m\u001b[38;5;124;43m'\u001b[39;49m\u001b[43m:\u001b[49m\u001b[43m \u001b[49m\u001b[43msystem_prompt_score\u001b[49m\u001b[43m \u001b[49m\u001b[38;5;28;43;01mif\u001b[39;49;00m\u001b[43m \u001b[49m\u001b[43mmode\u001b[49m\u001b[43m \u001b[49m\u001b[38;5;241;43m==\u001b[39;49m\u001b[43m \u001b[49m\u001b[38;5;124;43m\"\u001b[39;49m\u001b[38;5;124;43mscore\u001b[39;49m\u001b[38;5;124;43m\"\u001b[39;49m\u001b[43m \u001b[49m\u001b[38;5;28;43;01melse\u001b[39;49;00m\u001b[43m \u001b[49m\u001b[43msystem_prompt_binary\u001b[49m\u001b[43m,\u001b[49m\n\u001b[1;32m     65\u001b[0m \u001b[43m\u001b[49m\u001b[43m}\u001b[49m\u001b[43m,\u001b[49m\n\u001b[1;32m     66\u001b[0m \u001b[43m    \u001b[49m\u001b[43m{\u001b[49m\n\u001b[1;32m     67\u001b[0m \u001b[43m    \u001b[49m\u001b[38;5;124;43m'\u001b[39;49m\u001b[38;5;124;43mrole\u001b[39;49m\u001b[38;5;124;43m'\u001b[39;49m\u001b[43m:\u001b[49m\u001b[43m \u001b[49m\u001b[38;5;124;43m'\u001b[39;49m\u001b[38;5;124;43muser\u001b[39;49m\u001b[38;5;124;43m'\u001b[39;49m\u001b[43m,\u001b[49m\n\u001b[1;32m     68\u001b[0m \u001b[43m    \u001b[49m\u001b[38;5;124;43m'\u001b[39;49m\u001b[38;5;124;43mcontent\u001b[39;49m\u001b[38;5;124;43m'\u001b[39;49m\u001b[43m:\u001b[49m\u001b[43m \u001b[49m\u001b[43muser_prompt\u001b[49m\n\u001b[1;32m     69\u001b[0m \u001b[43m\u001b[49m\u001b[43m}\u001b[49m\u001b[43m]\u001b[49m\u001b[43m)\u001b[49m\n\u001b[1;32m     71\u001b[0m \u001b[38;5;28;01mreturn\u001b[39;00m response[\u001b[38;5;124m'\u001b[39m\u001b[38;5;124mmessage\u001b[39m\u001b[38;5;124m'\u001b[39m][\u001b[38;5;124m'\u001b[39m\u001b[38;5;124mcontent\u001b[39m\u001b[38;5;124m'\u001b[39m]\n",
      "File \u001b[0;32m~/anaconda3/envs/TUM/lib/python3.12/site-packages/ollama/_client.py:333\u001b[0m, in \u001b[0;36mClient.chat\u001b[0;34m(self, model, messages, tools, stream, format, options, keep_alive)\u001b[0m\n\u001b[1;32m    289\u001b[0m \u001b[38;5;28;01mdef\u001b[39;00m \u001b[38;5;21mchat\u001b[39m(\n\u001b[1;32m    290\u001b[0m   \u001b[38;5;28mself\u001b[39m,\n\u001b[1;32m    291\u001b[0m   model: \u001b[38;5;28mstr\u001b[39m \u001b[38;5;241m=\u001b[39m \u001b[38;5;124m'\u001b[39m\u001b[38;5;124m'\u001b[39m,\n\u001b[0;32m   (...)\u001b[0m\n\u001b[1;32m    298\u001b[0m   keep_alive: Optional[Union[\u001b[38;5;28mfloat\u001b[39m, \u001b[38;5;28mstr\u001b[39m]] \u001b[38;5;241m=\u001b[39m \u001b[38;5;28;01mNone\u001b[39;00m,\n\u001b[1;32m    299\u001b[0m ) \u001b[38;5;241m-\u001b[39m\u001b[38;5;241m>\u001b[39m Union[ChatResponse, Iterator[ChatResponse]]:\n\u001b[1;32m    300\u001b[0m \u001b[38;5;250m  \u001b[39m\u001b[38;5;124;03m\"\"\"\u001b[39;00m\n\u001b[1;32m    301\u001b[0m \u001b[38;5;124;03m  Create a chat response using the requested model.\u001b[39;00m\n\u001b[1;32m    302\u001b[0m \n\u001b[0;32m   (...)\u001b[0m\n\u001b[1;32m    331\u001b[0m \u001b[38;5;124;03m  Returns `ChatResponse` if `stream` is `False`, otherwise returns a `ChatResponse` generator.\u001b[39;00m\n\u001b[1;32m    332\u001b[0m \u001b[38;5;124;03m  \"\"\"\u001b[39;00m\n\u001b[0;32m--> 333\u001b[0m   \u001b[38;5;28;01mreturn\u001b[39;00m \u001b[38;5;28;43mself\u001b[39;49m\u001b[38;5;241;43m.\u001b[39;49m\u001b[43m_request\u001b[49m\u001b[43m(\u001b[49m\n\u001b[1;32m    334\u001b[0m \u001b[43m    \u001b[49m\u001b[43mChatResponse\u001b[49m\u001b[43m,\u001b[49m\n\u001b[1;32m    335\u001b[0m \u001b[43m    \u001b[49m\u001b[38;5;124;43m'\u001b[39;49m\u001b[38;5;124;43mPOST\u001b[39;49m\u001b[38;5;124;43m'\u001b[39;49m\u001b[43m,\u001b[49m\n\u001b[1;32m    336\u001b[0m \u001b[43m    \u001b[49m\u001b[38;5;124;43m'\u001b[39;49m\u001b[38;5;124;43m/api/chat\u001b[39;49m\u001b[38;5;124;43m'\u001b[39;49m\u001b[43m,\u001b[49m\n\u001b[1;32m    337\u001b[0m \u001b[43m    \u001b[49m\u001b[43mjson\u001b[49m\u001b[38;5;241;43m=\u001b[39;49m\u001b[43mChatRequest\u001b[49m\u001b[43m(\u001b[49m\n\u001b[1;32m    338\u001b[0m \u001b[43m      \u001b[49m\u001b[43mmodel\u001b[49m\u001b[38;5;241;43m=\u001b[39;49m\u001b[43mmodel\u001b[49m\u001b[43m,\u001b[49m\n\u001b[1;32m    339\u001b[0m \u001b[43m      \u001b[49m\u001b[43mmessages\u001b[49m\u001b[38;5;241;43m=\u001b[39;49m\u001b[43m[\u001b[49m\u001b[43mmessage\u001b[49m\u001b[43m \u001b[49m\u001b[38;5;28;43;01mfor\u001b[39;49;00m\u001b[43m \u001b[49m\u001b[43mmessage\u001b[49m\u001b[43m \u001b[49m\u001b[38;5;129;43;01min\u001b[39;49;00m\u001b[43m \u001b[49m\u001b[43m_copy_messages\u001b[49m\u001b[43m(\u001b[49m\u001b[43mmessages\u001b[49m\u001b[43m)\u001b[49m\u001b[43m]\u001b[49m\u001b[43m,\u001b[49m\n\u001b[1;32m    340\u001b[0m \u001b[43m      \u001b[49m\u001b[43mtools\u001b[49m\u001b[38;5;241;43m=\u001b[39;49m\u001b[43m[\u001b[49m\u001b[43mtool\u001b[49m\u001b[43m \u001b[49m\u001b[38;5;28;43;01mfor\u001b[39;49;00m\u001b[43m \u001b[49m\u001b[43mtool\u001b[49m\u001b[43m \u001b[49m\u001b[38;5;129;43;01min\u001b[39;49;00m\u001b[43m \u001b[49m\u001b[43m_copy_tools\u001b[49m\u001b[43m(\u001b[49m\u001b[43mtools\u001b[49m\u001b[43m)\u001b[49m\u001b[43m]\u001b[49m\u001b[43m,\u001b[49m\n\u001b[1;32m    341\u001b[0m \u001b[43m      \u001b[49m\u001b[43mstream\u001b[49m\u001b[38;5;241;43m=\u001b[39;49m\u001b[43mstream\u001b[49m\u001b[43m,\u001b[49m\n\u001b[1;32m    342\u001b[0m \u001b[43m      \u001b[49m\u001b[38;5;28;43mformat\u001b[39;49m\u001b[38;5;241;43m=\u001b[39;49m\u001b[38;5;28;43mformat\u001b[39;49m\u001b[43m,\u001b[49m\n\u001b[1;32m    343\u001b[0m \u001b[43m      \u001b[49m\u001b[43moptions\u001b[49m\u001b[38;5;241;43m=\u001b[39;49m\u001b[43moptions\u001b[49m\u001b[43m,\u001b[49m\n\u001b[1;32m    344\u001b[0m \u001b[43m      \u001b[49m\u001b[43mkeep_alive\u001b[49m\u001b[38;5;241;43m=\u001b[39;49m\u001b[43mkeep_alive\u001b[49m\u001b[43m,\u001b[49m\n\u001b[1;32m    345\u001b[0m \u001b[43m    \u001b[49m\u001b[43m)\u001b[49m\u001b[38;5;241;43m.\u001b[39;49m\u001b[43mmodel_dump\u001b[49m\u001b[43m(\u001b[49m\u001b[43mexclude_none\u001b[49m\u001b[38;5;241;43m=\u001b[39;49m\u001b[38;5;28;43;01mTrue\u001b[39;49;00m\u001b[43m)\u001b[49m\u001b[43m,\u001b[49m\n\u001b[1;32m    346\u001b[0m \u001b[43m    \u001b[49m\u001b[43mstream\u001b[49m\u001b[38;5;241;43m=\u001b[39;49m\u001b[43mstream\u001b[49m\u001b[43m,\u001b[49m\n\u001b[1;32m    347\u001b[0m \u001b[43m  \u001b[49m\u001b[43m)\u001b[49m\n",
      "File \u001b[0;32m~/anaconda3/envs/TUM/lib/python3.12/site-packages/ollama/_client.py:178\u001b[0m, in \u001b[0;36mClient._request\u001b[0;34m(self, cls, stream, *args, **kwargs)\u001b[0m\n\u001b[1;32m    174\u001b[0m         \u001b[38;5;28;01myield\u001b[39;00m \u001b[38;5;28mcls\u001b[39m(\u001b[38;5;241m*\u001b[39m\u001b[38;5;241m*\u001b[39mpart)\n\u001b[1;32m    176\u001b[0m   \u001b[38;5;28;01mreturn\u001b[39;00m inner()\n\u001b[0;32m--> 178\u001b[0m \u001b[38;5;28;01mreturn\u001b[39;00m \u001b[38;5;28mcls\u001b[39m(\u001b[38;5;241m*\u001b[39m\u001b[38;5;241m*\u001b[39m\u001b[38;5;28;43mself\u001b[39;49m\u001b[38;5;241;43m.\u001b[39;49m\u001b[43m_request_raw\u001b[49m\u001b[43m(\u001b[49m\u001b[38;5;241;43m*\u001b[39;49m\u001b[43margs\u001b[49m\u001b[43m,\u001b[49m\u001b[43m \u001b[49m\u001b[38;5;241;43m*\u001b[39;49m\u001b[38;5;241;43m*\u001b[39;49m\u001b[43mkwargs\u001b[49m\u001b[43m)\u001b[49m\u001b[38;5;241m.\u001b[39mjson())\n",
      "File \u001b[0;32m~/anaconda3/envs/TUM/lib/python3.12/site-packages/ollama/_client.py:118\u001b[0m, in \u001b[0;36mClient._request_raw\u001b[0;34m(self, *args, **kwargs)\u001b[0m\n\u001b[1;32m    116\u001b[0m \u001b[38;5;28;01mdef\u001b[39;00m \u001b[38;5;21m_request_raw\u001b[39m(\u001b[38;5;28mself\u001b[39m, \u001b[38;5;241m*\u001b[39margs, \u001b[38;5;241m*\u001b[39m\u001b[38;5;241m*\u001b[39mkwargs):\n\u001b[1;32m    117\u001b[0m   \u001b[38;5;28;01mtry\u001b[39;00m:\n\u001b[0;32m--> 118\u001b[0m     r \u001b[38;5;241m=\u001b[39m \u001b[38;5;28;43mself\u001b[39;49m\u001b[38;5;241;43m.\u001b[39;49m\u001b[43m_client\u001b[49m\u001b[38;5;241;43m.\u001b[39;49m\u001b[43mrequest\u001b[49m\u001b[43m(\u001b[49m\u001b[38;5;241;43m*\u001b[39;49m\u001b[43margs\u001b[49m\u001b[43m,\u001b[49m\u001b[43m \u001b[49m\u001b[38;5;241;43m*\u001b[39;49m\u001b[38;5;241;43m*\u001b[39;49m\u001b[43mkwargs\u001b[49m\u001b[43m)\u001b[49m\n\u001b[1;32m    119\u001b[0m     r\u001b[38;5;241m.\u001b[39mraise_for_status()\n\u001b[1;32m    120\u001b[0m     \u001b[38;5;28;01mreturn\u001b[39;00m r\n",
      "File \u001b[0;32m~/anaconda3/envs/TUM/lib/python3.12/site-packages/httpx/_client.py:825\u001b[0m, in \u001b[0;36mClient.request\u001b[0;34m(self, method, url, content, data, files, json, params, headers, cookies, auth, follow_redirects, timeout, extensions)\u001b[0m\n\u001b[1;32m    810\u001b[0m     warnings\u001b[38;5;241m.\u001b[39mwarn(message, \u001b[38;5;167;01mDeprecationWarning\u001b[39;00m, stacklevel\u001b[38;5;241m=\u001b[39m\u001b[38;5;241m2\u001b[39m)\n\u001b[1;32m    812\u001b[0m request \u001b[38;5;241m=\u001b[39m \u001b[38;5;28mself\u001b[39m\u001b[38;5;241m.\u001b[39mbuild_request(\n\u001b[1;32m    813\u001b[0m     method\u001b[38;5;241m=\u001b[39mmethod,\n\u001b[1;32m    814\u001b[0m     url\u001b[38;5;241m=\u001b[39murl,\n\u001b[0;32m   (...)\u001b[0m\n\u001b[1;32m    823\u001b[0m     extensions\u001b[38;5;241m=\u001b[39mextensions,\n\u001b[1;32m    824\u001b[0m )\n\u001b[0;32m--> 825\u001b[0m \u001b[38;5;28;01mreturn\u001b[39;00m \u001b[38;5;28;43mself\u001b[39;49m\u001b[38;5;241;43m.\u001b[39;49m\u001b[43msend\u001b[49m\u001b[43m(\u001b[49m\u001b[43mrequest\u001b[49m\u001b[43m,\u001b[49m\u001b[43m \u001b[49m\u001b[43mauth\u001b[49m\u001b[38;5;241;43m=\u001b[39;49m\u001b[43mauth\u001b[49m\u001b[43m,\u001b[49m\u001b[43m \u001b[49m\u001b[43mfollow_redirects\u001b[49m\u001b[38;5;241;43m=\u001b[39;49m\u001b[43mfollow_redirects\u001b[49m\u001b[43m)\u001b[49m\n",
      "File \u001b[0;32m~/anaconda3/envs/TUM/lib/python3.12/site-packages/httpx/_client.py:914\u001b[0m, in \u001b[0;36mClient.send\u001b[0;34m(self, request, stream, auth, follow_redirects)\u001b[0m\n\u001b[1;32m    910\u001b[0m \u001b[38;5;28mself\u001b[39m\u001b[38;5;241m.\u001b[39m_set_timeout(request)\n\u001b[1;32m    912\u001b[0m auth \u001b[38;5;241m=\u001b[39m \u001b[38;5;28mself\u001b[39m\u001b[38;5;241m.\u001b[39m_build_request_auth(request, auth)\n\u001b[0;32m--> 914\u001b[0m response \u001b[38;5;241m=\u001b[39m \u001b[38;5;28;43mself\u001b[39;49m\u001b[38;5;241;43m.\u001b[39;49m\u001b[43m_send_handling_auth\u001b[49m\u001b[43m(\u001b[49m\n\u001b[1;32m    915\u001b[0m \u001b[43m    \u001b[49m\u001b[43mrequest\u001b[49m\u001b[43m,\u001b[49m\n\u001b[1;32m    916\u001b[0m \u001b[43m    \u001b[49m\u001b[43mauth\u001b[49m\u001b[38;5;241;43m=\u001b[39;49m\u001b[43mauth\u001b[49m\u001b[43m,\u001b[49m\n\u001b[1;32m    917\u001b[0m \u001b[43m    \u001b[49m\u001b[43mfollow_redirects\u001b[49m\u001b[38;5;241;43m=\u001b[39;49m\u001b[43mfollow_redirects\u001b[49m\u001b[43m,\u001b[49m\n\u001b[1;32m    918\u001b[0m \u001b[43m    \u001b[49m\u001b[43mhistory\u001b[49m\u001b[38;5;241;43m=\u001b[39;49m\u001b[43m[\u001b[49m\u001b[43m]\u001b[49m\u001b[43m,\u001b[49m\n\u001b[1;32m    919\u001b[0m \u001b[43m\u001b[49m\u001b[43m)\u001b[49m\n\u001b[1;32m    920\u001b[0m \u001b[38;5;28;01mtry\u001b[39;00m:\n\u001b[1;32m    921\u001b[0m     \u001b[38;5;28;01mif\u001b[39;00m \u001b[38;5;129;01mnot\u001b[39;00m stream:\n",
      "File \u001b[0;32m~/anaconda3/envs/TUM/lib/python3.12/site-packages/httpx/_client.py:942\u001b[0m, in \u001b[0;36mClient._send_handling_auth\u001b[0;34m(self, request, auth, follow_redirects, history)\u001b[0m\n\u001b[1;32m    939\u001b[0m request \u001b[38;5;241m=\u001b[39m \u001b[38;5;28mnext\u001b[39m(auth_flow)\n\u001b[1;32m    941\u001b[0m \u001b[38;5;28;01mwhile\u001b[39;00m \u001b[38;5;28;01mTrue\u001b[39;00m:\n\u001b[0;32m--> 942\u001b[0m     response \u001b[38;5;241m=\u001b[39m \u001b[38;5;28;43mself\u001b[39;49m\u001b[38;5;241;43m.\u001b[39;49m\u001b[43m_send_handling_redirects\u001b[49m\u001b[43m(\u001b[49m\n\u001b[1;32m    943\u001b[0m \u001b[43m        \u001b[49m\u001b[43mrequest\u001b[49m\u001b[43m,\u001b[49m\n\u001b[1;32m    944\u001b[0m \u001b[43m        \u001b[49m\u001b[43mfollow_redirects\u001b[49m\u001b[38;5;241;43m=\u001b[39;49m\u001b[43mfollow_redirects\u001b[49m\u001b[43m,\u001b[49m\n\u001b[1;32m    945\u001b[0m \u001b[43m        \u001b[49m\u001b[43mhistory\u001b[49m\u001b[38;5;241;43m=\u001b[39;49m\u001b[43mhistory\u001b[49m\u001b[43m,\u001b[49m\n\u001b[1;32m    946\u001b[0m \u001b[43m    \u001b[49m\u001b[43m)\u001b[49m\n\u001b[1;32m    947\u001b[0m     \u001b[38;5;28;01mtry\u001b[39;00m:\n\u001b[1;32m    948\u001b[0m         \u001b[38;5;28;01mtry\u001b[39;00m:\n",
      "File \u001b[0;32m~/anaconda3/envs/TUM/lib/python3.12/site-packages/httpx/_client.py:979\u001b[0m, in \u001b[0;36mClient._send_handling_redirects\u001b[0;34m(self, request, follow_redirects, history)\u001b[0m\n\u001b[1;32m    976\u001b[0m \u001b[38;5;28;01mfor\u001b[39;00m hook \u001b[38;5;129;01min\u001b[39;00m \u001b[38;5;28mself\u001b[39m\u001b[38;5;241m.\u001b[39m_event_hooks[\u001b[38;5;124m\"\u001b[39m\u001b[38;5;124mrequest\u001b[39m\u001b[38;5;124m\"\u001b[39m]:\n\u001b[1;32m    977\u001b[0m     hook(request)\n\u001b[0;32m--> 979\u001b[0m response \u001b[38;5;241m=\u001b[39m \u001b[38;5;28;43mself\u001b[39;49m\u001b[38;5;241;43m.\u001b[39;49m\u001b[43m_send_single_request\u001b[49m\u001b[43m(\u001b[49m\u001b[43mrequest\u001b[49m\u001b[43m)\u001b[49m\n\u001b[1;32m    980\u001b[0m \u001b[38;5;28;01mtry\u001b[39;00m:\n\u001b[1;32m    981\u001b[0m     \u001b[38;5;28;01mfor\u001b[39;00m hook \u001b[38;5;129;01min\u001b[39;00m \u001b[38;5;28mself\u001b[39m\u001b[38;5;241m.\u001b[39m_event_hooks[\u001b[38;5;124m\"\u001b[39m\u001b[38;5;124mresponse\u001b[39m\u001b[38;5;124m\"\u001b[39m]:\n",
      "File \u001b[0;32m~/anaconda3/envs/TUM/lib/python3.12/site-packages/httpx/_client.py:1014\u001b[0m, in \u001b[0;36mClient._send_single_request\u001b[0;34m(self, request)\u001b[0m\n\u001b[1;32m   1009\u001b[0m     \u001b[38;5;28;01mraise\u001b[39;00m \u001b[38;5;167;01mRuntimeError\u001b[39;00m(\n\u001b[1;32m   1010\u001b[0m         \u001b[38;5;124m\"\u001b[39m\u001b[38;5;124mAttempted to send an async request with a sync Client instance.\u001b[39m\u001b[38;5;124m\"\u001b[39m\n\u001b[1;32m   1011\u001b[0m     )\n\u001b[1;32m   1013\u001b[0m \u001b[38;5;28;01mwith\u001b[39;00m request_context(request\u001b[38;5;241m=\u001b[39mrequest):\n\u001b[0;32m-> 1014\u001b[0m     response \u001b[38;5;241m=\u001b[39m \u001b[43mtransport\u001b[49m\u001b[38;5;241;43m.\u001b[39;49m\u001b[43mhandle_request\u001b[49m\u001b[43m(\u001b[49m\u001b[43mrequest\u001b[49m\u001b[43m)\u001b[49m\n\u001b[1;32m   1016\u001b[0m \u001b[38;5;28;01massert\u001b[39;00m \u001b[38;5;28misinstance\u001b[39m(response\u001b[38;5;241m.\u001b[39mstream, SyncByteStream)\n\u001b[1;32m   1018\u001b[0m response\u001b[38;5;241m.\u001b[39mrequest \u001b[38;5;241m=\u001b[39m request\n",
      "File \u001b[0;32m~/anaconda3/envs/TUM/lib/python3.12/site-packages/httpx/_transports/default.py:250\u001b[0m, in \u001b[0;36mHTTPTransport.handle_request\u001b[0;34m(self, request)\u001b[0m\n\u001b[1;32m    237\u001b[0m req \u001b[38;5;241m=\u001b[39m httpcore\u001b[38;5;241m.\u001b[39mRequest(\n\u001b[1;32m    238\u001b[0m     method\u001b[38;5;241m=\u001b[39mrequest\u001b[38;5;241m.\u001b[39mmethod,\n\u001b[1;32m    239\u001b[0m     url\u001b[38;5;241m=\u001b[39mhttpcore\u001b[38;5;241m.\u001b[39mURL(\n\u001b[0;32m   (...)\u001b[0m\n\u001b[1;32m    247\u001b[0m     extensions\u001b[38;5;241m=\u001b[39mrequest\u001b[38;5;241m.\u001b[39mextensions,\n\u001b[1;32m    248\u001b[0m )\n\u001b[1;32m    249\u001b[0m \u001b[38;5;28;01mwith\u001b[39;00m map_httpcore_exceptions():\n\u001b[0;32m--> 250\u001b[0m     resp \u001b[38;5;241m=\u001b[39m \u001b[38;5;28;43mself\u001b[39;49m\u001b[38;5;241;43m.\u001b[39;49m\u001b[43m_pool\u001b[49m\u001b[38;5;241;43m.\u001b[39;49m\u001b[43mhandle_request\u001b[49m\u001b[43m(\u001b[49m\u001b[43mreq\u001b[49m\u001b[43m)\u001b[49m\n\u001b[1;32m    252\u001b[0m \u001b[38;5;28;01massert\u001b[39;00m \u001b[38;5;28misinstance\u001b[39m(resp\u001b[38;5;241m.\u001b[39mstream, typing\u001b[38;5;241m.\u001b[39mIterable)\n\u001b[1;32m    254\u001b[0m \u001b[38;5;28;01mreturn\u001b[39;00m Response(\n\u001b[1;32m    255\u001b[0m     status_code\u001b[38;5;241m=\u001b[39mresp\u001b[38;5;241m.\u001b[39mstatus,\n\u001b[1;32m    256\u001b[0m     headers\u001b[38;5;241m=\u001b[39mresp\u001b[38;5;241m.\u001b[39mheaders,\n\u001b[1;32m    257\u001b[0m     stream\u001b[38;5;241m=\u001b[39mResponseStream(resp\u001b[38;5;241m.\u001b[39mstream),\n\u001b[1;32m    258\u001b[0m     extensions\u001b[38;5;241m=\u001b[39mresp\u001b[38;5;241m.\u001b[39mextensions,\n\u001b[1;32m    259\u001b[0m )\n",
      "File \u001b[0;32m~/anaconda3/envs/TUM/lib/python3.12/site-packages/httpcore/_sync/connection_pool.py:256\u001b[0m, in \u001b[0;36mConnectionPool.handle_request\u001b[0;34m(self, request)\u001b[0m\n\u001b[1;32m    253\u001b[0m         closing \u001b[38;5;241m=\u001b[39m \u001b[38;5;28mself\u001b[39m\u001b[38;5;241m.\u001b[39m_assign_requests_to_connections()\n\u001b[1;32m    255\u001b[0m     \u001b[38;5;28mself\u001b[39m\u001b[38;5;241m.\u001b[39m_close_connections(closing)\n\u001b[0;32m--> 256\u001b[0m     \u001b[38;5;28;01mraise\u001b[39;00m exc \u001b[38;5;28;01mfrom\u001b[39;00m \u001b[38;5;28;01mNone\u001b[39;00m\n\u001b[1;32m    258\u001b[0m \u001b[38;5;66;03m# Return the response. Note that in this case we still have to manage\u001b[39;00m\n\u001b[1;32m    259\u001b[0m \u001b[38;5;66;03m# the point at which the response is closed.\u001b[39;00m\n\u001b[1;32m    260\u001b[0m \u001b[38;5;28;01massert\u001b[39;00m \u001b[38;5;28misinstance\u001b[39m(response\u001b[38;5;241m.\u001b[39mstream, typing\u001b[38;5;241m.\u001b[39mIterable)\n",
      "File \u001b[0;32m~/anaconda3/envs/TUM/lib/python3.12/site-packages/httpcore/_sync/connection_pool.py:236\u001b[0m, in \u001b[0;36mConnectionPool.handle_request\u001b[0;34m(self, request)\u001b[0m\n\u001b[1;32m    232\u001b[0m connection \u001b[38;5;241m=\u001b[39m pool_request\u001b[38;5;241m.\u001b[39mwait_for_connection(timeout\u001b[38;5;241m=\u001b[39mtimeout)\n\u001b[1;32m    234\u001b[0m \u001b[38;5;28;01mtry\u001b[39;00m:\n\u001b[1;32m    235\u001b[0m     \u001b[38;5;66;03m# Send the request on the assigned connection.\u001b[39;00m\n\u001b[0;32m--> 236\u001b[0m     response \u001b[38;5;241m=\u001b[39m \u001b[43mconnection\u001b[49m\u001b[38;5;241;43m.\u001b[39;49m\u001b[43mhandle_request\u001b[49m\u001b[43m(\u001b[49m\n\u001b[1;32m    237\u001b[0m \u001b[43m        \u001b[49m\u001b[43mpool_request\u001b[49m\u001b[38;5;241;43m.\u001b[39;49m\u001b[43mrequest\u001b[49m\n\u001b[1;32m    238\u001b[0m \u001b[43m    \u001b[49m\u001b[43m)\u001b[49m\n\u001b[1;32m    239\u001b[0m \u001b[38;5;28;01mexcept\u001b[39;00m ConnectionNotAvailable:\n\u001b[1;32m    240\u001b[0m     \u001b[38;5;66;03m# In some cases a connection may initially be available to\u001b[39;00m\n\u001b[1;32m    241\u001b[0m     \u001b[38;5;66;03m# handle a request, but then become unavailable.\u001b[39;00m\n\u001b[1;32m    242\u001b[0m     \u001b[38;5;66;03m#\u001b[39;00m\n\u001b[1;32m    243\u001b[0m     \u001b[38;5;66;03m# In this case we clear the connection and try again.\u001b[39;00m\n\u001b[1;32m    244\u001b[0m     pool_request\u001b[38;5;241m.\u001b[39mclear_connection()\n",
      "File \u001b[0;32m~/anaconda3/envs/TUM/lib/python3.12/site-packages/httpcore/_sync/connection.py:103\u001b[0m, in \u001b[0;36mHTTPConnection.handle_request\u001b[0;34m(self, request)\u001b[0m\n\u001b[1;32m    100\u001b[0m     \u001b[38;5;28mself\u001b[39m\u001b[38;5;241m.\u001b[39m_connect_failed \u001b[38;5;241m=\u001b[39m \u001b[38;5;28;01mTrue\u001b[39;00m\n\u001b[1;32m    101\u001b[0m     \u001b[38;5;28;01mraise\u001b[39;00m exc\n\u001b[0;32m--> 103\u001b[0m \u001b[38;5;28;01mreturn\u001b[39;00m \u001b[38;5;28;43mself\u001b[39;49m\u001b[38;5;241;43m.\u001b[39;49m\u001b[43m_connection\u001b[49m\u001b[38;5;241;43m.\u001b[39;49m\u001b[43mhandle_request\u001b[49m\u001b[43m(\u001b[49m\u001b[43mrequest\u001b[49m\u001b[43m)\u001b[49m\n",
      "File \u001b[0;32m~/anaconda3/envs/TUM/lib/python3.12/site-packages/httpcore/_sync/http11.py:136\u001b[0m, in \u001b[0;36mHTTP11Connection.handle_request\u001b[0;34m(self, request)\u001b[0m\n\u001b[1;32m    134\u001b[0m     \u001b[38;5;28;01mwith\u001b[39;00m Trace(\u001b[38;5;124m\"\u001b[39m\u001b[38;5;124mresponse_closed\u001b[39m\u001b[38;5;124m\"\u001b[39m, logger, request) \u001b[38;5;28;01mas\u001b[39;00m trace:\n\u001b[1;32m    135\u001b[0m         \u001b[38;5;28mself\u001b[39m\u001b[38;5;241m.\u001b[39m_response_closed()\n\u001b[0;32m--> 136\u001b[0m \u001b[38;5;28;01mraise\u001b[39;00m exc\n",
      "File \u001b[0;32m~/anaconda3/envs/TUM/lib/python3.12/site-packages/httpcore/_sync/http11.py:106\u001b[0m, in \u001b[0;36mHTTP11Connection.handle_request\u001b[0;34m(self, request)\u001b[0m\n\u001b[1;32m     95\u001b[0m     \u001b[38;5;28;01mpass\u001b[39;00m\n\u001b[1;32m     97\u001b[0m \u001b[38;5;28;01mwith\u001b[39;00m Trace(\n\u001b[1;32m     98\u001b[0m     \u001b[38;5;124m\"\u001b[39m\u001b[38;5;124mreceive_response_headers\u001b[39m\u001b[38;5;124m\"\u001b[39m, logger, request, kwargs\n\u001b[1;32m     99\u001b[0m ) \u001b[38;5;28;01mas\u001b[39;00m trace:\n\u001b[1;32m    100\u001b[0m     (\n\u001b[1;32m    101\u001b[0m         http_version,\n\u001b[1;32m    102\u001b[0m         status,\n\u001b[1;32m    103\u001b[0m         reason_phrase,\n\u001b[1;32m    104\u001b[0m         headers,\n\u001b[1;32m    105\u001b[0m         trailing_data,\n\u001b[0;32m--> 106\u001b[0m     ) \u001b[38;5;241m=\u001b[39m \u001b[38;5;28;43mself\u001b[39;49m\u001b[38;5;241;43m.\u001b[39;49m\u001b[43m_receive_response_headers\u001b[49m\u001b[43m(\u001b[49m\u001b[38;5;241;43m*\u001b[39;49m\u001b[38;5;241;43m*\u001b[39;49m\u001b[43mkwargs\u001b[49m\u001b[43m)\u001b[49m\n\u001b[1;32m    107\u001b[0m     trace\u001b[38;5;241m.\u001b[39mreturn_value \u001b[38;5;241m=\u001b[39m (\n\u001b[1;32m    108\u001b[0m         http_version,\n\u001b[1;32m    109\u001b[0m         status,\n\u001b[1;32m    110\u001b[0m         reason_phrase,\n\u001b[1;32m    111\u001b[0m         headers,\n\u001b[1;32m    112\u001b[0m     )\n\u001b[1;32m    114\u001b[0m network_stream \u001b[38;5;241m=\u001b[39m \u001b[38;5;28mself\u001b[39m\u001b[38;5;241m.\u001b[39m_network_stream\n",
      "File \u001b[0;32m~/anaconda3/envs/TUM/lib/python3.12/site-packages/httpcore/_sync/http11.py:177\u001b[0m, in \u001b[0;36mHTTP11Connection._receive_response_headers\u001b[0;34m(self, request)\u001b[0m\n\u001b[1;32m    174\u001b[0m timeout \u001b[38;5;241m=\u001b[39m timeouts\u001b[38;5;241m.\u001b[39mget(\u001b[38;5;124m\"\u001b[39m\u001b[38;5;124mread\u001b[39m\u001b[38;5;124m\"\u001b[39m, \u001b[38;5;28;01mNone\u001b[39;00m)\n\u001b[1;32m    176\u001b[0m \u001b[38;5;28;01mwhile\u001b[39;00m \u001b[38;5;28;01mTrue\u001b[39;00m:\n\u001b[0;32m--> 177\u001b[0m     event \u001b[38;5;241m=\u001b[39m \u001b[38;5;28;43mself\u001b[39;49m\u001b[38;5;241;43m.\u001b[39;49m\u001b[43m_receive_event\u001b[49m\u001b[43m(\u001b[49m\u001b[43mtimeout\u001b[49m\u001b[38;5;241;43m=\u001b[39;49m\u001b[43mtimeout\u001b[49m\u001b[43m)\u001b[49m\n\u001b[1;32m    178\u001b[0m     \u001b[38;5;28;01mif\u001b[39;00m \u001b[38;5;28misinstance\u001b[39m(event, h11\u001b[38;5;241m.\u001b[39mResponse):\n\u001b[1;32m    179\u001b[0m         \u001b[38;5;28;01mbreak\u001b[39;00m\n",
      "File \u001b[0;32m~/anaconda3/envs/TUM/lib/python3.12/site-packages/httpcore/_sync/http11.py:217\u001b[0m, in \u001b[0;36mHTTP11Connection._receive_event\u001b[0;34m(self, timeout)\u001b[0m\n\u001b[1;32m    214\u001b[0m     event \u001b[38;5;241m=\u001b[39m \u001b[38;5;28mself\u001b[39m\u001b[38;5;241m.\u001b[39m_h11_state\u001b[38;5;241m.\u001b[39mnext_event()\n\u001b[1;32m    216\u001b[0m \u001b[38;5;28;01mif\u001b[39;00m event \u001b[38;5;129;01mis\u001b[39;00m h11\u001b[38;5;241m.\u001b[39mNEED_DATA:\n\u001b[0;32m--> 217\u001b[0m     data \u001b[38;5;241m=\u001b[39m \u001b[38;5;28;43mself\u001b[39;49m\u001b[38;5;241;43m.\u001b[39;49m\u001b[43m_network_stream\u001b[49m\u001b[38;5;241;43m.\u001b[39;49m\u001b[43mread\u001b[49m\u001b[43m(\u001b[49m\n\u001b[1;32m    218\u001b[0m \u001b[43m        \u001b[49m\u001b[38;5;28;43mself\u001b[39;49m\u001b[38;5;241;43m.\u001b[39;49m\u001b[43mREAD_NUM_BYTES\u001b[49m\u001b[43m,\u001b[49m\u001b[43m \u001b[49m\u001b[43mtimeout\u001b[49m\u001b[38;5;241;43m=\u001b[39;49m\u001b[43mtimeout\u001b[49m\n\u001b[1;32m    219\u001b[0m \u001b[43m    \u001b[49m\u001b[43m)\u001b[49m\n\u001b[1;32m    221\u001b[0m     \u001b[38;5;66;03m# If we feed this case through h11 we'll raise an exception like:\u001b[39;00m\n\u001b[1;32m    222\u001b[0m     \u001b[38;5;66;03m#\u001b[39;00m\n\u001b[1;32m    223\u001b[0m     \u001b[38;5;66;03m#     httpcore.RemoteProtocolError: can't handle event type\u001b[39;00m\n\u001b[0;32m   (...)\u001b[0m\n\u001b[1;32m    227\u001b[0m     \u001b[38;5;66;03m# perspective. Instead we handle this case distinctly and treat\u001b[39;00m\n\u001b[1;32m    228\u001b[0m     \u001b[38;5;66;03m# it as a ConnectError.\u001b[39;00m\n\u001b[1;32m    229\u001b[0m     \u001b[38;5;28;01mif\u001b[39;00m data \u001b[38;5;241m==\u001b[39m \u001b[38;5;124mb\u001b[39m\u001b[38;5;124m\"\u001b[39m\u001b[38;5;124m\"\u001b[39m \u001b[38;5;129;01mand\u001b[39;00m \u001b[38;5;28mself\u001b[39m\u001b[38;5;241m.\u001b[39m_h11_state\u001b[38;5;241m.\u001b[39mtheir_state \u001b[38;5;241m==\u001b[39m h11\u001b[38;5;241m.\u001b[39mSEND_RESPONSE:\n",
      "File \u001b[0;32m~/anaconda3/envs/TUM/lib/python3.12/site-packages/httpcore/_backends/sync.py:128\u001b[0m, in \u001b[0;36mSyncStream.read\u001b[0;34m(self, max_bytes, timeout)\u001b[0m\n\u001b[1;32m    126\u001b[0m \u001b[38;5;28;01mwith\u001b[39;00m map_exceptions(exc_map):\n\u001b[1;32m    127\u001b[0m     \u001b[38;5;28mself\u001b[39m\u001b[38;5;241m.\u001b[39m_sock\u001b[38;5;241m.\u001b[39msettimeout(timeout)\n\u001b[0;32m--> 128\u001b[0m     \u001b[38;5;28;01mreturn\u001b[39;00m \u001b[38;5;28;43mself\u001b[39;49m\u001b[38;5;241;43m.\u001b[39;49m\u001b[43m_sock\u001b[49m\u001b[38;5;241;43m.\u001b[39;49m\u001b[43mrecv\u001b[49m\u001b[43m(\u001b[49m\u001b[43mmax_bytes\u001b[49m\u001b[43m)\u001b[49m\n",
      "\u001b[0;31mKeyboardInterrupt\u001b[0m: "
     ]
    }
   ],
   "source": [
    "from itertools import product\n",
    "\n",
    "summary_cols = ['summary_statistical', 'summary_trend']\n",
    "prompt_modes = ['zero-shot', 'few-shot']\n",
    "score_modes = ['binary', 'score']\n",
    "\n",
    "# Loop through all combinations\n",
    "for summary_col, prompt_mode, score_mode in product(summary_cols, prompt_modes, score_modes):\n",
    "    kwargs = {\n",
    "        'summary_df': summaries_b_small if run_efficient else summaries_b,\n",
    "        'text_col': summary_col,\n",
    "        'mode': score_mode,\n",
    "    }\n",
    "    \n",
    "    label = f\"{prompt_mode.title()} | {summary_col} | {score_mode} mode\"\n",
    "    \n",
    "    # Add few-shot parameters if needed\n",
    "    if prompt_mode == 'few-shot':\n",
    "        kwargs['few_shot'] = True\n",
    "        kwargs['df_train_for_examples'] = summaries_a\n",
    "    \n",
    "    results = evaluate_llm_predictions(**kwargs)\n",
    "    print(f\"{label} → AUROC: {results['auroc']:.3f}, AUPRC: {results['auprc']:.3f}\")"
   ]
  },
  {
   "cell_type": "markdown",
   "id": "4e8de72bc89e77f7",
   "metadata": {},
   "source": [
    "# Q4.2 Using LLs to retrieve embeddings"
   ]
  },
  {
   "cell_type": "code",
   "execution_count": 48,
   "id": "6139098cde238d2d",
   "metadata": {
    "ExecuteTime": {
     "end_time": "2025-03-30T23:50:41.786579Z",
     "start_time": "2025-03-30T14:03:23.198322Z"
    }
   },
   "outputs": [],
   "source": [
    "import numpy as np\n",
    "import pandas as pd\n",
    "from ollama import embed\n",
    "from sklearn.linear_model import LogisticRegression\n",
    "from sklearn.metrics import roc_auc_score, average_precision_score\n",
    "from sklearn.manifold import TSNE\n",
    "import matplotlib.pyplot as plt\n",
    "\n",
    "def get_embedding_ollama(text: str, model_name=llm_model):\n",
    "    \"\"\"\n",
    "    Calls the Ollama embedding API for a given string.\n",
    "    \"\"\"\n",
    "    response = embed(model=model_name, input=text)\n",
    "    return np.array(response.get(\"embeddings\", []), dtype=float)\n",
    "\n",
    "def build_embeddings(df, summary_col=\"summary_statistical\", model_name=llm_model):\n",
    "    \"\"\"\n",
    "    For each row in the DataFrame, get an embedding and corresponding label.\n",
    "    \"\"\"\n",
    "    embeddings = []\n",
    "    labels = []\n",
    "\n",
    "    for _, row in df.iterrows():\n",
    "        text = row[summary_col]\n",
    "        label = row[\"In-hospital_death\"]\n",
    "        emb = get_embedding_ollama(text, model_name=model_name)\n",
    "        embeddings.append(emb)\n",
    "        labels.append(label)\n",
    "\n",
    "    return np.vstack(embeddings), np.array(labels)\n",
    "\n",
    "def train_and_evaluate(train_X, train_y, test_X, test_y):\n",
    "    clf = LogisticRegression(max_iter=2000)\n",
    "    clf.fit(train_X, train_y)\n",
    "    probs = clf.predict_proba(test_X)[:, 1]\n",
    "\n",
    "    auroc = roc_auc_score(test_y, probs)\n",
    "    auprc = average_precision_score(test_y, probs)\n",
    "    return probs, auroc, auprc\n",
    "\n",
    "def visualize_tsne(embeddings, labels, title=\"t-SNE of Embeddings\"):\n",
    "    tsne = TSNE(n_components=2, perplexity=30, random_state=42)\n",
    "    emb_2d = tsne.fit_transform(embeddings)\n",
    "\n",
    "    plt.figure(figsize=(8,6))\n",
    "    scatter = plt.scatter(emb_2d[:,0], emb_2d[:,1], c=labels, cmap='coolwarm', alpha=0.7)\n",
    "    plt.colorbar(scatter, label=\"In-hospital Death (0/1)\")\n",
    "    plt.title(title)\n",
    "    plt.xlabel(\"TSNE-1\")\n",
    "    plt.ylabel(\"TSNE-2\")\n",
    "    plt.show()\n"
   ]
  },
  {
   "cell_type": "markdown",
   "id": "855bcc6d32a417ad",
   "metadata": {},
   "source": [
    "### LLMs embeddings with Statistical Summary"
   ]
  },
  {
   "cell_type": "code",
   "execution_count": 38,
   "id": "5ac85767a28d0584",
   "metadata": {
    "ExecuteTime": {
     "end_time": "2025-03-30T23:50:41.786579Z",
     "start_time": "2025-03-30T13:48:16.798194Z"
    }
   },
   "outputs": [],
   "source": [
    "summaries_a_small = summaries_a.sample(100, random_state = 1)"
   ]
  },
  {
   "cell_type": "markdown",
   "id": "60a671aebd5e1bb3",
   "metadata": {},
   "source": []
  },
  {
   "cell_type": "code",
   "execution_count": 49,
   "id": "92e51cedfeafddef",
   "metadata": {
    "ExecuteTime": {
     "end_time": "2025-03-30T23:50:41.786579Z",
     "start_time": "2025-03-30T14:03:27.651936Z"
    }
   },
   "outputs": [
    {
     "name": "stdout",
     "output_type": "stream",
     "text": [
      "Test AuROC: 0.7500, Test AuPRC: 0.5000\n"
     ]
    },
    {
     "ename": "ValueError",
     "evalue": "perplexity must be less than n_samples",
     "output_type": "error",
     "traceback": [
      "\u001b[1;31m---------------------------------------------------------------------------\u001b[0m",
      "\u001b[1;31mValueError\u001b[0m                                Traceback (most recent call last)",
      "Cell \u001b[1;32mIn[49], line 7\u001b[0m\n\u001b[0;32m      4\u001b[0m probs, auroc, auprc \u001b[38;5;241m=\u001b[39m train_and_evaluate(train_X, train_y, test_X, test_y)\n\u001b[0;32m      5\u001b[0m \u001b[38;5;28mprint\u001b[39m(\u001b[38;5;124mf\u001b[39m\u001b[38;5;124m\"\u001b[39m\u001b[38;5;124mTest AuROC: \u001b[39m\u001b[38;5;132;01m{\u001b[39;00mauroc\u001b[38;5;132;01m:\u001b[39;00m\u001b[38;5;124m.4f\u001b[39m\u001b[38;5;132;01m}\u001b[39;00m\u001b[38;5;124m, Test AuPRC: \u001b[39m\u001b[38;5;132;01m{\u001b[39;00mauprc\u001b[38;5;132;01m:\u001b[39;00m\u001b[38;5;124m.4f\u001b[39m\u001b[38;5;132;01m}\u001b[39;00m\u001b[38;5;124m\"\u001b[39m)\n\u001b[1;32m----> 7\u001b[0m \u001b[43mvisualize_tsne\u001b[49m\u001b[43m(\u001b[49m\u001b[43mtest_X\u001b[49m\u001b[43m,\u001b[49m\u001b[43m \u001b[49m\u001b[43mtest_y\u001b[49m\u001b[43m,\u001b[49m\u001b[43m \u001b[49m\u001b[43mtitle\u001b[49m\u001b[38;5;241;43m=\u001b[39;49m\u001b[38;5;124;43m\"\u001b[39;49m\u001b[38;5;124;43mt-SNE of deepseek-r1:1.5b Embeddings (Test Set)\u001b[39;49m\u001b[38;5;124;43m\"\u001b[39;49m\u001b[43m)\u001b[49m\n",
      "Cell \u001b[1;32mIn[48], line 43\u001b[0m, in \u001b[0;36mvisualize_tsne\u001b[1;34m(embeddings, labels, title)\u001b[0m\n\u001b[0;32m     41\u001b[0m \u001b[38;5;28;01mdef\u001b[39;00m \u001b[38;5;21mvisualize_tsne\u001b[39m(embeddings, labels, title\u001b[38;5;241m=\u001b[39m\u001b[38;5;124m\"\u001b[39m\u001b[38;5;124mt-SNE of Embeddings\u001b[39m\u001b[38;5;124m\"\u001b[39m):\n\u001b[0;32m     42\u001b[0m     tsne \u001b[38;5;241m=\u001b[39m TSNE(n_components\u001b[38;5;241m=\u001b[39m\u001b[38;5;241m2\u001b[39m, perplexity\u001b[38;5;241m=\u001b[39m\u001b[38;5;241m30\u001b[39m, random_state\u001b[38;5;241m=\u001b[39m\u001b[38;5;241m42\u001b[39m)\n\u001b[1;32m---> 43\u001b[0m     emb_2d \u001b[38;5;241m=\u001b[39m \u001b[43mtsne\u001b[49m\u001b[38;5;241;43m.\u001b[39;49m\u001b[43mfit_transform\u001b[49m\u001b[43m(\u001b[49m\u001b[43membeddings\u001b[49m\u001b[43m)\u001b[49m\n\u001b[0;32m     45\u001b[0m     plt\u001b[38;5;241m.\u001b[39mfigure(figsize\u001b[38;5;241m=\u001b[39m(\u001b[38;5;241m8\u001b[39m,\u001b[38;5;241m6\u001b[39m))\n\u001b[0;32m     46\u001b[0m     scatter \u001b[38;5;241m=\u001b[39m plt\u001b[38;5;241m.\u001b[39mscatter(emb_2d[:,\u001b[38;5;241m0\u001b[39m], emb_2d[:,\u001b[38;5;241m1\u001b[39m], c\u001b[38;5;241m=\u001b[39mlabels, cmap\u001b[38;5;241m=\u001b[39m\u001b[38;5;124m'\u001b[39m\u001b[38;5;124mcoolwarm\u001b[39m\u001b[38;5;124m'\u001b[39m, alpha\u001b[38;5;241m=\u001b[39m\u001b[38;5;241m0.7\u001b[39m)\n",
      "File \u001b[1;32m~\\PycharmProjects\\wwf\\venv\\Lib\\site-packages\\sklearn\\utils\\_set_output.py:319\u001b[0m, in \u001b[0;36m_wrap_method_output.<locals>.wrapped\u001b[1;34m(self, X, *args, **kwargs)\u001b[0m\n\u001b[0;32m    317\u001b[0m \u001b[38;5;129m@wraps\u001b[39m(f)\n\u001b[0;32m    318\u001b[0m \u001b[38;5;28;01mdef\u001b[39;00m \u001b[38;5;21mwrapped\u001b[39m(\u001b[38;5;28mself\u001b[39m, X, \u001b[38;5;241m*\u001b[39margs, \u001b[38;5;241m*\u001b[39m\u001b[38;5;241m*\u001b[39mkwargs):\n\u001b[1;32m--> 319\u001b[0m     data_to_wrap \u001b[38;5;241m=\u001b[39m \u001b[43mf\u001b[49m\u001b[43m(\u001b[49m\u001b[38;5;28;43mself\u001b[39;49m\u001b[43m,\u001b[49m\u001b[43m \u001b[49m\u001b[43mX\u001b[49m\u001b[43m,\u001b[49m\u001b[43m \u001b[49m\u001b[38;5;241;43m*\u001b[39;49m\u001b[43margs\u001b[49m\u001b[43m,\u001b[49m\u001b[43m \u001b[49m\u001b[38;5;241;43m*\u001b[39;49m\u001b[38;5;241;43m*\u001b[39;49m\u001b[43mkwargs\u001b[49m\u001b[43m)\u001b[49m\n\u001b[0;32m    320\u001b[0m     \u001b[38;5;28;01mif\u001b[39;00m \u001b[38;5;28misinstance\u001b[39m(data_to_wrap, \u001b[38;5;28mtuple\u001b[39m):\n\u001b[0;32m    321\u001b[0m         \u001b[38;5;66;03m# only wrap the first output for cross decomposition\u001b[39;00m\n\u001b[0;32m    322\u001b[0m         return_tuple \u001b[38;5;241m=\u001b[39m (\n\u001b[0;32m    323\u001b[0m             _wrap_data_with_container(method, data_to_wrap[\u001b[38;5;241m0\u001b[39m], X, \u001b[38;5;28mself\u001b[39m),\n\u001b[0;32m    324\u001b[0m             \u001b[38;5;241m*\u001b[39mdata_to_wrap[\u001b[38;5;241m1\u001b[39m:],\n\u001b[0;32m    325\u001b[0m         )\n",
      "File \u001b[1;32m~\\PycharmProjects\\wwf\\venv\\Lib\\site-packages\\sklearn\\base.py:1389\u001b[0m, in \u001b[0;36m_fit_context.<locals>.decorator.<locals>.wrapper\u001b[1;34m(estimator, *args, **kwargs)\u001b[0m\n\u001b[0;32m   1382\u001b[0m     estimator\u001b[38;5;241m.\u001b[39m_validate_params()\n\u001b[0;32m   1384\u001b[0m \u001b[38;5;28;01mwith\u001b[39;00m config_context(\n\u001b[0;32m   1385\u001b[0m     skip_parameter_validation\u001b[38;5;241m=\u001b[39m(\n\u001b[0;32m   1386\u001b[0m         prefer_skip_nested_validation \u001b[38;5;129;01mor\u001b[39;00m global_skip_validation\n\u001b[0;32m   1387\u001b[0m     )\n\u001b[0;32m   1388\u001b[0m ):\n\u001b[1;32m-> 1389\u001b[0m     \u001b[38;5;28;01mreturn\u001b[39;00m \u001b[43mfit_method\u001b[49m\u001b[43m(\u001b[49m\u001b[43mestimator\u001b[49m\u001b[43m,\u001b[49m\u001b[43m \u001b[49m\u001b[38;5;241;43m*\u001b[39;49m\u001b[43margs\u001b[49m\u001b[43m,\u001b[49m\u001b[43m \u001b[49m\u001b[38;5;241;43m*\u001b[39;49m\u001b[38;5;241;43m*\u001b[39;49m\u001b[43mkwargs\u001b[49m\u001b[43m)\u001b[49m\n",
      "File \u001b[1;32m~\\PycharmProjects\\wwf\\venv\\Lib\\site-packages\\sklearn\\manifold\\_t_sne.py:1177\u001b[0m, in \u001b[0;36mTSNE.fit_transform\u001b[1;34m(self, X, y)\u001b[0m\n\u001b[0;32m   1174\u001b[0m \u001b[38;5;28;01melse\u001b[39;00m:\n\u001b[0;32m   1175\u001b[0m     \u001b[38;5;28mself\u001b[39m\u001b[38;5;241m.\u001b[39m_max_iter \u001b[38;5;241m=\u001b[39m \u001b[38;5;28mself\u001b[39m\u001b[38;5;241m.\u001b[39mmax_iter\n\u001b[1;32m-> 1177\u001b[0m \u001b[38;5;28;43mself\u001b[39;49m\u001b[38;5;241;43m.\u001b[39;49m\u001b[43m_check_params_vs_input\u001b[49m\u001b[43m(\u001b[49m\u001b[43mX\u001b[49m\u001b[43m)\u001b[49m\n\u001b[0;32m   1178\u001b[0m embedding \u001b[38;5;241m=\u001b[39m \u001b[38;5;28mself\u001b[39m\u001b[38;5;241m.\u001b[39m_fit(X)\n\u001b[0;32m   1179\u001b[0m \u001b[38;5;28mself\u001b[39m\u001b[38;5;241m.\u001b[39membedding_ \u001b[38;5;241m=\u001b[39m embedding\n",
      "File \u001b[1;32m~\\PycharmProjects\\wwf\\venv\\Lib\\site-packages\\sklearn\\manifold\\_t_sne.py:862\u001b[0m, in \u001b[0;36mTSNE._check_params_vs_input\u001b[1;34m(self, X)\u001b[0m\n\u001b[0;32m    860\u001b[0m \u001b[38;5;28;01mdef\u001b[39;00m \u001b[38;5;21m_check_params_vs_input\u001b[39m(\u001b[38;5;28mself\u001b[39m, X):\n\u001b[0;32m    861\u001b[0m     \u001b[38;5;28;01mif\u001b[39;00m \u001b[38;5;28mself\u001b[39m\u001b[38;5;241m.\u001b[39mperplexity \u001b[38;5;241m>\u001b[39m\u001b[38;5;241m=\u001b[39m X\u001b[38;5;241m.\u001b[39mshape[\u001b[38;5;241m0\u001b[39m]:\n\u001b[1;32m--> 862\u001b[0m         \u001b[38;5;28;01mraise\u001b[39;00m \u001b[38;5;167;01mValueError\u001b[39;00m(\u001b[38;5;124m\"\u001b[39m\u001b[38;5;124mperplexity must be less than n_samples\u001b[39m\u001b[38;5;124m\"\u001b[39m)\n",
      "\u001b[1;31mValueError\u001b[0m: perplexity must be less than n_samples"
     ]
    }
   ],
   "source": [
    "if run_efficient:\n",
    "    train_X, train_y = build_embeddings(summaries_a_small, summary_col=\"summary_statistical\", model_name=llm_model)\n",
    "    test_X, test_y = build_embeddings(summaries_b_small, summary_col=\"summary_statistical\", model_name=llm_model)\n",
    "else: \n",
    "    train_X, train_y = build_embeddings(summaries_a, summary_col=\"summary_statistical\", model_name=llm_model)\n",
    "    test_X, test_y = build_embeddings(summaries_b, summary_col=\"summary_statistical\", model_name=llm_model)\n",
    "\n",
    "probs, auroc, auprc = train_and_evaluate(train_X, train_y, test_X, test_y)\n",
    "print(f\"Test AuROC: {auroc:.4f}, Test AuPRC: {auprc:.4f}\")\n",
    "\n",
    "if run_efficient:\n",
    "    visualize_tsne(train_X, train_y, title=f\"t-SNE of {llm_model} Embeddings (Test Set)\")\n",
    "else: \n",
    "    visualize_tsne(test_X, test_y, title=f\"t-SNE of {llm_model} Embeddings (Test Set)\")"
   ]
  },
  {
   "cell_type": "markdown",
   "id": "9e2e9cb55e282acf",
   "metadata": {},
   "source": [
    "### LLMs embeddings with Trend Summary"
   ]
  },
  {
   "cell_type": "code",
   "execution_count": 51,
   "id": "6ae1a99d85d09168",
   "metadata": {
    "ExecuteTime": {
     "end_time": "2025-03-30T23:50:42.262415500Z",
     "start_time": "2025-03-30T14:11:33.060315Z"
    }
   },
   "outputs": [
    {
     "name": "stdout",
     "output_type": "stream",
     "text": [
      "Test AuROC: 0.2500, Test AuPRC: 0.2500\n"
     ]
    },
    {
     "data": {
      "image/png": "[encoded data removed]",
      "text/plain": [
       "<Figure size 800x600 with 2 Axes>"
      ]
     },
     "metadata": {},
     "output_type": "display_data"
    }
   ],
   "source": [
    "if run_efficient:\n",
    "    train_X, train_y = build_embeddings(summaries_a_small, summary_col=\"summary_trend\", model_name=llm_model)\n",
    "    test_X, test_y = build_embeddings(summaries_b_small, summary_col=\"summary_trend\", model_name=llm_model)\n",
    "else: \n",
    "    train_X, train_y = build_embeddings(summaries_a, summary_col=\"summary_trend\", model_name=llm_model)\n",
    "    test_X, test_y = build_embeddings(summaries_b, summary_col=\"summary_trend\", model_name=llm_model)\n",
    "\n",
    "probs, auroc, auprc = train_and_evaluate(train_X, train_y, test_X, test_y)\n",
    "print(f\"Test AuROC: {auroc:.4f}, Test AuPRC: {auprc:.4f}\")\n",
    "\n",
    "\n",
    "if run_efficient:\n",
    "    visualize_tsne(train_X, train_y, title=f\"t-SNE of {llm_model} Embeddings (Test Set)\")\n",
    "else: \n",
    "    visualize_tsne(test_X, test_y, title=f\"t-SNE of {llm_model} Embeddings (Test Set)\")\n"
   ]
  },
  {
   "cell_type": "markdown",
   "id": "664018ffea9814f3",
   "metadata": {},
   "source": [
    "# Q4.3 Using time-series foundation models"
   ]
  },
  {
   "cell_type": "markdown",
   "id": "3f857ac3d9e4b2c6",
   "metadata": {},
   "source": [
    "Generate small datasets for testing"
   ]
  },
  {
   "cell_type": "code",
   "execution_count": 55,
   "id": "de8bb9d719e64cad",
   "metadata": {
    "ExecuteTime": {
     "end_time": "2025-03-30T23:50:42.442425100Z",
     "start_time": "2025-03-30T14:44:46.137226Z"
    }
   },
   "outputs": [],
   "source": [
    "np.random.seed(1)\n",
    "\n",
    "a_ids_small = np.random.choice(df_a['RecordID'].unique(), size=100, replace=False)\n",
    "df_a_small = df_a[df_a['RecordID'].isin(a_ids_small)]\n",
    "\n",
    "b_ids_small = np.random.choice(df_b['RecordID'].unique(), size=10, replace=False)\n",
    "df_b_small = df_b[df_b['RecordID'].isin(b_ids_small)]"
   ]
  },
  {
   "cell_type": "code",
   "execution_count": 97,
   "id": "6fa268502a2e4cd7",
   "metadata": {
    "ExecuteTime": {
     "end_time": "2025-03-30T23:50:42.452131900Z",
     "start_time": "2025-03-30T20:40:09.194547Z"
    }
   },
   "outputs": [],
   "source": [
    "\n",
    "import torch\n",
    "import torch.nn as nn\n",
    "import numpy as np\n",
    "import pandas as pd\n",
    "from sklearn.linear_model import LogisticRegression\n",
    "from sklearn.metrics import roc_auc_score, average_precision_score\n",
    "\n",
    "import pandas as pd\n",
    "import torch\n",
    "from chronos import ChronosPipeline\n",
    "\n",
    "pipeline = ChronosPipeline.from_pretrained(\n",
    "    \"amazon/chronos-t5-small\",\n",
    "    device_map=device_map,\n",
    "    torch_dtype=torch.float32,\n",
    ")\n",
    "\n",
    "def get_univariate_embedding(pipeline, single_var_series):\n",
    "    \"\"\"\n",
    "    Given a single univariate time series (1D array), return its Chronos embedding.\n",
    "    \"\"\"\n",
    "    if not isinstance(single_var_series, torch.Tensor):\n",
    "        series_tensor = torch.tensor(single_var_series, dtype=torch.float32)\n",
    "    else:\n",
    "        series_tensor = single_var_series.float()\n",
    "    # Chronos supports single 1D tensors directly\n",
    "    with torch.no_grad():\n",
    "        embedding, _ = pipeline.embed(series_tensor)\n",
    "        \n",
    "    if embedding.ndim == 3: # bc of batch logic it returns embedding as torch.Size([1, 49, 512]) \n",
    "        embedding = embedding.squeeze(0)\n",
    "    return embedding.mean(dim=0) # Average pooling\n",
    "\n",
    "def compute_patient_embedding_naive(pipeline, multivar_data, variables):\n",
    "    \"\"\"\n",
    "    Given a dictionary of { variable_name: 1D time series } for a patient,\n",
    "    compute the average embedding across variables.\n",
    "    \"\"\"\n",
    "    embeddings = []\n",
    "\n",
    "    for var_name, series in multivar_data.items():\n",
    "        if var_name in variables:\n",
    "            if len(series) == 0:\n",
    "                continue\n",
    "            emb = get_univariate_embedding(pipeline, series)\n",
    "            embeddings.append(emb)\n",
    "\n",
    "    if not embeddings:\n",
    "        return torch.zeros(512)  # or whatever the embedding dim is\n",
    "\n",
    "    return torch.stack(embeddings, dim=0).mean(dim=0)  # shape: [embedding_dim]\n",
    "\n",
    "def build_patient_embeddings_naive(pipeline, df_timeseries, df_labels, variables):\n",
    "    \"\"\"\n",
    "    Builds Chronos embeddings per patient using naive variable-wise averaging.\n",
    "\n",
    "    Args:\n",
    "        pipeline: ChronosPipeline instance\n",
    "        df_timeseries: long-form time series DataFrame with columns:\n",
    "                       ['RecordID', 'Time', var1, var2, ...]\n",
    "        df_labels: DataFrame with columns ['RecordID', 'In-hospital_death']\n",
    "        variables: list of variable names to embed (e.g., ['HeartRate', 'WBC'])\n",
    "\n",
    "    Returns:\n",
    "        X: numpy array of shape [num_patients, embedding_dim]\n",
    "        y: numpy array of shape [num_patients]\n",
    "    \"\"\"\n",
    "    X_list = []\n",
    "    y_list = []\n",
    "\n",
    "    for rid, group in df_timeseries.groupby(\"RecordID\"):\n",
    "        patient_data = {}\n",
    "\n",
    "        for var in variables:\n",
    "            if var in group.columns:\n",
    "                series = group[var].dropna().values\n",
    "                if len(series) > 0:\n",
    "                    patient_data[var] = series\n",
    "\n",
    "        if not patient_data:\n",
    "            continue  # skip if no valid data\n",
    "\n",
    "        emb = compute_patient_embedding_naive(pipeline, patient_data, variables)\n",
    "        X_list.append(emb.cpu().numpy())\n",
    "\n",
    "        # Lookup label\n",
    "        label_row = df_labels[df_labels['RecordID'] == rid]\n",
    "        if not label_row.empty:\n",
    "            y_list.append(label_row['In-hospital_death'].values[0])\n",
    "        else:\n",
    "            continue  # skip if label missing\n",
    "\n",
    "    return np.vstack(X_list), np.array(y_list)\n",
    "\n",
    "\n",
    "# 1) Single Embedding + Linear Probe\n",
    "list_of_variables = ['Gender', 'Height', 'Weight', 'Age', 'Albumin',\n",
    "       'Cholesterol', 'DiasABP', 'HCO3', 'HCT', 'HR', 'Mg', 'MAP', 'Na',\n",
    "       'NIDiasABP', 'NIMAP', 'NISysABP', 'SysABP', 'PaCO2', 'PaO2',\n",
    "       'Platelets', 'RespRate', 'Temp', 'ALP', 'ALT', 'AST', 'BUN',\n",
    "       'Bilirubin', 'Creatinine', 'FiO2', 'GCS', 'Glucose', 'K', 'Lactate',\n",
    "       'MechVent', 'Urine', 'WBC', 'pH', 'SaO2', 'TroponinT', 'TroponinI']"
   ]
  },
  {
   "cell_type": "code",
   "execution_count": 85,
   "id": "d4d276089503a95a",
   "metadata": {
    "ExecuteTime": {
     "end_time": "2025-03-30T23:50:42.453676300Z",
     "start_time": "2025-03-30T20:06:55.297805Z"
    }
   },
   "outputs": [
    {
     "name": "stdout",
     "output_type": "stream",
     "text": [
      "[Naive Aggregation] AuROC=0.2222, AuPRC=0.1250\n"
     ]
    }
   ],
   "source": [
    "if run_efficient:\n",
    "    train_X, train_y = build_patient_embeddings_naive(pipeline, df_a_small, death_a,list_of_variables)\n",
    "    test_X, test_y = build_patient_embeddings_naive(pipeline, df_b_small, death_b, list_of_variables)\n",
    "else: \n",
    "    train_X, train_y = build_patient_embeddings_naive(pipeline, df_a, death_a,list_of_variables)\n",
    "    test_X, test_y = build_patient_embeddings_naive(pipeline, df_b, death_b, list_of_variables)\n",
    "\n",
    "clf = LogisticRegression(max_iter=2000)\n",
    "clf.fit(train_X, train_y)\n",
    "probs = clf.predict_proba(test_X)[:,1]\n",
    "auroc = roc_auc_score(test_y, probs)\n",
    "auprc = average_precision_score(test_y, probs)\n",
    "print(f\"[Naive Aggregation] AuROC={auroc:.4f}, AuPRC={auprc:.4f}\")"
   ]
  },
  {
   "cell_type": "markdown",
   "id": "4b8d6665bb8d3802",
   "metadata": {},
   "source": [
    "Test the embedding function"
   ]
  },
  {
   "cell_type": "code",
   "execution_count": 87,
   "id": "f744f3862b469963",
   "metadata": {
    "ExecuteTime": {
     "end_time": "2025-03-30T23:50:42.453676300Z",
     "start_time": "2025-03-30T20:10:24.565583Z"
    }
   },
   "outputs": [
    {
     "data": {
      "text/plain": [
       "tensor([ 6.2863e-03, -6.9359e-03, -1.1306e-02, -6.0960e-05,  1.2464e-03,\n",
       "         1.7797e-02,  3.4016e-03, -1.7304e-04,  8.7110e-03,  1.1644e-02,\n",
       "        -1.1688e-02,  3.5049e-04,  5.0930e-03,  2.4649e-02, -3.0244e-03,\n",
       "         2.8006e-02, -1.0064e-03, -1.7505e-03, -1.3899e-02, -6.2786e-03,\n",
       "         1.1795e-03, -1.6851e-03,  2.1044e-03, -2.4664e-04, -2.4498e-03,\n",
       "        -1.7912e-02,  6.8167e-03, -8.9116e-03, -1.4047e-02,  9.1582e-03,\n",
       "         4.4931e-03, -2.6757e-03, -3.4390e-03, -9.6843e-04,  7.9745e-03,\n",
       "         1.8741e-02,  1.1068e-02, -6.8100e-03,  7.0846e-03, -3.6803e-03,\n",
       "         3.5000e-03, -1.2460e-03,  2.1949e-02, -2.1702e-03,  9.5594e-03,\n",
       "         3.3947e-03,  2.1018e-02,  1.6352e-02,  9.4031e-03,  1.6454e-03,\n",
       "         6.6717e-03, -6.2046e-03,  1.6296e-02, -2.0432e-03,  1.3001e-03,\n",
       "         7.6089e-04, -2.1397e-02, -4.6681e-03,  1.2023e-02, -5.3628e-04,\n",
       "         2.4141e-02, -2.3383e-02, -1.2237e-03,  1.6337e-02, -4.8070e-04,\n",
       "         1.3316e-02,  5.6230e-03,  4.0628e-03, -5.6568e-03,  4.9977e-03,\n",
       "        -1.4994e-02,  7.9251e-03, -2.1353e-02,  2.9500e-03,  1.3133e-02,\n",
       "        -9.1517e-03, -4.0662e-03,  1.2836e-03, -4.3159e-03, -2.5528e-04,\n",
       "        -5.4906e-03,  9.7281e-03,  8.3012e-03,  1.8957e-02,  2.6427e-02,\n",
       "         1.6970e-02, -1.2136e-02, -1.7072e-02,  1.7015e-02,  1.0261e-02,\n",
       "         7.8332e-03, -1.6333e-02,  7.8004e-03,  1.2627e-02, -3.2193e-02,\n",
       "         9.9030e-03,  1.4023e-02,  5.9593e-03, -1.4039e-03, -2.4046e-02,\n",
       "         1.2456e-02,  6.3577e-03, -2.2172e-02,  3.1781e-03, -5.9248e-03,\n",
       "        -4.6799e-03, -4.4266e-03, -8.6316e-03, -5.2863e-03,  6.5173e-03,\n",
       "        -1.5765e-02,  9.0329e-03, -1.2471e-03, -8.4303e-03, -4.2943e-03,\n",
       "         5.7134e-03,  1.8387e-02,  4.3235e-03, -7.8855e-04, -4.6178e-03,\n",
       "         3.3504e-03,  1.3867e-03, -2.5833e-04,  3.1469e-02,  1.5899e-02,\n",
       "         3.2141e-02, -4.7030e-02,  1.4106e-02,  2.0353e-02, -4.1161e-03,\n",
       "         9.4154e-03,  1.2172e-02,  9.0758e-04, -3.6963e-03, -2.1607e-03,\n",
       "         6.4812e-03,  3.4423e-03, -4.3943e-03, -3.4516e-03, -8.3970e-03,\n",
       "         2.4994e-02,  3.8976e-03,  7.2491e-03, -2.4533e-02, -8.6207e-03,\n",
       "        -2.7830e-02,  9.1620e-03, -1.7376e-02,  4.6627e-03, -1.6902e-02,\n",
       "        -1.3222e-02, -8.2556e-03,  3.4486e-03,  1.4496e-03,  2.7704e-03,\n",
       "        -1.8152e-03,  1.1171e-03,  1.3220e-02,  3.7102e-03,  5.4535e-03,\n",
       "        -1.3840e-02, -1.4283e-02,  1.2615e-02,  2.0585e-04, -1.3654e-02,\n",
       "         1.4197e-03,  1.1362e-02,  7.1567e-03, -1.2891e-02,  1.0351e-02,\n",
       "         6.7451e-03,  6.2652e-03,  3.6287e-02,  2.6691e-02, -1.5033e-02,\n",
       "         2.7418e-03,  6.4234e-03, -1.6238e-02,  1.0085e-02, -1.4204e-03,\n",
       "         7.6926e-03, -1.4123e-02, -1.7858e-02,  6.7866e-03,  5.4252e-03,\n",
       "        -1.0676e-02, -2.0556e-02, -3.8781e-03,  2.8267e-03, -1.2248e-02,\n",
       "         6.3737e-04, -1.3648e-02, -7.1412e-03, -7.0737e-03,  5.5165e-03,\n",
       "        -1.4709e-02, -1.9054e-03,  4.4874e-03,  9.7303e-03,  4.8484e-03,\n",
       "        -1.0582e-02,  9.1626e-03, -2.2231e-02,  5.5789e-03, -2.8445e-02,\n",
       "        -1.5210e-02, -1.1273e-02, -2.6435e-02, -6.7516e-03,  1.1135e-02,\n",
       "         1.6768e-02,  1.7945e-02,  5.3222e-03, -1.0675e-02,  2.0333e-02,\n",
       "        -1.0395e-02,  5.5944e-04, -1.2140e-02, -5.7576e-04, -4.3212e-03,\n",
       "         4.5974e-03,  2.3919e-02,  7.9490e-03, -2.4953e-03, -1.3389e-02,\n",
       "        -1.8521e-02, -9.6175e-03, -1.3962e-02,  3.9706e-03,  2.8369e-03,\n",
       "         1.2160e-02,  9.8274e-03, -7.3933e-03,  2.5935e-02, -3.0052e-03,\n",
       "        -6.4520e-03, -3.9944e-03, -6.7256e-03,  1.5493e-02,  2.1411e-03,\n",
       "        -1.2093e-03,  1.8161e-02, -5.2721e-03, -1.8823e-02,  3.5466e-03,\n",
       "         2.5321e-03,  2.0995e-02,  1.4275e-03,  7.2736e-03,  3.4946e-04,\n",
       "         5.4236e-03,  7.3888e-03,  4.5767e-05,  1.2341e-02,  4.8354e-03,\n",
       "         4.2626e-02,  1.4431e-03, -6.8739e-03,  9.0401e-03, -5.0188e-04,\n",
       "         2.2858e-02,  7.9407e-03,  3.7777e-03, -2.1060e-02,  4.8316e-03,\n",
       "        -8.2154e-04,  1.5267e-03,  6.9738e-04,  3.9740e-06,  3.0172e-02,\n",
       "        -9.1525e-03,  2.5587e-02,  2.1598e-03,  1.1191e-02, -1.1598e-02,\n",
       "        -4.1004e-03, -2.3947e-03, -3.1257e-03,  1.0321e-02,  1.1345e-03,\n",
       "        -3.8620e-04, -9.3403e-03, -1.0996e-02, -2.3723e-02,  7.2524e-03,\n",
       "        -8.1056e-03, -7.8642e-03,  1.5345e-06,  1.6333e-02,  9.8135e-03,\n",
       "         4.8110e-03, -7.6737e-03, -1.3157e-02, -1.7859e-02, -3.1898e-03,\n",
       "        -1.2021e-02, -4.8373e-03, -5.8482e-03,  1.0960e-03, -1.4496e-03,\n",
       "         1.6538e-02, -1.3162e-02, -5.7692e-03,  9.9527e-04,  3.7196e-03,\n",
       "        -1.6302e-02,  3.4905e-03,  2.0852e-02, -1.5888e-03,  3.5525e-02,\n",
       "         1.1100e-02,  2.4952e-02,  2.1843e-02, -7.4578e-03,  1.2158e-03,\n",
       "         1.2122e-02, -7.6369e-03, -2.1155e-03,  9.3767e-03, -3.4780e-04,\n",
       "        -9.6593e-03,  1.3177e-04,  1.3255e-02, -8.8842e-03, -3.5678e-03,\n",
       "         2.9682e-02, -1.0575e-02,  1.1634e-02, -3.8203e-03,  3.2116e-04,\n",
       "        -1.3087e-02,  9.9525e-03,  1.6569e-02,  3.2282e-03, -6.2452e-03,\n",
       "         7.7042e-03,  2.7644e-02,  3.5151e-03, -1.3521e-02, -1.3479e-02,\n",
       "         7.1993e-03, -3.2325e-03, -5.3333e-04, -1.9540e-03,  1.2209e-02,\n",
       "        -1.0289e-02, -5.9785e-02,  9.0666e-03,  8.3216e-03, -1.0720e-02,\n",
       "        -3.7709e-03,  1.0153e-02,  8.7001e-04, -2.4170e-02,  2.8099e-02,\n",
       "        -1.5556e-02,  1.5691e-02, -1.5106e-02, -1.0865e-02, -3.4242e-03,\n",
       "         7.6390e-03, -9.6313e-04,  4.7377e-03, -1.0501e-02,  6.7441e-03,\n",
       "        -4.0383e-03, -1.8590e-02, -2.2790e-03,  1.8122e-02,  3.5965e-03,\n",
       "         7.9001e-03,  1.6406e-02,  6.1632e-03, -7.7330e-04, -1.2275e-02,\n",
       "        -5.0446e-03,  2.3654e-03,  2.6409e-03,  1.8085e-02,  5.2880e-03,\n",
       "        -2.0364e-02, -7.9327e-03,  5.7998e-03,  2.0431e-03,  2.6060e-02,\n",
       "        -3.1387e-03, -1.6461e-02, -3.4900e-03, -2.6230e-04, -6.3962e-03,\n",
       "        -2.1460e-02, -9.1323e-03, -2.2215e-02,  3.2202e-03,  1.8840e-02,\n",
       "        -1.7461e-04,  1.8760e-02,  1.9843e-02, -6.7869e-03, -5.5606e-04,\n",
       "        -1.1149e-02,  6.9870e-03,  1.2676e-02, -2.2862e-02,  3.6372e-03,\n",
       "        -3.6362e-03,  1.5783e-02,  2.8159e-03, -8.7887e-03, -2.5188e-03,\n",
       "         6.2831e-03, -3.2590e-04, -3.7920e-03,  1.4645e-02,  2.0176e-02,\n",
       "         1.7696e-02,  1.5131e-02,  7.6738e-03,  9.6421e-03, -1.6952e-03,\n",
       "        -2.7631e-02, -1.0825e-02, -8.9899e-04,  1.0996e-02, -1.1466e-02,\n",
       "        -1.6273e-02,  7.5898e-04,  4.1601e-03, -8.0160e-03,  3.0762e-02,\n",
       "         3.6076e-02, -1.8026e-02, -7.2052e-03, -1.3894e-02, -5.0647e-03,\n",
       "         3.5264e-03, -1.4737e-02, -7.9158e-03, -3.8532e-02, -7.9582e-03,\n",
       "        -1.0313e-03, -1.3876e-02, -3.7453e-03, -2.9316e-03,  1.3595e-02,\n",
       "        -1.1537e-02,  1.0178e-02, -7.0496e-03, -1.4954e-02, -8.3904e-03,\n",
       "        -2.3275e-03,  1.3883e-02,  4.7333e-03, -1.8725e-02,  2.0510e-03,\n",
       "        -4.0972e-03, -2.0656e-03, -6.0829e-03,  1.1389e-02,  8.2205e-03,\n",
       "         1.8371e-02,  5.6999e-03,  1.2392e-02,  2.1071e-02, -2.8524e-02,\n",
       "         6.2916e-03, -2.1482e-03,  8.8339e-03,  1.3217e-02, -2.2923e-02,\n",
       "         1.2221e-02,  2.9118e-02,  4.3810e-03,  1.9178e-02, -1.6262e-02,\n",
       "         4.5428e-03,  7.5348e-03,  4.2794e-03, -6.6185e-03, -1.0524e-02,\n",
       "         1.6317e-02,  1.4953e-02,  2.4646e-03, -1.2134e-02, -2.2786e-02,\n",
       "        -1.0484e-02, -6.7740e-03,  3.0733e-02,  8.5350e-03,  1.9139e-02,\n",
       "         1.6397e-02, -8.9924e-03,  1.8277e-02, -2.3201e-03, -7.5965e-03,\n",
       "         3.8581e-04,  3.0716e-03,  3.8897e-03,  8.6386e-03, -3.1589e-02,\n",
       "         9.1375e-03, -3.9150e-05,  2.8052e-02, -7.0792e-03,  7.3530e-03,\n",
       "        -5.6972e-03, -1.4041e-02,  6.8737e-03, -1.5806e-02, -2.3090e-03,\n",
       "         4.4000e-03,  1.9838e-03])"
      ]
     },
     "execution_count": 87,
     "metadata": {},
     "output_type": "execute_result"
    }
   ],
   "source": [
    "first_id = df_a['RecordID'].unique()[0]\n",
    "patient_df = df_a[df_a['RecordID'] == first_id]\n",
    "multivar_data = {\n",
    "    var: patient_df[var].dropna().values\n",
    "    for var in list_of_variables\n",
    "    if var in patient_df.columns\n",
    "}\n",
    "\n",
    "embedding = compute_patient_embedding_naive(pipeline, multivar_data, list_of_variables)\n",
    "embedding"
   ]
  },
  {
   "cell_type": "markdown",
   "id": "ab490a84efe768c0",
   "metadata": {},
   "source": [
    "Making a smarter aggregation: \n",
    "Instead of simply averaging embeddings across variables, we can:\n",
    "\n",
    "Compute an embedding for each variable.\n",
    "\n",
    "Feed all variable embeddings into a small MLP that outputs a patient-level embedding.\n",
    "\n",
    "Then, either attach a logistic head for classification or just produce a final embedding for a standard logistic regression."
   ]
  },
  {
   "cell_type": "code",
   "execution_count": 98,
   "id": "1ac39c3348377844",
   "metadata": {
    "ExecuteTime": {
     "end_time": "2025-03-30T23:50:42.453676300Z",
     "start_time": "2025-03-30T20:40:20.371716Z"
    }
   },
   "outputs": [],
   "source": [
    "\n",
    "########################################\n",
    "# 2) Simple Neural Aggregator Approach #\n",
    "########################################\n",
    "\n",
    "class ChannelAggregator(nn.Module):\n",
    "    def __init__(self,num_vars, embed_dim=512, hidden_dim=64, out_dim=1):\n",
    "        super().__init__()\n",
    "        self.mlp = nn.Sequential(\n",
    "            nn.Flatten(),\n",
    "            nn.Linear(embed_dim * num_vars, hidden_dim),\n",
    "            nn.ReLU(),\n",
    "            nn.Linear(hidden_dim, out_dim)\n",
    "        )\n",
    "    \n",
    "    def forward(self, x):\n",
    "        return self.mlp(x)\n",
    "\n",
    "def build_multivar_embeddings(pipeline, patient_df, variables):\n",
    "    \"\"\"\n",
    "    Takes a single patient’s time series (dataframe) and computes a stacked tensor of embeddings.\n",
    "    Returns: torch.Tensor of shape [num_vars, embed_dim]\n",
    "    \"\"\"\n",
    "    embeddings = []\n",
    "    for var in variables:\n",
    "        if var in patient_df.columns:\n",
    "            series = patient_df[var].dropna().values\n",
    "            if len(series) == 0:\n",
    "                continue\n",
    "            with torch.no_grad():\n",
    "                emb, _ = pipeline.embed(torch.tensor(series, dtype=torch.float32))\n",
    "                if emb.ndim == 3:\n",
    "                    emb = emb.squeeze(0)\n",
    "                emb = emb.mean(dim=0)  # [D]\n",
    "                embeddings.append(emb.unsqueeze(0))  # [1, D]\n",
    "\n",
    "    if not embeddings:\n",
    "        return torch.zeros((1, 512))  # fallback for no valid data\n",
    "    return torch.cat(embeddings, dim=0)  # [num_vars, D]\n",
    "\n",
    "\n",
    "def train_aggregator_from_raw(pipeline, aggregator, df_timeseries, df_labels, variables, epochs=5, lr=1e-3, device='cpu'):\n",
    "    aggregator.to(device)\n",
    "    optimizer = torch.optim.Adam(aggregator.parameters(), lr=lr)\n",
    "    criterion = nn.BCEWithLogitsLoss()\n",
    "\n",
    "    X_list, y_list = [], []\n",
    "    for rid, group in df_timeseries.groupby(\"RecordID\"):\n",
    "        emb_stack = build_multivar_embeddings(pipeline, group, variables)\n",
    "        if emb_stack.shape[0] < 1:\n",
    "            continue  # skip patients with no valid data\n",
    "\n",
    "        label_row = df_labels[df_labels[\"RecordID\"] == rid]\n",
    "        if label_row.empty:\n",
    "            continue\n",
    "        label = label_row[\"In-hospital_death\"].values[0]\n",
    "\n",
    "        X_list.append(emb_stack.unsqueeze(0))  # [1, num_vars, D]\n",
    "        y_list.append(label)\n",
    "\n",
    "    X_tensor = torch.cat(X_list, dim=0).float().to(device)  # [batch, num_vars, D]\n",
    "    y_tensor = torch.tensor(y_list, dtype=torch.float32).unsqueeze(-1).to(device)  # [batch, 1]\n",
    "\n",
    "    for epoch in range(epochs):\n",
    "        aggregator.train()\n",
    "        optimizer.zero_grad()\n",
    "        logits = aggregator(X_tensor)\n",
    "        loss = criterion(logits, y_tensor)\n",
    "        loss.backward()\n",
    "        optimizer.step()\n",
    "        print(f\"Epoch {epoch+1}/{epochs}, Loss={loss.item():.4f}\")\n",
    "\n",
    "    return aggregator\n",
    "\n",
    "\n",
    "def evaluate_aggregator_from_raw(pipeline, aggregator, df_timeseries, df_labels, variables, device='cpu'):\n",
    "    aggregator.eval()\n",
    "    all_logits = []\n",
    "    all_labels = []\n",
    "\n",
    "    with torch.no_grad():\n",
    "        for rid, group in df_timeseries.groupby(\"RecordID\"):\n",
    "            emb_stack = build_multivar_embeddings(pipeline, group, variables)\n",
    "            if emb_stack.shape[0] < 1:\n",
    "                continue\n",
    "\n",
    "            label_row = df_labels[df_labels[\"RecordID\"] == rid]\n",
    "            if label_row.empty:\n",
    "                continue\n",
    "            label = label_row[\"In-hospital_death\"].values[0]\n",
    "\n",
    "            logit = aggregator(emb_stack.unsqueeze(0).to(device))  # [1, 1]\n",
    "            all_logits.append(logit.item())\n",
    "            all_labels.append(label)\n",
    "\n",
    "    all_logits = np.array(all_logits)\n",
    "    all_labels = np.array(all_labels)\n",
    "    probs = 1 / (1 + np.exp(-all_logits))\n",
    "\n",
    "    auroc = roc_auc_score(all_labels, probs)\n",
    "    auprc = average_precision_score(all_labels, probs)\n",
    "    return auroc, auprc"
   ]
  },
  {
   "cell_type": "code",
   "execution_count": 99,
   "id": "bafd9167f2146cdd",
   "metadata": {
    "ExecuteTime": {
     "end_time": "2025-03-30T23:50:42.453676300Z",
     "start_time": "2025-03-30T20:40:23.415155Z"
    }
   },
   "outputs": [
    {
     "name": "stdout",
     "output_type": "stream",
     "text": [
      "Epoch 1/5, Loss=0.7198\n",
      "Epoch 2/5, Loss=0.5807\n",
      "Epoch 3/5, Loss=0.5012\n",
      "Epoch 4/5, Loss=0.4697\n",
      "Epoch 5/5, Loss=0.4700\n",
      "[Neural Aggregator] AuROC=0.1111, AuPRC=0.1111\n"
     ]
    }
   ],
   "source": [
    "# Create model\n",
    "aggregator = ChannelAggregator(num_vars=len(list_of_variables) , embed_dim=512, hidden_dim=64, out_dim=1)\n",
    "\n",
    "# Train\n",
    "aggregator = train_aggregator_from_raw(\n",
    "    pipeline=pipeline,\n",
    "    aggregator=aggregator,\n",
    "    df_timeseries=df_a_small if run_efficient else df_a,\n",
    "    df_labels=death_a,\n",
    "    variables=list_of_variables,\n",
    "    epochs=5,\n",
    "    lr=1e-3,\n",
    "    device=device_map\n",
    ")\n",
    "\n",
    "# Evaluate\n",
    "auroc, auprc = evaluate_aggregator_from_raw(\n",
    "    pipeline=pipeline,\n",
    "    aggregator=aggregator,\n",
    "    df_timeseries=df_b_small if run_efficient else df_b,\n",
    "    df_labels=death_b,\n",
    "    variables=list_of_variables,\n",
    "    device=device_map\n",
    ")\n",
    "\n",
    "print(f\"[Neural Aggregator] AuROC={auroc:.4f}, AuPRC={auprc:.4f}\")\n"
   ]
  }
 ],
 "metadata": {
  "kernelspec": {
   "display_name": "TUM",
   "language": "python",
   "name": "python3"
  },
  "language_info": {
   "codemirror_mode": {
    "name": "ipython",
    "version": 3
   },
   "file_extension": ".py",
   "mimetype": "text/x-python",
   "name": "python",
   "nbconvert_exporter": "python",
   "pygments_lexer": "ipython3",
   "version": "3.12.3"
  }
 },
 "nbformat": 4,
 "nbformat_minor": 5
}
