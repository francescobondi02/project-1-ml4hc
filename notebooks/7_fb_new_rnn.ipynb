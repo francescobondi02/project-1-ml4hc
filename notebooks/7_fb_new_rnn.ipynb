{
 "cells": [
  {
   "cell_type": "markdown",
   "metadata": {},
   "source": [
    "# Experiment 1 - Scale everything with Min Max"
   ]
  },
  {
   "cell_type": "code",
   "execution_count": 1,
   "metadata": {},
   "outputs": [
    {
     "name": "stderr",
     "output_type": "stream",
     "text": [
      "\u001b[32m2025-03-26 20:19:58.791\u001b[0m | \u001b[1mINFO    \u001b[0m | \u001b[36mproject_1.config\u001b[0m:\u001b[36m<module>\u001b[0m:\u001b[36m11\u001b[0m - \u001b[1mPROJ_ROOT path is: /Users/francescobondi/Desktop/stuff/ETH/FS25/ML for Healthcare/project-1-ml4hc\u001b[0m\n"
     ]
    },
    {
     "data": {
      "text/plain": [
       "<torch._C.Generator at 0x14388bcf0>"
      ]
     },
     "execution_count": 1,
     "metadata": {},
     "output_type": "execute_result"
    }
   ],
   "source": [
    "from project_1.config import PROJ_ROOT, PROCESSED_DATA_DIR\n",
    "from project_1.loading import *\n",
    "from project_1.features import *\n",
    "from project_1.dataset import *\n",
    "\n",
    "import torch\n",
    "import torch.nn as nn\n",
    "torch.manual_seed(42)\n"
   ]
  },
  {
   "cell_type": "code",
   "execution_count": 2,
   "metadata": {},
   "outputs": [
    {
     "name": "stdout",
     "output_type": "stream",
     "text": [
      "Shapes of the datasets:\n",
      "Set A: (183416, 43) Set B: (183495, 43) Set C: (183711, 43)\n"
     ]
    }
   ],
   "source": [
    "set_a, set_b, set_c = load_before_scaling()"
   ]
  },
  {
   "cell_type": "code",
   "execution_count": 3,
   "metadata": {},
   "outputs": [],
   "source": [
    "# Scale using basic scaling\n",
    "set_a_scaled, set_b_scaled, set_c_scaled = scale_features_basic(set_a, set_b, set_c)\n",
    "\n",
    "# Remove the ICUType feature\n",
    "set_a_scaled = set_a_scaled.drop(columns=['ICUType'])\n",
    "set_b_scaled = set_b_scaled.drop(columns=['ICUType'])\n",
    "set_c_scaled = set_c_scaled.drop(columns=['ICUType'])"
   ]
  },
  {
   "cell_type": "code",
   "execution_count": 4,
   "metadata": {},
   "outputs": [
    {
     "name": "stdout",
     "output_type": "stream",
     "text": [
      "Shapes of labels:\n",
      "Set A: (4000, 2) Set B: (4000, 2) Set C: (4000, 2)\n"
     ]
    }
   ],
   "source": [
    "# Load outcomes\n",
    "death_a, death_b, death_c = load_outcomes()"
   ]
  },
  {
   "cell_type": "code",
   "execution_count": 5,
   "metadata": {},
   "outputs": [
    {
     "data": {
      "text/plain": [
       "torch.Size([4000, 49, 40])"
      ]
     },
     "execution_count": 5,
     "metadata": {},
     "output_type": "execute_result"
    }
   ],
   "source": [
    "train_dataset = create_dataset_from_timeseries(set_a_scaled, death_a[\"In-hospital_death\"])\n",
    "validation_dataset = create_dataset_from_timeseries(set_b_scaled, death_b[\"In-hospital_death\"])\n",
    "test_dataset = create_dataset_from_timeseries(set_c_scaled, death_c[\"In-hospital_death\"])\n",
    "\n",
    "train_dataset.tensors[0].shape # (batch_size, seq_len, input_size)"
   ]
  },
  {
   "cell_type": "code",
   "execution_count": 6,
   "metadata": {},
   "outputs": [],
   "source": [
    "# Convert to DataLoader\n",
    "from torch.utils.data import DataLoader\n",
    "train_loader = DataLoader(train_dataset, batch_size=64, shuffle=True)\n",
    "validation_loader = DataLoader(validation_dataset, batch_size=64, shuffle=False)\n",
    "test_loader = DataLoader(test_dataset, batch_size=64, shuffle=False)"
   ]
  },
  {
   "cell_type": "markdown",
   "metadata": {},
   "source": [
    "# Try directly with LSTM"
   ]
  },
  {
   "cell_type": "code",
   "execution_count": null,
   "metadata": {},
   "outputs": [],
   "source": [
    "class LSTM_Model(nn.Module):\n",
    "    def __init__(self, input_size, hidden_size=64, num_layers=2, num_classes=1, dropout=0.3):\n",
    "        super(LSTM_Model, self).__init__()\n",
    "        self.lstm = nn.LSTM(\n",
    "            input_size=input_size,       # 41 features per time step\n",
    "            hidden_size=hidden_size,\n",
    "            num_layers=num_layers,\n",
    "            batch_first=True,\n",
    "            dropout=dropout\n",
    "        )\n",
    "        self.fc = nn.Linear(hidden_size, num_classes)\n",
    "\n",
    "    def forward(self, x):\n",
    "        # x: (batch_size, seq_len, input_size)\n",
    "        out, _ = self.lstm(x)           # out: (batch_size, seq_len, hidden_size)\n",
    "        out = out[:, -1, :]             # Take last time step: (batch_size, hidden_size)\n",
    "        out = self.fc(out)              # (batch_size, num_classes)\n",
    "        return out.squeeze()            # (batch_size,) for BCEWithLogitsLoss"
   ]
  },
  {
   "cell_type": "markdown",
   "metadata": {},
   "source": [
    "# Train loop"
   ]
  },
  {
   "cell_type": "code",
   "execution_count": 8,
   "metadata": {},
   "outputs": [
    {
     "name": "stderr",
     "output_type": "stream",
     "text": [
      "/Users/francescobondi/anaconda3/envs/TUM/lib/python3.12/site-packages/tqdm/auto.py:21: TqdmWarning: IProgress not found. Please update jupyter and ipywidgets. See https://ipywidgets.readthedocs.io/en/stable/user_install.html\n",
      "  from .autonotebook import tqdm as notebook_tqdm\n",
      "                                                                              \r"
     ]
    },
    {
     "name": "stdout",
     "output_type": "stream",
     "text": [
      "Epoch 1/20\n",
      "  Train Loss: 0.4415 | AUCROC: 0.5029 | AUPRC: 0.1379\n",
      "  Val   Loss: 0.4106 | AUCROC: 0.5484 | AUPRC: 0.1500\n",
      "\n"
     ]
    },
    {
     "name": "stderr",
     "output_type": "stream",
     "text": [
      "                                                                              \r"
     ]
    },
    {
     "name": "stdout",
     "output_type": "stream",
     "text": [
      "Epoch 2/20\n",
      "  Train Loss: 0.3998 | AUCROC: 0.5559 | AUPRC: 0.1724\n",
      "  Val   Loss: 0.3883 | AUCROC: 0.7539 | AUPRC: 0.3780\n",
      "\n"
     ]
    },
    {
     "name": "stderr",
     "output_type": "stream",
     "text": [
      "                                                                              \r"
     ]
    },
    {
     "name": "stdout",
     "output_type": "stream",
     "text": [
      "Epoch 3/20\n",
      "  Train Loss: 0.3736 | AUCROC: 0.6914 | AUPRC: 0.2913\n",
      "  Val   Loss: 0.3600 | AUCROC: 0.8085 | AUPRC: 0.4491\n",
      "\n"
     ]
    },
    {
     "name": "stderr",
     "output_type": "stream",
     "text": [
      "                                                                              \r"
     ]
    },
    {
     "name": "stdout",
     "output_type": "stream",
     "text": [
      "Epoch 4/20\n",
      "  Train Loss: 0.3386 | AUCROC: 0.7803 | AUPRC: 0.3855\n",
      "  Val   Loss: 0.3322 | AUCROC: 0.8193 | AUPRC: 0.4644\n",
      "\n"
     ]
    },
    {
     "name": "stderr",
     "output_type": "stream",
     "text": [
      "                                                                              \r"
     ]
    },
    {
     "name": "stdout",
     "output_type": "stream",
     "text": [
      "Epoch 5/20\n",
      "  Train Loss: 0.3305 | AUCROC: 0.7958 | AUPRC: 0.4183\n",
      "  Val   Loss: 0.3250 | AUCROC: 0.8256 | AUPRC: 0.4729\n",
      "\n"
     ]
    },
    {
     "name": "stderr",
     "output_type": "stream",
     "text": [
      "                                                                              \r"
     ]
    },
    {
     "name": "stdout",
     "output_type": "stream",
     "text": [
      "Epoch 6/20\n",
      "  Train Loss: 0.3228 | AUCROC: 0.8067 | AUPRC: 0.4332\n",
      "  Val   Loss: 0.3204 | AUCROC: 0.8314 | AUPRC: 0.4835\n",
      "\n"
     ]
    },
    {
     "name": "stderr",
     "output_type": "stream",
     "text": [
      "                                                                              \r"
     ]
    },
    {
     "name": "stdout",
     "output_type": "stream",
     "text": [
      "Epoch 7/20\n",
      "  Train Loss: 0.3214 | AUCROC: 0.8088 | AUPRC: 0.4482\n",
      "  Val   Loss: 0.3173 | AUCROC: 0.8270 | AUPRC: 0.4831\n",
      "\n"
     ]
    },
    {
     "name": "stderr",
     "output_type": "stream",
     "text": [
      "                                                                              \r"
     ]
    },
    {
     "name": "stdout",
     "output_type": "stream",
     "text": [
      "Epoch 8/20\n",
      "  Train Loss: 0.3178 | AUCROC: 0.8145 | AUPRC: 0.4536\n",
      "  Val   Loss: 0.3113 | AUCROC: 0.8334 | AUPRC: 0.4916\n",
      "\n"
     ]
    },
    {
     "name": "stderr",
     "output_type": "stream",
     "text": [
      "                                                                              \r"
     ]
    },
    {
     "name": "stdout",
     "output_type": "stream",
     "text": [
      "Epoch 9/20\n",
      "  Train Loss: 0.3259 | AUCROC: 0.7983 | AUPRC: 0.4319\n",
      "  Val   Loss: 0.3126 | AUCROC: 0.8344 | AUPRC: 0.4940\n",
      "\n"
     ]
    },
    {
     "name": "stderr",
     "output_type": "stream",
     "text": [
      "                                                                               \r"
     ]
    },
    {
     "name": "stdout",
     "output_type": "stream",
     "text": [
      "Epoch 10/20\n",
      "  Train Loss: 0.3169 | AUCROC: 0.8156 | AUPRC: 0.4621\n",
      "  Val   Loss: 0.3103 | AUCROC: 0.8366 | AUPRC: 0.4981\n",
      "\n"
     ]
    },
    {
     "name": "stderr",
     "output_type": "stream",
     "text": [
      "                                                                               \r"
     ]
    },
    {
     "name": "stdout",
     "output_type": "stream",
     "text": [
      "Epoch 11/20\n",
      "  Train Loss: 0.3172 | AUCROC: 0.8119 | AUPRC: 0.4636\n",
      "  Val   Loss: 0.3200 | AUCROC: 0.8360 | AUPRC: 0.4988\n",
      "\n"
     ]
    },
    {
     "name": "stderr",
     "output_type": "stream",
     "text": [
      "                                                                               \r"
     ]
    },
    {
     "name": "stdout",
     "output_type": "stream",
     "text": [
      "Epoch 12/20\n",
      "  Train Loss: 0.3172 | AUCROC: 0.8152 | AUPRC: 0.4522\n",
      "  Val   Loss: 0.3106 | AUCROC: 0.8361 | AUPRC: 0.5009\n",
      "\n"
     ]
    },
    {
     "name": "stderr",
     "output_type": "stream",
     "text": [
      "                                                                               \r"
     ]
    },
    {
     "name": "stdout",
     "output_type": "stream",
     "text": [
      "Epoch 13/20\n",
      "  Train Loss: 0.3165 | AUCROC: 0.8161 | AUPRC: 0.4518\n",
      "  Val   Loss: 0.3092 | AUCROC: 0.8357 | AUPRC: 0.4999\n",
      "\n"
     ]
    },
    {
     "name": "stderr",
     "output_type": "stream",
     "text": [
      "                                                                               \r"
     ]
    },
    {
     "name": "stdout",
     "output_type": "stream",
     "text": [
      "Epoch 14/20\n",
      "  Train Loss: 0.3153 | AUCROC: 0.8177 | AUPRC: 0.4662\n",
      "  Val   Loss: 0.3338 | AUCROC: 0.8360 | AUPRC: 0.5048\n",
      "\n"
     ]
    },
    {
     "name": "stderr",
     "output_type": "stream",
     "text": [
      "                                                                               \r"
     ]
    },
    {
     "name": "stdout",
     "output_type": "stream",
     "text": [
      "Epoch 15/20\n",
      "  Train Loss: 0.3140 | AUCROC: 0.8199 | AUPRC: 0.4670\n",
      "  Val   Loss: 0.3115 | AUCROC: 0.8374 | AUPRC: 0.5076\n",
      "\n"
     ]
    },
    {
     "name": "stderr",
     "output_type": "stream",
     "text": [
      "                                                                               \r"
     ]
    },
    {
     "name": "stdout",
     "output_type": "stream",
     "text": [
      "Epoch 16/20\n",
      "  Train Loss: 0.3085 | AUCROC: 0.8299 | AUPRC: 0.4776\n",
      "  Val   Loss: 0.3203 | AUCROC: 0.8380 | AUPRC: 0.5004\n",
      "\n"
     ]
    },
    {
     "name": "stderr",
     "output_type": "stream",
     "text": [
      "                                                                               \r"
     ]
    },
    {
     "name": "stdout",
     "output_type": "stream",
     "text": [
      "Epoch 17/20\n",
      "  Train Loss: 0.3089 | AUCROC: 0.8286 | AUPRC: 0.4773\n",
      "  Val   Loss: 0.3077 | AUCROC: 0.8379 | AUPRC: 0.5033\n",
      "\n"
     ]
    },
    {
     "name": "stderr",
     "output_type": "stream",
     "text": [
      "                                                                               \r"
     ]
    },
    {
     "name": "stdout",
     "output_type": "stream",
     "text": [
      "Epoch 18/20\n",
      "  Train Loss: 0.3097 | AUCROC: 0.8272 | AUPRC: 0.4738\n",
      "  Val   Loss: 0.3216 | AUCROC: 0.8394 | AUPRC: 0.5064\n",
      "\n"
     ]
    },
    {
     "name": "stderr",
     "output_type": "stream",
     "text": [
      "                                                                               \r"
     ]
    },
    {
     "name": "stdout",
     "output_type": "stream",
     "text": [
      "Epoch 19/20\n",
      "  Train Loss: 0.3086 | AUCROC: 0.8270 | AUPRC: 0.4888\n",
      "  Val   Loss: 0.3106 | AUCROC: 0.8365 | AUPRC: 0.5081\n",
      "\n"
     ]
    },
    {
     "name": "stderr",
     "output_type": "stream",
     "text": [
      "                                                                               "
     ]
    },
    {
     "name": "stdout",
     "output_type": "stream",
     "text": [
      "Epoch 20/20\n",
      "  Train Loss: 0.3085 | AUCROC: 0.8311 | AUPRC: 0.4741\n",
      "  Val   Loss: 0.3116 | AUCROC: 0.8359 | AUPRC: 0.5061\n",
      "\n"
     ]
    },
    {
     "name": "stderr",
     "output_type": "stream",
     "text": [
      "\r"
     ]
    }
   ],
   "source": [
    "device = torch.device(\"cuda\" if torch.cuda.is_available() else \"cpu\")\n",
    "input_size = train_dataset.tensors[0].shape[-1]\n",
    "model = LSTM_Model(input_size=input_size).to(device)\n",
    "criterion = nn.BCEWithLogitsLoss()\n",
    "optimizer = torch.optim.Adam(model.parameters(), lr=0.001)\n",
    "\n",
    "# Call the trainig loop (default 10 epochs)\n",
    "model = train_model_with_validation(model, train_loader, validation_loader, criterion, optimizer, device)"
   ]
  },
  {
   "cell_type": "code",
   "execution_count": 9,
   "metadata": {},
   "outputs": [
    {
     "name": "stderr",
     "output_type": "stream",
     "text": [
      "                                                                         \r"
     ]
    },
    {
     "name": "stdout",
     "output_type": "stream",
     "text": [
      "Evaluation - Loss: 0.3231 - AUCROC: 0.8311 - AUPRC: 0.4971\n",
      "Test Loss: 0.3231, AUC-ROC: 0.8311, AUC-PRC: 0.4971\n"
     ]
    }
   ],
   "source": [
    "avg_loss, aucroc, auprc = evaluate_model(model, test_loader, criterion, device)\n",
    "print(f\"Test Loss: {avg_loss:.4f}, AUC-ROC: {aucroc:.4f}, AUC-PRC: {auprc:.4f}\")"
   ]
  },
  {
   "cell_type": "markdown",
   "metadata": {},
   "source": [
    "# LSTM w/ Max Pooling"
   ]
  },
  {
   "cell_type": "code",
   "execution_count": 10,
   "metadata": {},
   "outputs": [],
   "source": [
    "class LSTM_Model_Max_Pooling(nn.Module):\n",
    "    def __init__(self, input_size, hidden_size=64, num_layers=2, num_classes=1, dropout=0.3):\n",
    "        super(LSTM_Model_Max_Pooling, self).__init__()\n",
    "        self.lstm = nn.LSTM(\n",
    "            input_size=input_size,       # 40 features per time step\n",
    "            hidden_size=hidden_size,\n",
    "            num_layers=num_layers,\n",
    "            batch_first=True,\n",
    "            dropout=dropout\n",
    "        )\n",
    "        self.fc = nn.Linear(hidden_size, num_classes)\n",
    "\n",
    "    def forward(self, x):\n",
    "        # x: (batch_size, seq_len, input_size)\n",
    "        out, _ = self.lstm(x)           # out: (batch_size, seq_len, hidden_size)\n",
    "        out, _ = out.max(dim=1)           # Pooling: (batch_size, hidden_size)   \n",
    "        out = self.fc(out)              # (batch_size, num_classes)\n",
    "        return out.squeeze()            # (batch_size,) for BCEWithLogitsLoss"
   ]
  },
  {
   "cell_type": "code",
   "execution_count": 11,
   "metadata": {},
   "outputs": [
    {
     "name": "stderr",
     "output_type": "stream",
     "text": [
      "                                                                              \r"
     ]
    },
    {
     "name": "stdout",
     "output_type": "stream",
     "text": [
      "Epoch 1/20\n",
      "  Train Loss: 0.4506 | AUCROC: 0.5164 | AUPRC: 0.1430\n",
      "  Val   Loss: 0.4152 | AUCROC: 0.5970 | AUPRC: 0.1913\n",
      "\n"
     ]
    },
    {
     "name": "stderr",
     "output_type": "stream",
     "text": [
      "                                                                              \r"
     ]
    },
    {
     "name": "stdout",
     "output_type": "stream",
     "text": [
      "Epoch 2/20\n",
      "  Train Loss: 0.4027 | AUCROC: 0.4995 | AUPRC: 0.1353\n",
      "  Val   Loss: 0.4107 | AUCROC: 0.6563 | AUPRC: 0.2379\n",
      "\n"
     ]
    },
    {
     "name": "stderr",
     "output_type": "stream",
     "text": [
      "                                                                              \r"
     ]
    },
    {
     "name": "stdout",
     "output_type": "stream",
     "text": [
      "Epoch 3/20\n",
      "  Train Loss: 0.4028 | AUCROC: 0.5000 | AUPRC: 0.1395\n",
      "  Val   Loss: 0.4094 | AUCROC: 0.7092 | AUPRC: 0.2855\n",
      "\n"
     ]
    },
    {
     "name": "stderr",
     "output_type": "stream",
     "text": [
      "                                                                              \r"
     ]
    },
    {
     "name": "stdout",
     "output_type": "stream",
     "text": [
      "Epoch 4/20\n",
      "  Train Loss: 0.3992 | AUCROC: 0.5892 | AUPRC: 0.2063\n",
      "  Val   Loss: 0.4074 | AUCROC: 0.7631 | AUPRC: 0.3297\n",
      "\n"
     ]
    },
    {
     "name": "stderr",
     "output_type": "stream",
     "text": [
      "                                                                              \r"
     ]
    },
    {
     "name": "stdout",
     "output_type": "stream",
     "text": [
      "Epoch 5/20\n",
      "  Train Loss: 0.3986 | AUCROC: 0.6155 | AUPRC: 0.1994\n",
      "  Val   Loss: 0.3969 | AUCROC: 0.8031 | AUPRC: 0.4251\n",
      "\n"
     ]
    },
    {
     "name": "stderr",
     "output_type": "stream",
     "text": [
      "                                                                              \r"
     ]
    },
    {
     "name": "stdout",
     "output_type": "stream",
     "text": [
      "Epoch 6/20\n",
      "  Train Loss: 0.3777 | AUCROC: 0.6725 | AUPRC: 0.2692\n",
      "  Val   Loss: 0.3576 | AUCROC: 0.8172 | AUPRC: 0.4421\n",
      "\n"
     ]
    },
    {
     "name": "stderr",
     "output_type": "stream",
     "text": [
      "                                                                              \r"
     ]
    },
    {
     "name": "stdout",
     "output_type": "stream",
     "text": [
      "Epoch 7/20\n",
      "  Train Loss: 0.3448 | AUCROC: 0.7587 | AUPRC: 0.3602\n",
      "  Val   Loss: 0.3754 | AUCROC: 0.8088 | AUPRC: 0.4245\n",
      "\n"
     ]
    },
    {
     "name": "stderr",
     "output_type": "stream",
     "text": [
      "                                                                              \r"
     ]
    },
    {
     "name": "stdout",
     "output_type": "stream",
     "text": [
      "Epoch 8/20\n",
      "  Train Loss: 0.3509 | AUCROC: 0.7564 | AUPRC: 0.3404\n",
      "  Val   Loss: 0.3294 | AUCROC: 0.8194 | AUPRC: 0.4456\n",
      "\n"
     ]
    },
    {
     "name": "stderr",
     "output_type": "stream",
     "text": [
      "                                                                              \r"
     ]
    },
    {
     "name": "stdout",
     "output_type": "stream",
     "text": [
      "Epoch 9/20\n",
      "  Train Loss: 0.3340 | AUCROC: 0.7915 | AUPRC: 0.4043\n",
      "  Val   Loss: 0.3263 | AUCROC: 0.8206 | AUPRC: 0.4480\n",
      "\n"
     ]
    },
    {
     "name": "stderr",
     "output_type": "stream",
     "text": [
      "                                                                               \r"
     ]
    },
    {
     "name": "stdout",
     "output_type": "stream",
     "text": [
      "Epoch 10/20\n",
      "  Train Loss: 0.3336 | AUCROC: 0.7905 | AUPRC: 0.4040\n",
      "  Val   Loss: 0.3358 | AUCROC: 0.8207 | AUPRC: 0.4531\n",
      "\n"
     ]
    },
    {
     "name": "stderr",
     "output_type": "stream",
     "text": [
      "                                                                               \r"
     ]
    },
    {
     "name": "stdout",
     "output_type": "stream",
     "text": [
      "Epoch 11/20\n",
      "  Train Loss: 0.3350 | AUCROC: 0.7881 | AUPRC: 0.3940\n",
      "  Val   Loss: 0.3242 | AUCROC: 0.8238 | AUPRC: 0.4593\n",
      "\n"
     ]
    },
    {
     "name": "stderr",
     "output_type": "stream",
     "text": [
      "                                                                               \r"
     ]
    },
    {
     "name": "stdout",
     "output_type": "stream",
     "text": [
      "Epoch 12/20\n",
      "  Train Loss: 0.3324 | AUCROC: 0.7913 | AUPRC: 0.4022\n",
      "  Val   Loss: 0.3299 | AUCROC: 0.8257 | AUPRC: 0.4599\n",
      "\n"
     ]
    },
    {
     "name": "stderr",
     "output_type": "stream",
     "text": [
      "                                                                               \r"
     ]
    },
    {
     "name": "stdout",
     "output_type": "stream",
     "text": [
      "Epoch 13/20\n",
      "  Train Loss: 0.3309 | AUCROC: 0.7951 | AUPRC: 0.4122\n",
      "  Val   Loss: 0.3299 | AUCROC: 0.8231 | AUPRC: 0.4591\n",
      "\n"
     ]
    },
    {
     "name": "stderr",
     "output_type": "stream",
     "text": [
      "                                                                               \r"
     ]
    },
    {
     "name": "stdout",
     "output_type": "stream",
     "text": [
      "Epoch 14/20\n",
      "  Train Loss: 0.3277 | AUCROC: 0.8019 | AUPRC: 0.4064\n",
      "  Val   Loss: 0.3178 | AUCROC: 0.8267 | AUPRC: 0.4619\n",
      "\n"
     ]
    },
    {
     "name": "stderr",
     "output_type": "stream",
     "text": [
      "                                                                               \r"
     ]
    },
    {
     "name": "stdout",
     "output_type": "stream",
     "text": [
      "Epoch 15/20\n",
      "  Train Loss: 0.3244 | AUCROC: 0.8059 | AUPRC: 0.4312\n",
      "  Val   Loss: 0.3295 | AUCROC: 0.8281 | AUPRC: 0.4600\n",
      "\n"
     ]
    },
    {
     "name": "stderr",
     "output_type": "stream",
     "text": [
      "                                                                               \r"
     ]
    },
    {
     "name": "stdout",
     "output_type": "stream",
     "text": [
      "Epoch 16/20\n",
      "  Train Loss: 0.3243 | AUCROC: 0.8058 | AUPRC: 0.4243\n",
      "  Val   Loss: 0.3193 | AUCROC: 0.8293 | AUPRC: 0.4656\n",
      "\n"
     ]
    },
    {
     "name": "stderr",
     "output_type": "stream",
     "text": [
      "                                                                               \r"
     ]
    },
    {
     "name": "stdout",
     "output_type": "stream",
     "text": [
      "Epoch 17/20\n",
      "  Train Loss: 0.3220 | AUCROC: 0.8091 | AUPRC: 0.4403\n",
      "  Val   Loss: 0.3292 | AUCROC: 0.8297 | AUPRC: 0.4587\n",
      "\n"
     ]
    },
    {
     "name": "stderr",
     "output_type": "stream",
     "text": [
      "                                                                               \r"
     ]
    },
    {
     "name": "stdout",
     "output_type": "stream",
     "text": [
      "Epoch 18/20\n",
      "  Train Loss: 0.3214 | AUCROC: 0.8115 | AUPRC: 0.4329\n",
      "  Val   Loss: 0.3179 | AUCROC: 0.8310 | AUPRC: 0.4673\n",
      "\n"
     ]
    },
    {
     "name": "stderr",
     "output_type": "stream",
     "text": [
      "                                                                               \r"
     ]
    },
    {
     "name": "stdout",
     "output_type": "stream",
     "text": [
      "Epoch 19/20\n",
      "  Train Loss: 0.3185 | AUCROC: 0.8153 | AUPRC: 0.4425\n",
      "  Val   Loss: 0.3227 | AUCROC: 0.8292 | AUPRC: 0.4666\n",
      "\n"
     ]
    },
    {
     "name": "stderr",
     "output_type": "stream",
     "text": [
      "                                                                               \r"
     ]
    },
    {
     "name": "stdout",
     "output_type": "stream",
     "text": [
      "Epoch 20/20\n",
      "  Train Loss: 0.3173 | AUCROC: 0.8169 | AUPRC: 0.4482\n",
      "  Val   Loss: 0.3170 | AUCROC: 0.8324 | AUPRC: 0.4729\n",
      "\n"
     ]
    }
   ],
   "source": [
    "# Use the previous data loaders and train the new model\n",
    "model_max_pooling = LSTM_Model_Max_Pooling(input_size=input_size).to(device)\n",
    "criterion = nn.BCEWithLogitsLoss()\n",
    "optimizer = torch.optim.Adam(model_max_pooling.parameters(), lr=0.001)\n",
    "\n",
    "model_max_pooling = train_model_with_validation(model_max_pooling, train_loader, validation_loader, criterion, optimizer, device)"
   ]
  },
  {
   "cell_type": "code",
   "execution_count": 12,
   "metadata": {},
   "outputs": [
    {
     "name": "stderr",
     "output_type": "stream",
     "text": [
      "                                                                         "
     ]
    },
    {
     "name": "stdout",
     "output_type": "stream",
     "text": [
      "Evaluation - Loss: 0.3227 - AUCROC: 0.8310 - AUPRC: 0.4833\n",
      "Test Loss: 0.3227, AUC-ROC: 0.8310, AUC-PRC: 0.4833\n"
     ]
    },
    {
     "name": "stderr",
     "output_type": "stream",
     "text": [
      "\r"
     ]
    }
   ],
   "source": [
    "# Now evaluate the model\n",
    "avg_loss, aucroc, auprc = evaluate_model(model_max_pooling, test_loader, criterion, device)\n",
    "print(f\"Test Loss: {avg_loss:.4f}, AUC-ROC: {aucroc:.4f}, AUC-PRC: {auprc:.4f}\")"
   ]
  },
  {
   "cell_type": "markdown",
   "metadata": {},
   "source": [
    "# LSTM w/ Average"
   ]
  },
  {
   "cell_type": "code",
   "execution_count": 13,
   "metadata": {},
   "outputs": [],
   "source": [
    "class LSTM_Model_Pooling(nn.Module):\n",
    "    def __init__(self, input_size, hidden_size=64, num_layers=2, num_classes=1, dropout=0.3):\n",
    "        super(LSTM_Model_Pooling, self).__init__()\n",
    "        self.lstm = nn.LSTM(\n",
    "            input_size=input_size,       # 40 features per time step\n",
    "            hidden_size=hidden_size,\n",
    "            num_layers=num_layers,\n",
    "            batch_first=True,\n",
    "            dropout=dropout\n",
    "        )\n",
    "        self.fc = nn.Linear(hidden_size, num_classes)\n",
    "\n",
    "    def forward(self, x):\n",
    "        # x: (batch_size, seq_len, input_size)\n",
    "        out, _ = self.lstm(x)           # out: (batch_size, seq_len, hidden_size)\n",
    "        out = out.mean(dim=1)           # Pooling: (batch_size, hidden_size)   \n",
    "        out = self.fc(out)              # (batch_size, num_classes)\n",
    "        return out.squeeze()            # (batch_size,) for BCEWithLogitsLoss"
   ]
  },
  {
   "cell_type": "code",
   "execution_count": 14,
   "metadata": {},
   "outputs": [
    {
     "name": "stderr",
     "output_type": "stream",
     "text": [
      "                                                                              \r"
     ]
    },
    {
     "name": "stdout",
     "output_type": "stream",
     "text": [
      "Epoch 1/20\n",
      "  Train Loss: 0.4447 | AUCROC: 0.5207 | AUPRC: 0.1536\n",
      "  Val   Loss: 0.4115 | AUCROC: 0.6489 | AUPRC: 0.2070\n",
      "\n"
     ]
    },
    {
     "name": "stderr",
     "output_type": "stream",
     "text": [
      "                                                                              \r"
     ]
    },
    {
     "name": "stdout",
     "output_type": "stream",
     "text": [
      "Epoch 2/20\n",
      "  Train Loss: 0.4031 | AUCROC: 0.5151 | AUPRC: 0.1502\n",
      "  Val   Loss: 0.4050 | AUCROC: 0.7337 | AUPRC: 0.2962\n",
      "\n"
     ]
    },
    {
     "name": "stderr",
     "output_type": "stream",
     "text": [
      "                                                                              \r"
     ]
    },
    {
     "name": "stdout",
     "output_type": "stream",
     "text": [
      "Epoch 3/20\n",
      "  Train Loss: 0.3954 | AUCROC: 0.6053 | AUPRC: 0.2157\n",
      "  Val   Loss: 0.3823 | AUCROC: 0.7647 | AUPRC: 0.3821\n",
      "\n"
     ]
    },
    {
     "name": "stderr",
     "output_type": "stream",
     "text": [
      "                                                                              \r"
     ]
    },
    {
     "name": "stdout",
     "output_type": "stream",
     "text": [
      "Epoch 4/20\n",
      "  Train Loss: 0.3787 | AUCROC: 0.6537 | AUPRC: 0.2958\n",
      "  Val   Loss: 0.3634 | AUCROC: 0.7765 | AUPRC: 0.4010\n",
      "\n"
     ]
    },
    {
     "name": "stderr",
     "output_type": "stream",
     "text": [
      "                                                                              \r"
     ]
    },
    {
     "name": "stdout",
     "output_type": "stream",
     "text": [
      "Epoch 5/20\n",
      "  Train Loss: 0.3541 | AUCROC: 0.7423 | AUPRC: 0.3604\n",
      "  Val   Loss: 0.3518 | AUCROC: 0.8021 | AUPRC: 0.4287\n",
      "\n"
     ]
    },
    {
     "name": "stderr",
     "output_type": "stream",
     "text": [
      "                                                                              \r"
     ]
    },
    {
     "name": "stdout",
     "output_type": "stream",
     "text": [
      "Epoch 6/20\n",
      "  Train Loss: 0.3387 | AUCROC: 0.7776 | AUPRC: 0.3972\n",
      "  Val   Loss: 0.3349 | AUCROC: 0.8036 | AUPRC: 0.4381\n",
      "\n"
     ]
    },
    {
     "name": "stderr",
     "output_type": "stream",
     "text": [
      "                                                                              \r"
     ]
    },
    {
     "name": "stdout",
     "output_type": "stream",
     "text": [
      "Epoch 7/20\n",
      "  Train Loss: 0.3330 | AUCROC: 0.7892 | AUPRC: 0.4151\n",
      "  Val   Loss: 0.3266 | AUCROC: 0.8173 | AUPRC: 0.4517\n",
      "\n"
     ]
    },
    {
     "name": "stderr",
     "output_type": "stream",
     "text": [
      "                                                                              \r"
     ]
    },
    {
     "name": "stdout",
     "output_type": "stream",
     "text": [
      "Epoch 8/20\n",
      "  Train Loss: 0.3357 | AUCROC: 0.7839 | AUPRC: 0.3950\n",
      "  Val   Loss: 0.3593 | AUCROC: 0.8102 | AUPRC: 0.4500\n",
      "\n"
     ]
    },
    {
     "name": "stderr",
     "output_type": "stream",
     "text": [
      "                                                                              \r"
     ]
    },
    {
     "name": "stdout",
     "output_type": "stream",
     "text": [
      "Epoch 9/20\n",
      "  Train Loss: 0.3344 | AUCROC: 0.7868 | AUPRC: 0.4144\n",
      "  Val   Loss: 0.3258 | AUCROC: 0.8237 | AUPRC: 0.4579\n",
      "\n"
     ]
    },
    {
     "name": "stderr",
     "output_type": "stream",
     "text": [
      "                                                                               \r"
     ]
    },
    {
     "name": "stdout",
     "output_type": "stream",
     "text": [
      "Epoch 10/20\n",
      "  Train Loss: 0.3349 | AUCROC: 0.7837 | AUPRC: 0.4192\n",
      "  Val   Loss: 0.3218 | AUCROC: 0.8216 | AUPRC: 0.4578\n",
      "\n"
     ]
    },
    {
     "name": "stderr",
     "output_type": "stream",
     "text": [
      "                                                                               \r"
     ]
    },
    {
     "name": "stdout",
     "output_type": "stream",
     "text": [
      "Epoch 11/20\n",
      "  Train Loss: 0.3246 | AUCROC: 0.8054 | AUPRC: 0.4340\n",
      "  Val   Loss: 0.3219 | AUCROC: 0.8261 | AUPRC: 0.4640\n",
      "\n"
     ]
    },
    {
     "name": "stderr",
     "output_type": "stream",
     "text": [
      "                                                                               \r"
     ]
    },
    {
     "name": "stdout",
     "output_type": "stream",
     "text": [
      "Epoch 12/20\n",
      "  Train Loss: 0.3251 | AUCROC: 0.8035 | AUPRC: 0.4401\n",
      "  Val   Loss: 0.3176 | AUCROC: 0.8253 | AUPRC: 0.4647\n",
      "\n"
     ]
    },
    {
     "name": "stderr",
     "output_type": "stream",
     "text": [
      "                                                                               \r"
     ]
    },
    {
     "name": "stdout",
     "output_type": "stream",
     "text": [
      "Epoch 13/20\n",
      "  Train Loss: 0.3207 | AUCROC: 0.8123 | AUPRC: 0.4427\n",
      "  Val   Loss: 0.3149 | AUCROC: 0.8309 | AUPRC: 0.4750\n",
      "\n"
     ]
    },
    {
     "name": "stderr",
     "output_type": "stream",
     "text": [
      "                                                                               \r"
     ]
    },
    {
     "name": "stdout",
     "output_type": "stream",
     "text": [
      "Epoch 14/20\n",
      "  Train Loss: 0.3168 | AUCROC: 0.8192 | AUPRC: 0.4466\n",
      "  Val   Loss: 0.3170 | AUCROC: 0.8332 | AUPRC: 0.4858\n",
      "\n"
     ]
    },
    {
     "name": "stderr",
     "output_type": "stream",
     "text": [
      "                                                                               \r"
     ]
    },
    {
     "name": "stdout",
     "output_type": "stream",
     "text": [
      "Epoch 15/20\n",
      "  Train Loss: 0.3147 | AUCROC: 0.8227 | AUPRC: 0.4530\n",
      "  Val   Loss: 0.3186 | AUCROC: 0.8304 | AUPRC: 0.4729\n",
      "\n"
     ]
    },
    {
     "name": "stderr",
     "output_type": "stream",
     "text": [
      "                                                                               \r"
     ]
    },
    {
     "name": "stdout",
     "output_type": "stream",
     "text": [
      "Epoch 16/20\n",
      "  Train Loss: 0.3175 | AUCROC: 0.8174 | AUPRC: 0.4530\n",
      "  Val   Loss: 0.3225 | AUCROC: 0.8347 | AUPRC: 0.4888\n",
      "\n"
     ]
    },
    {
     "name": "stderr",
     "output_type": "stream",
     "text": [
      "                                                                               \r"
     ]
    },
    {
     "name": "stdout",
     "output_type": "stream",
     "text": [
      "Epoch 17/20\n",
      "  Train Loss: 0.3133 | AUCROC: 0.8243 | AUPRC: 0.4659\n",
      "  Val   Loss: 0.3117 | AUCROC: 0.8382 | AUPRC: 0.4926\n",
      "\n"
     ]
    },
    {
     "name": "stderr",
     "output_type": "stream",
     "text": [
      "                                                                               \r"
     ]
    },
    {
     "name": "stdout",
     "output_type": "stream",
     "text": [
      "Epoch 18/20\n",
      "  Train Loss: 0.3130 | AUCROC: 0.8236 | AUPRC: 0.4627\n",
      "  Val   Loss: 0.3352 | AUCROC: 0.8378 | AUPRC: 0.4928\n",
      "\n"
     ]
    },
    {
     "name": "stderr",
     "output_type": "stream",
     "text": [
      "                                                                               \r"
     ]
    },
    {
     "name": "stdout",
     "output_type": "stream",
     "text": [
      "Epoch 19/20\n",
      "  Train Loss: 0.3165 | AUCROC: 0.8167 | AUPRC: 0.4584\n",
      "  Val   Loss: 0.3131 | AUCROC: 0.8343 | AUPRC: 0.4834\n",
      "\n"
     ]
    },
    {
     "name": "stderr",
     "output_type": "stream",
     "text": [
      "                                                                               "
     ]
    },
    {
     "name": "stdout",
     "output_type": "stream",
     "text": [
      "Epoch 20/20\n",
      "  Train Loss: 0.3119 | AUCROC: 0.8264 | AUPRC: 0.4595\n",
      "  Val   Loss: 0.3085 | AUCROC: 0.8405 | AUPRC: 0.4977\n",
      "\n"
     ]
    },
    {
     "name": "stderr",
     "output_type": "stream",
     "text": [
      "\r"
     ]
    }
   ],
   "source": [
    "# Use the previous data loaders and train the new model\n",
    "model_pooling = LSTM_Model_Pooling(input_size=input_size).to(device)\n",
    "criterion = nn.BCEWithLogitsLoss()\n",
    "optimizer = torch.optim.Adam(model_pooling.parameters(), lr=0.001)\n",
    "\n",
    "model_pooling = train_model_with_validation(model_pooling, train_loader, validation_loader, criterion, optimizer, device)"
   ]
  },
  {
   "cell_type": "code",
   "execution_count": 15,
   "metadata": {},
   "outputs": [
    {
     "name": "stderr",
     "output_type": "stream",
     "text": [
      "                                                                         "
     ]
    },
    {
     "name": "stdout",
     "output_type": "stream",
     "text": [
      "Evaluation - Loss: 0.3115 - AUCROC: 0.8419 - AUPRC: 0.5058\n",
      "Test Loss: 0.3115, AUC-ROC: 0.8419, AUC-PRC: 0.5058\n"
     ]
    },
    {
     "name": "stderr",
     "output_type": "stream",
     "text": [
      "\r"
     ]
    }
   ],
   "source": [
    "# Now evaluate the model\n",
    "avg_loss, aucroc, auprc = evaluate_model(model_pooling, test_loader, criterion, device)\n",
    "print(f\"Test Loss: {avg_loss:.4f}, AUC-ROC: {aucroc:.4f}, AUC-PRC: {auprc:.4f}\")"
   ]
  },
  {
   "cell_type": "markdown",
   "metadata": {},
   "source": [
    "# Bidirectional LSTM"
   ]
  },
  {
   "cell_type": "code",
   "execution_count": 16,
   "metadata": {},
   "outputs": [],
   "source": [
    "class LSTM_Model_Bi(nn.Module):\n",
    "    def __init__(self, input_size, hidden_size=64, num_layers=2, num_classes=1, dropout=0.3):\n",
    "        super(LSTM_Model_Bi, self).__init__()\n",
    "        self.lstm = nn.LSTM(\n",
    "            input_size=input_size,       # 41 features per time step\n",
    "            hidden_size=hidden_size,\n",
    "            num_layers=num_layers,\n",
    "            batch_first=True,\n",
    "            dropout=dropout,\n",
    "            bidirectional=True\n",
    "        )\n",
    "        self.fc = nn.Linear(hidden_size * 2, num_classes) # *2 for bidirectional\n",
    "\n",
    "    def forward(self, x):\n",
    "        # x: (batch_size, seq_len, input_size)\n",
    "        out, _ = self.lstm(x)           # out: (batch_size, seq_len, hidden_size)\n",
    "        out = out[:, -1, :]             # Take last time step: (batch_size, hidden_size)\n",
    "        out = self.fc(out)              # (batch_size, num_classes)\n",
    "        return out.squeeze()            # (batch_size,) for BCEWithLogitsLoss"
   ]
  },
  {
   "cell_type": "code",
   "execution_count": 17,
   "metadata": {},
   "outputs": [
    {
     "name": "stderr",
     "output_type": "stream",
     "text": [
      "                                                                              \r"
     ]
    },
    {
     "name": "stdout",
     "output_type": "stream",
     "text": [
      "Epoch 1/20\n",
      "  Train Loss: 0.4464 | AUCROC: 0.4885 | AUPRC: 0.1379\n",
      "  Val   Loss: 0.4131 | AUCROC: 0.5269 | AUPRC: 0.1432\n",
      "\n"
     ]
    },
    {
     "name": "stderr",
     "output_type": "stream",
     "text": [
      "                                                                              \r"
     ]
    },
    {
     "name": "stdout",
     "output_type": "stream",
     "text": [
      "Epoch 2/20\n",
      "  Train Loss: 0.4029 | AUCROC: 0.5108 | AUPRC: 0.1472\n",
      "  Val   Loss: 0.4062 | AUCROC: 0.7206 | AUPRC: 0.3183\n",
      "\n"
     ]
    },
    {
     "name": "stderr",
     "output_type": "stream",
     "text": [
      "                                                                              \r"
     ]
    },
    {
     "name": "stdout",
     "output_type": "stream",
     "text": [
      "Epoch 3/20\n",
      "  Train Loss: 0.3754 | AUCROC: 0.6939 | AUPRC: 0.2851\n",
      "  Val   Loss: 0.3631 | AUCROC: 0.8014 | AUPRC: 0.4216\n",
      "\n"
     ]
    },
    {
     "name": "stderr",
     "output_type": "stream",
     "text": [
      "                                                                              \r"
     ]
    },
    {
     "name": "stdout",
     "output_type": "stream",
     "text": [
      "Epoch 4/20\n",
      "  Train Loss: 0.3336 | AUCROC: 0.7833 | AUPRC: 0.4281\n",
      "  Val   Loss: 0.3216 | AUCROC: 0.8211 | AUPRC: 0.4566\n",
      "\n"
     ]
    },
    {
     "name": "stderr",
     "output_type": "stream",
     "text": [
      "                                                                              \r"
     ]
    },
    {
     "name": "stdout",
     "output_type": "stream",
     "text": [
      "Epoch 5/20\n",
      "  Train Loss: 0.3325 | AUCROC: 0.7896 | AUPRC: 0.4184\n",
      "  Val   Loss: 0.3242 | AUCROC: 0.8231 | AUPRC: 0.4678\n",
      "\n"
     ]
    },
    {
     "name": "stderr",
     "output_type": "stream",
     "text": [
      "                                                                              \r"
     ]
    },
    {
     "name": "stdout",
     "output_type": "stream",
     "text": [
      "Epoch 6/20\n",
      "  Train Loss: 0.3210 | AUCROC: 0.8116 | AUPRC: 0.4573\n",
      "  Val   Loss: 0.3164 | AUCROC: 0.8273 | AUPRC: 0.4756\n",
      "\n"
     ]
    },
    {
     "name": "stderr",
     "output_type": "stream",
     "text": [
      "                                                                              \r"
     ]
    },
    {
     "name": "stdout",
     "output_type": "stream",
     "text": [
      "Epoch 7/20\n",
      "  Train Loss: 0.3263 | AUCROC: 0.7945 | AUPRC: 0.4496\n",
      "  Val   Loss: 0.3175 | AUCROC: 0.8283 | AUPRC: 0.4860\n",
      "\n"
     ]
    },
    {
     "name": "stderr",
     "output_type": "stream",
     "text": [
      "                                                                              \r"
     ]
    },
    {
     "name": "stdout",
     "output_type": "stream",
     "text": [
      "Epoch 8/20\n",
      "  Train Loss: 0.3172 | AUCROC: 0.8160 | AUPRC: 0.4568\n",
      "  Val   Loss: 0.3097 | AUCROC: 0.8363 | AUPRC: 0.4922\n",
      "\n"
     ]
    },
    {
     "name": "stderr",
     "output_type": "stream",
     "text": [
      "                                                                              \r"
     ]
    },
    {
     "name": "stdout",
     "output_type": "stream",
     "text": [
      "Epoch 9/20\n",
      "  Train Loss: 0.3142 | AUCROC: 0.8173 | AUPRC: 0.4817\n",
      "  Val   Loss: 0.3123 | AUCROC: 0.8328 | AUPRC: 0.4963\n",
      "\n"
     ]
    },
    {
     "name": "stderr",
     "output_type": "stream",
     "text": [
      "                                                                               \r"
     ]
    },
    {
     "name": "stdout",
     "output_type": "stream",
     "text": [
      "Epoch 10/20\n",
      "  Train Loss: 0.3160 | AUCROC: 0.8164 | AUPRC: 0.4657\n",
      "  Val   Loss: 0.3167 | AUCROC: 0.8350 | AUPRC: 0.4921\n",
      "\n"
     ]
    },
    {
     "name": "stderr",
     "output_type": "stream",
     "text": [
      "                                                                               \r"
     ]
    },
    {
     "name": "stdout",
     "output_type": "stream",
     "text": [
      "Epoch 11/20\n",
      "  Train Loss: 0.3194 | AUCROC: 0.8071 | AUPRC: 0.4688\n",
      "  Val   Loss: 0.3145 | AUCROC: 0.8361 | AUPRC: 0.4928\n",
      "\n"
     ]
    },
    {
     "name": "stderr",
     "output_type": "stream",
     "text": [
      "                                                                               \r"
     ]
    },
    {
     "name": "stdout",
     "output_type": "stream",
     "text": [
      "Epoch 12/20\n",
      "  Train Loss: 0.3167 | AUCROC: 0.8169 | AUPRC: 0.4536\n",
      "  Val   Loss: 0.3238 | AUCROC: 0.8365 | AUPRC: 0.5039\n",
      "\n"
     ]
    },
    {
     "name": "stderr",
     "output_type": "stream",
     "text": [
      "                                                                               \r"
     ]
    },
    {
     "name": "stdout",
     "output_type": "stream",
     "text": [
      "Epoch 13/20\n",
      "  Train Loss: 0.3120 | AUCROC: 0.8188 | AUPRC: 0.4834\n",
      "  Val   Loss: 0.3118 | AUCROC: 0.8426 | AUPRC: 0.5081\n",
      "\n"
     ]
    },
    {
     "name": "stderr",
     "output_type": "stream",
     "text": [
      "                                                                               \r"
     ]
    },
    {
     "name": "stdout",
     "output_type": "stream",
     "text": [
      "Epoch 14/20\n",
      "  Train Loss: 0.3141 | AUCROC: 0.8188 | AUPRC: 0.4685\n",
      "  Val   Loss: 0.3106 | AUCROC: 0.8329 | AUPRC: 0.5066\n",
      "\n"
     ]
    },
    {
     "name": "stderr",
     "output_type": "stream",
     "text": [
      "                                                                               \r"
     ]
    },
    {
     "name": "stdout",
     "output_type": "stream",
     "text": [
      "Epoch 15/20\n",
      "  Train Loss: 0.3068 | AUCROC: 0.8307 | AUPRC: 0.4913\n",
      "  Val   Loss: 0.3079 | AUCROC: 0.8389 | AUPRC: 0.5091\n",
      "\n"
     ]
    },
    {
     "name": "stderr",
     "output_type": "stream",
     "text": [
      "                                                                               \r"
     ]
    },
    {
     "name": "stdout",
     "output_type": "stream",
     "text": [
      "Epoch 16/20\n",
      "  Train Loss: 0.3051 | AUCROC: 0.8334 | AUPRC: 0.4889\n",
      "  Val   Loss: 0.3062 | AUCROC: 0.8439 | AUPRC: 0.5130\n",
      "\n"
     ]
    },
    {
     "name": "stderr",
     "output_type": "stream",
     "text": [
      "                                                                               \r"
     ]
    },
    {
     "name": "stdout",
     "output_type": "stream",
     "text": [
      "Epoch 17/20\n",
      "  Train Loss: 0.3065 | AUCROC: 0.8315 | AUPRC: 0.4893\n",
      "  Val   Loss: 0.3076 | AUCROC: 0.8442 | AUPRC: 0.5131\n",
      "\n"
     ]
    },
    {
     "name": "stderr",
     "output_type": "stream",
     "text": [
      "                                                                               \r"
     ]
    },
    {
     "name": "stdout",
     "output_type": "stream",
     "text": [
      "Epoch 18/20\n",
      "  Train Loss: 0.3063 | AUCROC: 0.8306 | AUPRC: 0.4926\n",
      "  Val   Loss: 0.3069 | AUCROC: 0.8410 | AUPRC: 0.5138\n",
      "\n"
     ]
    },
    {
     "name": "stderr",
     "output_type": "stream",
     "text": [
      "                                                                               \r"
     ]
    },
    {
     "name": "stdout",
     "output_type": "stream",
     "text": [
      "Epoch 19/20\n",
      "  Train Loss: 0.3059 | AUCROC: 0.8318 | AUPRC: 0.4912\n",
      "  Val   Loss: 0.3114 | AUCROC: 0.8417 | AUPRC: 0.5137\n",
      "\n"
     ]
    },
    {
     "name": "stderr",
     "output_type": "stream",
     "text": [
      "                                                                               "
     ]
    },
    {
     "name": "stdout",
     "output_type": "stream",
     "text": [
      "Epoch 20/20\n",
      "  Train Loss: 0.3043 | AUCROC: 0.8328 | AUPRC: 0.4998\n",
      "  Val   Loss: 0.3092 | AUCROC: 0.8389 | AUPRC: 0.5066\n",
      "\n"
     ]
    },
    {
     "name": "stderr",
     "output_type": "stream",
     "text": [
      "\r"
     ]
    }
   ],
   "source": [
    "# Train the model\n",
    "model_bi = LSTM_Model_Bi(input_size=input_size).to(device)\n",
    "criterion = nn.BCEWithLogitsLoss()\n",
    "optimizer = torch.optim.Adam(model_bi.parameters(), lr=0.001)\n",
    "\n",
    "model_bi = train_model_with_validation(model_bi, train_loader, validation_loader, criterion, optimizer, device)"
   ]
  },
  {
   "cell_type": "code",
   "execution_count": 18,
   "metadata": {},
   "outputs": [
    {
     "name": "stderr",
     "output_type": "stream",
     "text": [
      "                                                                        "
     ]
    },
    {
     "name": "stdout",
     "output_type": "stream",
     "text": [
      "Evaluation - Loss: 0.3580 - AUCROC: 0.8220 - AUPRC: 0.4549\n",
      "Test Loss: 0.3580, AUC-ROC: 0.8220, AUC-PRC: 0.4549\n"
     ]
    },
    {
     "name": "stderr",
     "output_type": "stream",
     "text": [
      "\r"
     ]
    }
   ],
   "source": [
    "# Now evaluate\n",
    "avg_loss, aucroc, auprc = evaluate_model(model_bi, test_loader, criterion, device)\n",
    "print(f\"Test Loss: {avg_loss:.4f}, AUC-ROC: {aucroc:.4f}, AUC-PRC: {auprc:.4f}\")"
   ]
  },
  {
   "cell_type": "markdown",
   "metadata": {},
   "source": [
    "# Transformer"
   ]
  },
  {
   "cell_type": "code",
   "execution_count": 19,
   "metadata": {},
   "outputs": [],
   "source": [
    "import torch.nn\n",
    "\n",
    "class TransformerClassifier(nn.Module):\n",
    "    def __init__(self, input_size, num_classes=1, nhead=4, num_layers=2, dim_feedforward=128, dropout=0.3):\n",
    "        super().__init__()\n",
    "        self.input_size = input_size\n",
    "\n",
    "        # Project input features to model dimension\n",
    "        self.embedding = nn.Linear(input_size, dim_feedforward)\n",
    "\n",
    "        # Positional Encoding\n",
    "        self.pos_encoder = PositionalEncoding(dim_feedforward, dropout)\n",
    "\n",
    "        # Transformer Encoder\n",
    "        encoder_layer = nn.TransformerEncoderLayer(\n",
    "            d_model=dim_feedforward,\n",
    "            nhead=nhead,\n",
    "            dim_feedforward=dim_feedforward * 2,\n",
    "            dropout=dropout,\n",
    "            batch_first=True\n",
    "        )\n",
    "        self.transformer_encoder = nn.TransformerEncoder(encoder_layer, num_layers=num_layers)\n",
    "\n",
    "        # Final classifier\n",
    "        self.fc = nn.Linear(dim_feedforward, num_classes)\n",
    "\n",
    "    def forward(self, x):\n",
    "        # x: (batch, seq_len, input_size)\n",
    "\n",
    "        if x.dim() == 2:\n",
    "            x = x.unsqueeze(1) # (batch, 1, input_size)\n",
    "\n",
    "        x = self.embedding(x)                # (batch, seq_len, d_model)\n",
    "        #print(\"After embedding:\", x.shape)  # Debug print\n",
    "        x = self.pos_encoder(x)\n",
    "        #print(\"After pos encoding:\", x.shape)  # Debug print\n",
    "        x = self.transformer_encoder(x)      # (batch, seq_len, d_model)\n",
    "        #print(\"After transformer encoder:\", x.shape)\n",
    "\n",
    "        x = x.mean(dim=1)                    # mean pooling over time\n",
    "        #print(\"After pooling:\", x.shape)     # Debug print\n",
    "        out = self.fc(x).squeeze()           # (batch,)\n",
    "        #print(\"After fc:\", out.shape)        # Debug print\n",
    "        return out\n",
    "\n",
    "\n",
    "class PositionalEncoding(nn.Module):\n",
    "    def __init__(self, d_model, dropout=0.1, max_len=500):\n",
    "        super().__init__()\n",
    "        self.dropout = nn.Dropout(p=dropout)\n",
    "\n",
    "        pe = torch.zeros(max_len, d_model)  # (max_len, d_model)\n",
    "        position = torch.arange(0, max_len).unsqueeze(1)\n",
    "        div_term = torch.exp(torch.arange(0, d_model, 2) * -(torch.log(torch.tensor(10000.0)) / d_model))\n",
    "\n",
    "        pe[:, 0::2] = torch.sin(position * div_term)\n",
    "        pe[:, 1::2] = torch.cos(position * div_term)\n",
    "        pe = pe.unsqueeze(0)  # (1, max_len, d_model)\n",
    "        self.register_buffer('pe', pe)\n",
    "\n",
    "    def forward(self, x):\n",
    "        x = x + self.pe[:, :x.size(1)]\n",
    "        return self.dropout(x)"
   ]
  },
  {
   "cell_type": "code",
   "execution_count": 20,
   "metadata": {},
   "outputs": [
    {
     "name": "stderr",
     "output_type": "stream",
     "text": [
      "                                                                              \r"
     ]
    },
    {
     "name": "stdout",
     "output_type": "stream",
     "text": [
      "Epoch 1/20\n",
      "  Train Loss: 0.4176 | AUCROC: 0.5097 | AUPRC: 0.1479\n",
      "  Val   Loss: 0.4065 | AUCROC: 0.7721 | AUPRC: 0.3961\n",
      "\n"
     ]
    },
    {
     "name": "stderr",
     "output_type": "stream",
     "text": [
      "                                                                              \r"
     ]
    },
    {
     "name": "stdout",
     "output_type": "stream",
     "text": [
      "Epoch 2/20\n",
      "  Train Loss: 0.3876 | AUCROC: 0.6355 | AUPRC: 0.2363\n",
      "  Val   Loss: 0.3494 | AUCROC: 0.8069 | AUPRC: 0.4529\n",
      "\n"
     ]
    },
    {
     "name": "stderr",
     "output_type": "stream",
     "text": [
      "                                                                              \r"
     ]
    },
    {
     "name": "stdout",
     "output_type": "stream",
     "text": [
      "Epoch 3/20\n",
      "  Train Loss: 0.3473 | AUCROC: 0.7585 | AUPRC: 0.3659\n",
      "  Val   Loss: 0.3390 | AUCROC: 0.8218 | AUPRC: 0.4722\n",
      "\n"
     ]
    },
    {
     "name": "stderr",
     "output_type": "stream",
     "text": [
      "                                                                              \r"
     ]
    },
    {
     "name": "stdout",
     "output_type": "stream",
     "text": [
      "Epoch 4/20\n",
      "  Train Loss: 0.3355 | AUCROC: 0.7794 | AUPRC: 0.4146\n",
      "  Val   Loss: 0.3205 | AUCROC: 0.8281 | AUPRC: 0.4816\n",
      "\n"
     ]
    },
    {
     "name": "stderr",
     "output_type": "stream",
     "text": [
      "                                                                              \r"
     ]
    },
    {
     "name": "stdout",
     "output_type": "stream",
     "text": [
      "Epoch 5/20\n",
      "  Train Loss: 0.3304 | AUCROC: 0.7913 | AUPRC: 0.4205\n",
      "  Val   Loss: 0.3369 | AUCROC: 0.8301 | AUPRC: 0.4877\n",
      "\n"
     ]
    },
    {
     "name": "stderr",
     "output_type": "stream",
     "text": [
      "                                                                              \r"
     ]
    },
    {
     "name": "stdout",
     "output_type": "stream",
     "text": [
      "Epoch 6/20\n",
      "  Train Loss: 0.3264 | AUCROC: 0.8008 | AUPRC: 0.4235\n",
      "  Val   Loss: 0.3107 | AUCROC: 0.8338 | AUPRC: 0.4922\n",
      "\n"
     ]
    },
    {
     "name": "stderr",
     "output_type": "stream",
     "text": [
      "                                                                              \r"
     ]
    },
    {
     "name": "stdout",
     "output_type": "stream",
     "text": [
      "Epoch 7/20\n",
      "  Train Loss: 0.3204 | AUCROC: 0.8113 | AUPRC: 0.4457\n",
      "  Val   Loss: 0.3091 | AUCROC: 0.8364 | AUPRC: 0.4901\n",
      "\n"
     ]
    },
    {
     "name": "stderr",
     "output_type": "stream",
     "text": [
      "                                                                              \r"
     ]
    },
    {
     "name": "stdout",
     "output_type": "stream",
     "text": [
      "Epoch 8/20\n",
      "  Train Loss: 0.3260 | AUCROC: 0.8007 | AUPRC: 0.4325\n",
      "  Val   Loss: 0.3220 | AUCROC: 0.8375 | AUPRC: 0.4953\n",
      "\n"
     ]
    },
    {
     "name": "stderr",
     "output_type": "stream",
     "text": [
      "                                                                              \r"
     ]
    },
    {
     "name": "stdout",
     "output_type": "stream",
     "text": [
      "Epoch 9/20\n",
      "  Train Loss: 0.3193 | AUCROC: 0.8137 | AUPRC: 0.4421\n",
      "  Val   Loss: 0.3063 | AUCROC: 0.8394 | AUPRC: 0.5019\n",
      "\n"
     ]
    },
    {
     "name": "stderr",
     "output_type": "stream",
     "text": [
      "                                                                               \r"
     ]
    },
    {
     "name": "stdout",
     "output_type": "stream",
     "text": [
      "Epoch 10/20\n",
      "  Train Loss: 0.3210 | AUCROC: 0.8062 | AUPRC: 0.4569\n",
      "  Val   Loss: 0.3306 | AUCROC: 0.8404 | AUPRC: 0.5072\n",
      "\n"
     ]
    },
    {
     "name": "stderr",
     "output_type": "stream",
     "text": [
      "                                                                               \r"
     ]
    },
    {
     "name": "stdout",
     "output_type": "stream",
     "text": [
      "Epoch 11/20\n",
      "  Train Loss: 0.3233 | AUCROC: 0.8073 | AUPRC: 0.4346\n",
      "  Val   Loss: 0.3102 | AUCROC: 0.8403 | AUPRC: 0.5056\n",
      "\n"
     ]
    },
    {
     "name": "stderr",
     "output_type": "stream",
     "text": [
      "                                                                               \r"
     ]
    },
    {
     "name": "stdout",
     "output_type": "stream",
     "text": [
      "Epoch 12/20\n",
      "  Train Loss: 0.3128 | AUCROC: 0.8223 | AUPRC: 0.4663\n",
      "  Val   Loss: 0.3076 | AUCROC: 0.8420 | AUPRC: 0.5126\n",
      "\n"
     ]
    },
    {
     "name": "stderr",
     "output_type": "stream",
     "text": [
      "                                                                               \r"
     ]
    },
    {
     "name": "stdout",
     "output_type": "stream",
     "text": [
      "Epoch 13/20\n",
      "  Train Loss: 0.3145 | AUCROC: 0.8196 | AUPRC: 0.4588\n",
      "  Val   Loss: 0.3069 | AUCROC: 0.8424 | AUPRC: 0.5095\n",
      "\n"
     ]
    },
    {
     "name": "stderr",
     "output_type": "stream",
     "text": [
      "                                                                               \r"
     ]
    },
    {
     "name": "stdout",
     "output_type": "stream",
     "text": [
      "Epoch 14/20\n",
      "  Train Loss: 0.3164 | AUCROC: 0.8184 | AUPRC: 0.4548\n",
      "  Val   Loss: 0.3124 | AUCROC: 0.8421 | AUPRC: 0.5102\n",
      "\n"
     ]
    },
    {
     "name": "stderr",
     "output_type": "stream",
     "text": [
      "                                                                               \r"
     ]
    },
    {
     "name": "stdout",
     "output_type": "stream",
     "text": [
      "Epoch 15/20\n",
      "  Train Loss: 0.3097 | AUCROC: 0.8269 | AUPRC: 0.4787\n",
      "  Val   Loss: 0.3086 | AUCROC: 0.8435 | AUPRC: 0.5106\n",
      "\n"
     ]
    },
    {
     "name": "stderr",
     "output_type": "stream",
     "text": [
      "                                                                               \r"
     ]
    },
    {
     "name": "stdout",
     "output_type": "stream",
     "text": [
      "Epoch 16/20\n",
      "  Train Loss: 0.3109 | AUCROC: 0.8260 | AUPRC: 0.4723\n",
      "  Val   Loss: 0.3064 | AUCROC: 0.8428 | AUPRC: 0.5159\n",
      "\n"
     ]
    },
    {
     "name": "stderr",
     "output_type": "stream",
     "text": [
      "                                                                               \r"
     ]
    },
    {
     "name": "stdout",
     "output_type": "stream",
     "text": [
      "Epoch 17/20\n",
      "  Train Loss: 0.3113 | AUCROC: 0.8211 | AUPRC: 0.4848\n",
      "  Val   Loss: 0.3408 | AUCROC: 0.8427 | AUPRC: 0.5155\n",
      "\n"
     ]
    },
    {
     "name": "stderr",
     "output_type": "stream",
     "text": [
      "                                                                               \r"
     ]
    },
    {
     "name": "stdout",
     "output_type": "stream",
     "text": [
      "Epoch 18/20\n",
      "  Train Loss: 0.3112 | AUCROC: 0.8258 | AUPRC: 0.4720\n",
      "  Val   Loss: 0.3095 | AUCROC: 0.8440 | AUPRC: 0.5132\n",
      "\n"
     ]
    },
    {
     "name": "stderr",
     "output_type": "stream",
     "text": [
      "                                                                               \r"
     ]
    },
    {
     "name": "stdout",
     "output_type": "stream",
     "text": [
      "Epoch 19/20\n",
      "  Train Loss: 0.3122 | AUCROC: 0.8227 | AUPRC: 0.4742\n",
      "  Val   Loss: 0.3218 | AUCROC: 0.8440 | AUPRC: 0.5144\n",
      "\n"
     ]
    },
    {
     "name": "stderr",
     "output_type": "stream",
     "text": [
      "                                                                               "
     ]
    },
    {
     "name": "stdout",
     "output_type": "stream",
     "text": [
      "Epoch 20/20\n",
      "  Train Loss: 0.3084 | AUCROC: 0.8304 | AUPRC: 0.4771\n",
      "  Val   Loss: 0.3070 | AUCROC: 0.8415 | AUPRC: 0.5178\n",
      "\n"
     ]
    },
    {
     "name": "stderr",
     "output_type": "stream",
     "text": [
      "\r"
     ]
    }
   ],
   "source": [
    "# Train the Transformer model\n",
    "model_transformer = TransformerClassifier(input_size=input_size).to(device)\n",
    "criterion = nn.BCEWithLogitsLoss()\n",
    "optimizer = torch.optim.Adam(model_transformer.parameters(), lr=0.001)\n",
    "\n",
    "model_transformer = train_model_with_validation(model_transformer, train_loader, validation_loader, criterion, optimizer, device)"
   ]
  },
  {
   "cell_type": "code",
   "execution_count": 21,
   "metadata": {},
   "outputs": [
    {
     "name": "stderr",
     "output_type": "stream",
     "text": [
      "                                                                        "
     ]
    },
    {
     "name": "stdout",
     "output_type": "stream",
     "text": [
      "Evaluation - Loss: 0.3196 - AUCROC: 0.8426 - AUPRC: 0.5114\n",
      "Test Loss: 0.3196, AUC-ROC: 0.8426, AUC-PRC: 0.5114\n"
     ]
    },
    {
     "name": "stderr",
     "output_type": "stream",
     "text": [
      "\r"
     ]
    }
   ],
   "source": [
    "# Evaluate the model\n",
    "avg_loss, aucroc, auprc = evaluate_model(model_transformer, test_loader, criterion, device)\n",
    "print(f\"Test Loss: {avg_loss:.4f}, AUC-ROC: {aucroc:.4f}, AUC-PRC: {auprc:.4f}\")"
   ]
  },
  {
   "cell_type": "markdown",
   "metadata": {},
   "source": [
    "# Q2.3 Tokenizing "
   ]
  },
  {
   "cell_type": "code",
   "execution_count": null,
   "metadata": {},
   "outputs": [
    {
     "data": {
      "text/plain": [
       "((183416, 42), (183495, 42), (183711, 42))"
      ]
     },
     "execution_count": 23,
     "metadata": {},
     "output_type": "execute_result"
    }
   ],
   "source": [
    "# For this part we need the scaled data with simple\n",
    "set_a_initial, set_b_initial, set_c_initial = set_a_scaled, set_b_scaled, set_c_scaled\n",
    "set_a_scaled.shape, set_b_scaled.shape, set_c_scaled.shape"
   ]
  },
  {
   "cell_type": "markdown",
   "metadata": {},
   "source": [
    "## Create the TZV Dataframe (following Horn et al.)"
   ]
  },
  {
   "cell_type": "code",
   "execution_count": null,
   "metadata": {},
   "outputs": [],
   "source": [
    "import pandas as pd\n",
    "def build_TZV_dataframe(original_df, label_df, base_time=\"2025-03-10 00:00:00\", duration_hours=48): \n",
    "    \"\"\" \n",
    "        Build a long-format dataframe with columns [T, Z, V, y] from an original wide dataframe.\n",
    "        Parameters:\n",
    "            original_df (pd.DataFrame): DataFrame with columns [RecordID, Time, f1, f2, ..., f41] (already scaled).\n",
    "            label_df (pd.DataFrame): DataFrame with columns [RecordID, y] containing the label for each RecordID.\n",
    "            base_time (str): Base time used for normalizing the Time column.\n",
    "            duration_hours (int): The duration (in hours) from base_time over which Time is normalized (here, 48 hours).\n",
    "\n",
    "        Returns:\n",
    "            long_df (pd.DataFrame): Long-format dataframe with columns:\n",
    "                                    T: normalized time [0, 1],\n",
    "                                    Z: index of the feature,\n",
    "                                    V: measurement value,\n",
    "                                    y: label corresponding to RecordID.\n",
    "            feature_to_index (dict): Mapping from original feature names to integer indices.\n",
    "    \"\"\"\n",
    "    # Merge the labels with the original dataframe using RecordID.\n",
    "    df = original_df.copy().merge(label_df, on=\"RecordID\", how=\"left\")\n",
    "\n",
    "    # Convert Time to datetime and compute normalized time T.\n",
    "    df[\"Time\"] = pd.to_datetime(df[\"Time\"])\n",
    "    start_time = pd.to_datetime(base_time)\n",
    "    end_time = start_time + pd.Timedelta(hours=duration_hours)\n",
    "    total_seconds = (end_time - start_time).total_seconds()\n",
    "    df[\"T\"] = (df[\"Time\"] - start_time).dt.total_seconds() / total_seconds\n",
    "\n",
    "    # Identify feature columns: all columns except RecordID, Time, T, and the label column.\n",
    "    # Here, assuming the label column is named \"In-hospital_death\".\n",
    "    feature_cols = [col for col in df.columns if col not in [\"RecordID\", \"Time\", \"T\", \"In-hospital_death\"]]\n",
    "\n",
    "    # Since the features are already scaled, we skip the scaling step.\n",
    "\n",
    "    # Melt the dataframe from wide to long format.\n",
    "    long_df = pd.melt(df, id_vars=[\"T\", \"In-hospital_death\"], value_vars=feature_cols, \n",
    "                    var_name=\"Z\", value_name=\"V\")\n",
    "\n",
    "    # Map feature names to indices for the \"Z\" column.\n",
    "    feature_to_index = {feat: idx for idx, feat in enumerate(feature_cols)}\n",
    "    long_df[\"Z\"] = long_df[\"Z\"].map(feature_to_index)\n",
    "\n",
    "    # Sort the final dataframe by normalized time T and reset the index.\n",
    "    long_df = long_df.sort_values(\"T\").reset_index(drop=True)\n",
    "    long_df = long_df.dropna(subset=[\"V\"])\n",
    "\n",
    "    return long_df, feature_to_index"
   ]
  },
  {
   "cell_type": "code",
   "execution_count": null,
   "metadata": {},
   "outputs": [],
   "source": [
    "# Build the TZV dataframes\n",
    "TZV_a, feature_to_index_a = build_TZV_dataframe(set_a_initial, death_a)\n",
    "TZV_b, feature_to_index_b = build_TZV_dataframe(set_b_initial, death_b)\n",
    "TZV_c, feature_to_index_c = build_TZV_dataframe(set_c_initial, death_c)\n",
    "\n",
    "print(TZV_a.shape)\n",
    "TZV_a.head(10)"
   ]
  },
  {
   "cell_type": "code",
   "execution_count": null,
   "metadata": {},
   "outputs": [],
   "source": [
    "# Check for the total number of not NaN values under some specified columns\n",
    "selected_cols = [col for col in set_a_initial.columns if col not in [\"RecordID\", \"Time\"]]\n",
    "set_a_initial[selected_cols].notna().sum().sum()"
   ]
  },
  {
   "cell_type": "markdown",
   "metadata": {},
   "source": [
    "Checked that the number of not NaN values is the same as the rows of the new dataframe! Let's go\n",
    "(We have to believe in this format)"
   ]
  },
  {
   "cell_type": "markdown",
   "metadata": {},
   "source": [
    "## Train the TZV Format with a Transformer"
   ]
  },
  {
   "cell_type": "code",
   "execution_count": null,
   "metadata": {},
   "outputs": [],
   "source": [
    "# Remove the In-hospital_death column from the TZV dataframes, but save it\n",
    "y_a = TZV_a.pop(\"In-hospital_death\")\n",
    "y_b = TZV_b.pop(\"In-hospital_death\")\n",
    "y_c = TZV_c.pop(\"In-hospital_death\")\n",
    "\n",
    "# Convert the TZV dataframes to PyTorch tensors\n",
    "X_a = torch.tensor(TZV_a[[\"T\", \"Z\", \"V\"]].values, dtype=torch.float32)\n",
    "X_b = torch.tensor(TZV_b[[\"T\", \"Z\", \"V\"]].values, dtype=torch.float32)\n",
    "X_c = torch.tensor(TZV_c[[\"T\", \"Z\", \"V\"]].values, dtype=torch.float32)\n",
    "print(X_a.shape, X_b.shape, X_c.shape)\n",
    "\n",
    "# Create the datasets and dataloaders\n",
    "from torch.utils.data import TensorDataset\n",
    "\n",
    "dataset_a = TensorDataset(X_a, torch.tensor(y_a.values, dtype=torch.float32))\n",
    "dataset_b = TensorDataset(X_b, torch.tensor(y_b.values, dtype=torch.float32))\n",
    "dataset_c = TensorDataset(X_c, torch.tensor(y_c.values, dtype=torch.float32))\n",
    "\n",
    "loader_a = DataLoader(dataset_a, batch_size=64, shuffle=True)\n",
    "loader_b = DataLoader(dataset_b, batch_size=64, shuffle=False)\n",
    "loader_c = DataLoader(dataset_c, batch_size=64, shuffle=False)"
   ]
  },
  {
   "cell_type": "code",
   "execution_count": null,
   "metadata": {},
   "outputs": [],
   "source": [
    "model_tvz = TransformerClassifier(input_size=3).to(device)\n",
    "criterion = nn.BCEWithLogitsLoss()\n",
    "optimizer = torch.optim.Adam(model_tvz.parameters(), lr=0.001)\n",
    "\n",
    "model_tvz = train_model_with_validation(model_tvz, loader_a, loader_b, criterion, optimizer, device)"
   ]
  }
 ],
 "metadata": {
  "kernelspec": {
   "display_name": "TUM",
   "language": "python",
   "name": "python3"
  },
  "language_info": {
   "codemirror_mode": {
    "name": "ipython",
    "version": 3
   },
   "file_extension": ".py",
   "mimetype": "text/x-python",
   "name": "python",
   "nbconvert_exporter": "python",
   "pygments_lexer": "ipython3",
   "version": "3.12.3"
  }
 },
 "nbformat": 4,
 "nbformat_minor": 2
}
